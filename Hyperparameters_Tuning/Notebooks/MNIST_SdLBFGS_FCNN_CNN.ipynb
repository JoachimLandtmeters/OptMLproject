{
 "cells": [
  {
   "cell_type": "code",
   "execution_count": 1,
   "metadata": {
    "colab": {
     "base_uri": "https://localhost:8080/",
     "height": 51
    },
    "colab_type": "code",
    "id": "UffCtqzQe6Wi",
    "outputId": "a8e5133e-452f-44bd-eeda-cdcbb59f81ef"
   },
   "outputs": [],
   "source": [
    "%matplotlib inline\n",
    "\n",
    "import numpy as np\n",
    "import torch\n",
    "import matplotlib.pyplot as plt\n",
    "\n",
    "#from helper2 import generate_dataset, visualize_one_dataset, visualize_datasets, predict_grid, visualize_predictions\n",
    "from torch.utils import data\n",
    "\n",
    "%load_ext autoreload\n",
    "%autoreload 2\n",
    "\n",
    "import torchvision\n",
    "\n",
    "from time import time\n",
    "from torchvision import datasets, transforms\n",
    "from torch import nn, optim\n",
    "import torch.nn.functional as F\n",
    "\n",
    "from sdlbfgs import *\n",
    "from helper import *"
   ]
  },
  {
   "cell_type": "code",
   "execution_count": 0,
   "metadata": {
    "colab": {},
    "colab_type": "code",
    "id": "Q69kuSpSe6W2"
   },
   "outputs": [],
   "source": [
    "transform = transforms.Compose([transforms.ToTensor(),\n",
    "                              transforms.Normalize((0.5,), (0.5,)),\n",
    "                              ])"
   ]
  },
  {
   "cell_type": "markdown",
   "metadata": {
    "colab_type": "text",
    "id": "-9xKsqWne6Xv"
   },
   "source": [
    "### MNIST dataset\n",
    "The MNIST dataset is loaded."
   ]
  },
  {
   "cell_type": "code",
   "execution_count": 4,
   "metadata": {
    "colab": {
     "base_uri": "https://localhost:8080/",
     "height": 667,
     "referenced_widgets": [
      "d786d1185a3e474184f81cdad45a7bbe",
      "39c526b117334fc0bc4c9e5a2af3c124",
      "285f29331cbf453ba0bb1b4b306cecab",
      "ed682b45ca444ced95ab9261d62bee3a",
      "1c001913037548e1b4e54adcd4c5976a",
      "1e3beaf27b8d4d3995aad4938e72c5be",
      "4fbdb5c186704dbf8005fcd2a5ca05b8",
      "12f84509a65742a48d66856b38cd1c98",
      "05836975b6ba4ac78b4d706149438729",
      "ed580791373148c79c670df05a83340e",
      "43361cc83e804e428eb0a729bae39bfd",
      "d3f55f8aa92b4840b024ddfa914ab4e8",
      "0f63620a482c4249812467fdf28651a5",
      "cbee96d3071445cfbfc7fc62d948daf7",
      "17e84b43e32c4c8aa8a333270fb0fc71",
      "d2c197b971af43d2921f9fa10612baf7",
      "a29d833ef26b440da7860fed8ba34c3a",
      "00fa5249bad24cf28706c8908a5109c8",
      "65fabb07c57c4483a80ecdbc4a0f4416",
      "2eac02d62522430bb2bbea1cd68b6006",
      "51de027408604b749372f763a1258b30",
      "e04d4bef00c74a9a9f6af4c3bc9eebdf",
      "01789712cb904cc88c4e10305485f3bc",
      "a07902338b0b46f8862b58d991312749",
      "c92154e8a6f84179a316b216fa051b6d",
      "481691318dde471b86266fa1dbef09c0",
      "bae285a23c1b4482ac041a55becc5586",
      "aed31ef77c56420689f15c0d919b59c7",
      "df503a8d05b348d0a025698efdda9e39",
      "bf199a69b64d4f5cad86f707f3ae1e5a",
      "5e43274757c449b39e0c5a922d8bf508",
      "e6e25c3b248a4bdaa5b048c36c21408f",
      "548b2916629645499bc720ba97dd90e2",
      "8f95ba060ccc4d8b9424667b0217ae08",
      "ae1cd3e0757442c895e921a3400d2429",
      "8a4c2cad7e884524acfd1f64f489cbbf",
      "8c32faf062254780a172f2e35f7f7922",
      "e9057bddba6f492a8c696250f9c3f9c6",
      "df91da5477dc44f4b6bebe9618454a24",
      "f66ebfcbbb3a4665b5ffe181cd9ead19",
      "7a3e48660a504d0c899a897c4d8d9c7e",
      "69813ff02630493bab308626121876fd",
      "0b9c64fe5baa45f0a181304c46349c11",
      "97a905649b6b470191b5a74954d4cdbc",
      "bcbc45f7c10a48eaa0408c98c23942a6",
      "3da1fb38c29f4c8babd3f7a9e83adacb",
      "52731a4b217e4800a9898b492fd8376e",
      "29190c992632493987f07d39715e1a29",
      "5c9fd6afe6ce4bebaec1e8a7531d9e54",
      "b7c213f903d04c2fa5aa9978255574f5",
      "751d8c2c05e44dfe931f50f313bc6367",
      "30445be09f654ba0a72bf2c8ab4a15ad",
      "39def9bfd62e489bbc33ac1420bb9ec1",
      "f94f1fcfbb4c492cb7f3e145fd680518",
      "9e7cfbe1ef43460f8a5787bc907d383e",
      "5cd13179b30f46fe8658de947ee7106d",
      "67f08aad860a45878ad2a68ef3dd858b",
      "b99c5ce0e1a440e08fdb16f743ab3574",
      "73bca369b2be4cfe88a9d4c794cf2422",
      "e81e6211464246d188ed58a7f443e810",
      "eae3b7bd0dfb4373a5dd06dd29537dcc",
      "ae1d3af36a124ba2a1d345a4d4be3758",
      "4184c1b708d64871a03b581b8f935d15",
      "422edbf56c704b3e976e3563be300d16"
     ]
    },
    "colab_type": "code",
    "id": "Pll8VA1Ee6X7",
    "outputId": "cce0e51c-1812-4e18-94ee-89bc05d7f48f",
    "scrolled": true
   },
   "outputs": [
    {
     "name": "stdout",
     "output_type": "stream",
     "text": [
      "Downloading http://yann.lecun.com/exdb/mnist/train-images-idx3-ubyte.gz to MNIST/raw/train-images-idx3-ubyte.gz\n"
     ]
    },
    {
     "data": {
      "application/vnd.jupyter.widget-view+json": {
       "model_id": "d786d1185a3e474184f81cdad45a7bbe",
       "version_major": 2,
       "version_minor": 0
      },
      "text/plain": [
       "HBox(children=(FloatProgress(value=1.0, bar_style='info', max=1.0), HTML(value='')))"
      ]
     },
     "metadata": {
      "tags": []
     },
     "output_type": "display_data"
    },
    {
     "name": "stdout",
     "output_type": "stream",
     "text": [
      "Extracting MNIST/raw/train-images-idx3-ubyte.gz to MNIST/raw\n",
      "Downloading http://yann.lecun.com/exdb/mnist/train-labels-idx1-ubyte.gz to MNIST/raw/train-labels-idx1-ubyte.gz\n"
     ]
    },
    {
     "data": {
      "application/vnd.jupyter.widget-view+json": {
       "model_id": "05836975b6ba4ac78b4d706149438729",
       "version_major": 2,
       "version_minor": 0
      },
      "text/plain": [
       "HBox(children=(FloatProgress(value=1.0, bar_style='info', max=1.0), HTML(value='')))"
      ]
     },
     "metadata": {
      "tags": []
     },
     "output_type": "display_data"
    },
    {
     "name": "stdout",
     "output_type": "stream",
     "text": [
      "Extracting MNIST/raw/train-labels-idx1-ubyte.gz to MNIST/raw\n",
      "Downloading http://yann.lecun.com/exdb/mnist/t10k-images-idx3-ubyte.gz to MNIST/raw/t10k-images-idx3-ubyte.gz\n",
      "\n"
     ]
    },
    {
     "data": {
      "application/vnd.jupyter.widget-view+json": {
       "model_id": "a29d833ef26b440da7860fed8ba34c3a",
       "version_major": 2,
       "version_minor": 0
      },
      "text/plain": [
       "HBox(children=(FloatProgress(value=1.0, bar_style='info', max=1.0), HTML(value='')))"
      ]
     },
     "metadata": {
      "tags": []
     },
     "output_type": "display_data"
    },
    {
     "name": "stdout",
     "output_type": "stream",
     "text": [
      "Extracting MNIST/raw/t10k-images-idx3-ubyte.gz to MNIST/raw\n",
      "Downloading http://yann.lecun.com/exdb/mnist/t10k-labels-idx1-ubyte.gz to MNIST/raw/t10k-labels-idx1-ubyte.gz\n"
     ]
    },
    {
     "data": {
      "application/vnd.jupyter.widget-view+json": {
       "model_id": "c92154e8a6f84179a316b216fa051b6d",
       "version_major": 2,
       "version_minor": 0
      },
      "text/plain": [
       "HBox(children=(FloatProgress(value=1.0, bar_style='info', max=1.0), HTML(value='')))"
      ]
     },
     "metadata": {
      "tags": []
     },
     "output_type": "display_data"
    },
    {
     "name": "stdout",
     "output_type": "stream",
     "text": [
      "Extracting MNIST/raw/t10k-labels-idx1-ubyte.gz to MNIST/raw\n",
      "Processing...\n",
      "Done!\n",
      "Downloading http://yann.lecun.com/exdb/mnist/train-images-idx3-ubyte.gz to PATH_TO_STORE_TESTSET/MNIST/raw/train-images-idx3-ubyte.gz\n"
     ]
    },
    {
     "name": "stderr",
     "output_type": "stream",
     "text": [
      "/pytorch/torch/csrc/utils/tensor_numpy.cpp:141: UserWarning: The given NumPy array is not writeable, and PyTorch does not support non-writeable tensors. This means you can write to the underlying (supposedly non-writeable) NumPy array using the tensor. You may want to copy the array to protect its data or make it writeable before converting it to a tensor. This type of warning will be suppressed for the rest of this program.\n"
     ]
    },
    {
     "data": {
      "application/vnd.jupyter.widget-view+json": {
       "model_id": "548b2916629645499bc720ba97dd90e2",
       "version_major": 2,
       "version_minor": 0
      },
      "text/plain": [
       "HBox(children=(FloatProgress(value=1.0, bar_style='info', max=1.0), HTML(value='')))"
      ]
     },
     "metadata": {
      "tags": []
     },
     "output_type": "display_data"
    },
    {
     "name": "stdout",
     "output_type": "stream",
     "text": [
      "Extracting PATH_TO_STORE_TESTSET/MNIST/raw/train-images-idx3-ubyte.gz to PATH_TO_STORE_TESTSET/MNIST/raw\n",
      "Downloading http://yann.lecun.com/exdb/mnist/train-labels-idx1-ubyte.gz to PATH_TO_STORE_TESTSET/MNIST/raw/train-labels-idx1-ubyte.gz\n"
     ]
    },
    {
     "data": {
      "application/vnd.jupyter.widget-view+json": {
       "model_id": "7a3e48660a504d0c899a897c4d8d9c7e",
       "version_major": 2,
       "version_minor": 0
      },
      "text/plain": [
       "HBox(children=(FloatProgress(value=1.0, bar_style='info', max=1.0), HTML(value='')))"
      ]
     },
     "metadata": {
      "tags": []
     },
     "output_type": "display_data"
    },
    {
     "name": "stdout",
     "output_type": "stream",
     "text": [
      "Extracting PATH_TO_STORE_TESTSET/MNIST/raw/train-labels-idx1-ubyte.gz to PATH_TO_STORE_TESTSET/MNIST/raw\n",
      "Downloading http://yann.lecun.com/exdb/mnist/t10k-images-idx3-ubyte.gz to PATH_TO_STORE_TESTSET/MNIST/raw/t10k-images-idx3-ubyte.gz\n"
     ]
    },
    {
     "data": {
      "application/vnd.jupyter.widget-view+json": {
       "model_id": "5c9fd6afe6ce4bebaec1e8a7531d9e54",
       "version_major": 2,
       "version_minor": 0
      },
      "text/plain": [
       "HBox(children=(FloatProgress(value=1.0, bar_style='info', max=1.0), HTML(value='')))"
      ]
     },
     "metadata": {
      "tags": []
     },
     "output_type": "display_data"
    },
    {
     "name": "stdout",
     "output_type": "stream",
     "text": [
      "Extracting PATH_TO_STORE_TESTSET/MNIST/raw/t10k-images-idx3-ubyte.gz to PATH_TO_STORE_TESTSET/MNIST/raw\n",
      "Downloading http://yann.lecun.com/exdb/mnist/t10k-labels-idx1-ubyte.gz to PATH_TO_STORE_TESTSET/MNIST/raw/t10k-labels-idx1-ubyte.gz\n"
     ]
    },
    {
     "data": {
      "application/vnd.jupyter.widget-view+json": {
       "model_id": "67f08aad860a45878ad2a68ef3dd858b",
       "version_major": 2,
       "version_minor": 0
      },
      "text/plain": [
       "HBox(children=(FloatProgress(value=1.0, bar_style='info', max=1.0), HTML(value='')))"
      ]
     },
     "metadata": {
      "tags": []
     },
     "output_type": "display_data"
    },
    {
     "name": "stdout",
     "output_type": "stream",
     "text": [
      "Extracting PATH_TO_STORE_TESTSET/MNIST/raw/t10k-labels-idx1-ubyte.gz to PATH_TO_STORE_TESTSET/MNIST/raw\n",
      "Processing...\n",
      "Done!\n"
     ]
    }
   ],
   "source": [
    "trainset = datasets.MNIST('', download=True, train=True, transform=transform)\n",
    "valset = datasets.MNIST('', download=True, train=False, transform=transform)\n",
    "trainloader = torch.utils.data.DataLoader(trainset, batch_size=64, shuffle=True)\n",
    "valloader = torch.utils.data.DataLoader(valset, batch_size=64, shuffle=True)"
   ]
  },
  {
   "cell_type": "code",
   "execution_count": 5,
   "metadata": {
    "colab": {
     "base_uri": "https://localhost:8080/",
     "height": 408
    },
    "colab_type": "code",
    "id": "JNqIMib3e6Yt",
    "outputId": "011696c7-1f7d-4ecc-b0fa-afb12b23a183"
   },
   "outputs": [
    {
     "name": "stdout",
     "output_type": "stream",
     "text": [
      "Training and test sets information is displayed.\n",
      "\n",
      "\n",
      "Trainset:\n",
      " Dataset MNIST\n",
      "    Number of datapoints: 60000\n",
      "    Root location: \n",
      "    Split: Train\n",
      "    StandardTransform\n",
      "Transform: Compose(\n",
      "               ToTensor()\n",
      "               Normalize(mean=(0.5,), std=(0.5,))\n",
      "           )\n",
      "Testset:\n",
      " Dataset MNIST\n",
      "    Number of datapoints: 10000\n",
      "    Root location: PATH_TO_STORE_TESTSET\n",
      "    Split: Test\n",
      "    StandardTransform\n",
      "Transform: Compose(\n",
      "               ToTensor()\n",
      "               Normalize(mean=(0.5,), std=(0.5,))\n",
      "           )\n"
     ]
    }
   ],
   "source": [
    "print(\"Training and test sets information is displayed.\\n\\n\")\n",
    "print(\"Trainset:\\n\",trainset)\n",
    "print(\"Testset:\\n\",valset)"
   ]
  },
  {
   "cell_type": "markdown",
   "metadata": {
    "colab_type": "text",
    "id": "zBiDKkW5e6Zd"
   },
   "source": [
    "64 images in each batch and each image has a dimension of 28 x 28 pixels\n"
   ]
  },
  {
   "cell_type": "code",
   "execution_count": 6,
   "metadata": {
    "colab": {
     "base_uri": "https://localhost:8080/",
     "height": 297
    },
    "colab_type": "code",
    "id": "HIuPhUYHe6Zd",
    "outputId": "e98246ae-6bae-4e3c-a177-197e1938f7b0"
   },
   "outputs": [
    {
     "name": "stdout",
     "output_type": "stream",
     "text": [
      "\n",
      "\n",
      "\n"
     ]
    },
    {
     "data": {
      "image/png": "[encoded data removed]",
      "text/plain": [
       "<Figure size 432x288 with 60 Axes>"
      ]
     },
     "metadata": {
      "needs_background": "light",
      "tags": []
     },
     "output_type": "display_data"
    }
   ],
   "source": [
    "# A subset of a batch is plotted to show a sample of the dataset. \n",
    "dataiter = iter(trainloader)\n",
    "images, labels = dataiter.next()\n",
    "figure = plt.figure()\n",
    "num_of_images = 60\n",
    "for index in range(1, num_of_images + 1):\n",
    "    plt.subplot(6, 10, index)\n",
    "    plt.axis('off')\n",
    "    plt.imshow(images[index].numpy().squeeze(), cmap='gray_r')"
   ]
  },
  {
   "cell_type": "markdown",
   "metadata": {
    "colab_type": "text",
    "id": "zVdpSI64e6Zg"
   },
   "source": [
    "# Neural Network "
   ]
  },
  {
   "cell_type": "markdown",
   "metadata": {
    "colab_type": "text",
    "id": "0SRIuSRae6Zh"
   },
   "source": [
    "### Model definition\n",
    "The model is defined, specifying the structure of the neural network."
   ]
  },
  {
   "cell_type": "markdown",
   "metadata": {
    "colab_type": "text",
    "id": "pXTUBzLme6Zi"
   },
   "source": [
    "### Model A: FCNN\n",
    "Fully connected neural network, with hidden layer structure through vector *hidden_sizes*."
   ]
  },
  {
   "cell_type": "code",
   "execution_count": 7,
   "metadata": {
    "colab": {
     "base_uri": "https://localhost:8080/",
     "height": 153
    },
    "colab_type": "code",
    "id": "7oQX4smye6Zj",
    "outputId": "a01f3ec4-67c3-48a2-d70c-a24e23b75c1c"
   },
   "outputs": [
    {
     "name": "stdout",
     "output_type": "stream",
     "text": [
      "Sequential(\n",
      "  (0): Linear(in_features=784, out_features=128, bias=True)\n",
      "  (1): ReLU()\n",
      "  (2): Linear(in_features=128, out_features=64, bias=True)\n",
      "  (3): ReLU()\n",
      "  (4): Linear(in_features=64, out_features=10, bias=True)\n",
      "  (5): LogSoftmax()\n",
      ")\n"
     ]
    }
   ],
   "source": [
    "# Input and output sizes and network structure are defined.\n",
    "input_size = 784\n",
    "output_size = 10\n",
    "sizes = [input_size,128,64,output_size]\n",
    "\n",
    "# The model is built\n",
    "modelA=fully_connected_NN(sizes)\n",
    "print(modelA)\n",
    "\n",
    "# Loss of the model is defined.\n",
    "criterion = nn.NLLLoss()"
   ]
  },
  {
   "cell_type": "markdown",
   "metadata": {
    "colab_type": "text",
    "id": "a8wrBfdqe6Zo"
   },
   "source": [
    "### Model B: CNN\n",
    "Convolutional neural network composed of two convolutional layers and two fully connected layers."
   ]
  },
  {
   "cell_type": "code",
   "execution_count": null,
   "metadata": {
    "colab": {
     "base_uri": "https://localhost:8080/",
     "height": 334
    },
    "colab_type": "code",
    "id": "pPMmKMO6e6Zp",
    "outputId": "0a1e09ab-223e-4f03-e834-6528c4397cb3"
   },
   "outputs": [],
   "source": [
    "# The size of the images is computed.\n",
    "images,_=dataiter.next()\n",
    "image_size=images[0].shape[1]\n",
    "# Using nn.CrossEntropyLoss allows to avoid specifying LogSoftmax as final layer.\n",
    "criterion = nn.CrossEntropyLoss()\n",
    "# Depending on the size of the image, a CNN model is built.\n",
    "modelB=ConvNet(image_size)\n",
    "print(modelB)"
   ]
  },
  {
   "cell_type": "markdown",
   "metadata": {
    "colab_type": "text",
    "id": "QlpNdUNme6bC"
   },
   "source": [
    "## SdLBFGS"
   ]
  },
  {
   "cell_type": "markdown",
   "metadata": {
    "colab_type": "text",
    "id": "yYgGbp2he6bC"
   },
   "source": [
    "### Fully connected network"
   ]
  },
  {
   "cell_type": "code",
   "execution_count": 9,
   "metadata": {
    "colab": {
     "base_uri": "https://localhost:8080/",
     "height": 1000
    },
    "colab_type": "code",
    "id": "PbimEzp6e6bD",
    "outputId": "e34eb53d-0e89-4e84-da04-2cda1febfdee",
    "scrolled": true
   },
   "outputs": [
    {
     "name": "stdout",
     "output_type": "stream",
     "text": [
      "Epoch 0\n"
     ]
    },
    {
     "name": "stderr",
     "output_type": "stream",
     "text": [
      "/pytorch/torch/csrc/utils/python_arg_parser.cpp:756: UserWarning: This overload of add_ is deprecated:\n",
      "\tadd_(Number alpha, Tensor other)\n",
      "Consider using one of the following signatures instead:\n",
      "\tadd_(Tensor other, *, Number alpha)\n"
     ]
    },
    {
     "name": "stdout",
     "output_type": "stream",
     "text": [
      "Training loss: 0.31607011229848303\n",
      "Number Of Images Tested = 10000\n",
      "Model Accuracy = 0.9377\n",
      "Number Of Images Tested = 60000\n",
      "Model Accuracy = 0.9391166666666667\n",
      "Test loss: 0.20666327285965916 \n",
      "\n",
      "Epoch 1\n",
      "Training loss: 0.18689704414155248\n",
      "Number Of Images Tested = 10000\n",
      "Model Accuracy = 0.9491\n",
      "Number Of Images Tested = 60000\n",
      "Model Accuracy = 0.9530333333333333\n",
      "Test loss: 0.17010210038038195 \n",
      "\n",
      "Epoch 2\n",
      "Training loss: 0.16468868326487096\n",
      "Number Of Images Tested = 10000\n",
      "Model Accuracy = 0.9525\n",
      "Number Of Images Tested = 60000\n",
      "Model Accuracy = 0.9558333333333333\n",
      "Test loss: 0.16355203343614652 \n",
      "\n",
      "Epoch 3\n",
      "Training loss: 0.15544213183414834\n",
      "Number Of Images Tested = 10000\n",
      "Model Accuracy = 0.954\n",
      "Number Of Images Tested = 60000\n",
      "Model Accuracy = 0.9560833333333333\n",
      "Test loss: 0.15820328065544176 \n",
      "\n",
      "Epoch 4\n",
      "Training loss: 0.14473956363595356\n",
      "Number Of Images Tested = 10000\n",
      "Model Accuracy = 0.9567\n",
      "Number Of Images Tested = 60000\n",
      "Model Accuracy = 0.9595\n",
      "Test loss: 0.14944426139081074 \n",
      "\n",
      "Epoch 5\n",
      "Training loss: 0.1440665862182461\n",
      "Number Of Images Tested = 10000\n",
      "Model Accuracy = 0.9584\n",
      "Number Of Images Tested = 60000\n",
      "Model Accuracy = 0.9623\n",
      "Test loss: 0.15086365952660705 \n",
      "\n",
      "Epoch 6\n",
      "Training loss: 0.13807953129582573\n",
      "Number Of Images Tested = 10000\n",
      "Model Accuracy = 0.9596\n",
      "Number Of Images Tested = 60000\n",
      "Model Accuracy = 0.9627666666666667\n",
      "Test loss: 0.14584322955910187 \n",
      "\n",
      "Epoch 7\n",
      "Training loss: 0.13222437382026364\n",
      "Number Of Images Tested = 10000\n",
      "Model Accuracy = 0.9591\n",
      "Number Of Images Tested = 60000\n",
      "Model Accuracy = 0.9650333333333333\n",
      "Test loss: 0.1464707799831251 \n",
      "\n",
      "Epoch 8\n",
      "Training loss: 0.13115304969658237\n",
      "Number Of Images Tested = 10000\n",
      "Model Accuracy = 0.9586\n",
      "Number Of Images Tested = 60000\n",
      "Model Accuracy = 0.9668\n",
      "Test loss: 0.14676891704487383 \n",
      "\n",
      "Epoch 9\n",
      "Training loss: 0.12812948838121563\n",
      "Number Of Images Tested = 10000\n",
      "Model Accuracy = 0.9621\n",
      "Number Of Images Tested = 60000\n",
      "Model Accuracy = 0.9664666666666667\n",
      "Test loss: 0.14212518822028047 \n",
      "\n",
      "Epoch 10\n",
      "Training loss: 0.12505451365133752\n",
      "Number Of Images Tested = 10000\n",
      "Model Accuracy = 0.9588\n",
      "Number Of Images Tested = 60000\n",
      "Model Accuracy = 0.96605\n",
      "Test loss: 0.14830350331001127 \n",
      "\n",
      "Epoch 11\n",
      "Training loss: 0.12217152914179287\n",
      "Number Of Images Tested = 10000\n",
      "Model Accuracy = 0.9634\n",
      "Number Of Images Tested = 60000\n",
      "Model Accuracy = 0.9681166666666666\n",
      "Test loss: 0.13324677871701834 \n",
      "\n",
      "Epoch 12\n",
      "Training loss: 0.12146976569802491\n",
      "Number Of Images Tested = 10000\n",
      "Model Accuracy = 0.9612\n",
      "Number Of Images Tested = 60000\n",
      "Model Accuracy = 0.9672166666666666\n",
      "Test loss: 0.14301067889092645 \n",
      "\n",
      "Epoch 13\n",
      "Training loss: 0.12235510679232929\n",
      "Number Of Images Tested = 10000\n",
      "Model Accuracy = 0.961\n",
      "Number Of Images Tested = 60000\n",
      "Model Accuracy = 0.9687\n",
      "Test loss: 0.1436780561414209 \n",
      "\n",
      "Epoch 14\n",
      "Training loss: 0.1147646876933204\n",
      "Number Of Images Tested = 10000\n",
      "Model Accuracy = 0.9646\n",
      "Number Of Images Tested = 60000\n",
      "Model Accuracy = 0.9694\n",
      "Test loss: 0.13406717675221955 \n",
      "\n",
      "Epoch 15\n",
      "Training loss: 0.11540183356806967\n",
      "Number Of Images Tested = 10000\n",
      "Model Accuracy = 0.9602\n",
      "Number Of Images Tested = 60000\n",
      "Model Accuracy = 0.9683666666666667\n",
      "Test loss: 0.1444598657144293 \n",
      "\n",
      "Epoch 16\n",
      "Training loss: 0.11374628811739315\n",
      "Number Of Images Tested = 10000\n",
      "Model Accuracy = 0.9643\n",
      "Number Of Images Tested = 60000\n",
      "Model Accuracy = 0.9710666666666666\n",
      "Test loss: 0.1320807092398951 \n",
      "\n",
      "Epoch 17\n",
      "Training loss: 0.11038070952302334\n",
      "Number Of Images Tested = 10000\n",
      "Model Accuracy = 0.9649\n",
      "Number Of Images Tested = 60000\n",
      "Model Accuracy = 0.9716\n",
      "Test loss: 0.1300100022697062 \n",
      "\n",
      "Epoch 18\n",
      "Training loss: 0.11202406445143323\n",
      "Number Of Images Tested = 10000\n",
      "Model Accuracy = 0.9677\n",
      "Number Of Images Tested = 60000\n",
      "Model Accuracy = 0.97155\n",
      "Test loss: 0.13015633534304916 \n",
      "\n",
      "Epoch 19\n",
      "Training loss: 0.1157238294949074\n",
      "Number Of Images Tested = 10000\n",
      "Model Accuracy = 0.9661\n",
      "Number Of Images Tested = 60000\n",
      "Model Accuracy = 0.9711833333333333\n",
      "Test loss: 0.13774946904859867 \n",
      "\n",
      "Epoch 20\n",
      "Training loss: 0.11190666150042801\n",
      "Number Of Images Tested = 10000\n",
      "Model Accuracy = 0.9661\n",
      "Number Of Images Tested = 60000\n",
      "Model Accuracy = 0.97235\n",
      "Test loss: 0.13350039158924037 \n",
      "\n",
      "Epoch 21\n",
      "Training loss: 0.11299571973323298\n",
      "Number Of Images Tested = 10000\n",
      "Model Accuracy = 0.9661\n",
      "Number Of Images Tested = 60000\n",
      "Model Accuracy = 0.9721333333333333\n",
      "Test loss: 0.131979371153358 \n",
      "\n",
      "Epoch 22\n",
      "Training loss: 0.11043755437008171\n",
      "Number Of Images Tested = 10000\n",
      "Model Accuracy = 0.965\n",
      "Number Of Images Tested = 60000\n",
      "Model Accuracy = 0.9726166666666667\n",
      "Test loss: 0.13649072440246204 \n",
      "\n",
      "Epoch 23\n",
      "Training loss: 0.11072829590878511\n",
      "Number Of Images Tested = 10000\n",
      "Model Accuracy = 0.9657\n",
      "Number Of Images Tested = 60000\n",
      "Model Accuracy = 0.9734166666666667\n",
      "Test loss: 0.13244742807668225 \n",
      "\n",
      "Epoch 24\n",
      "Training loss: 0.10768088764184143\n",
      "Number Of Images Tested = 10000\n",
      "Model Accuracy = 0.9669\n",
      "Number Of Images Tested = 60000\n",
      "Model Accuracy = 0.9735\n",
      "Test loss: 0.13096188516860272 \n",
      "\n",
      "Epoch 25\n",
      "Training loss: 0.1104456720780817\n",
      "Number Of Images Tested = 10000\n",
      "Model Accuracy = 0.9674\n",
      "Number Of Images Tested = 60000\n",
      "Model Accuracy = 0.9731\n",
      "Test loss: 0.13782588795129994 \n",
      "\n",
      "Epoch 26\n",
      "Training loss: 0.11218965106950536\n",
      "Number Of Images Tested = 10000\n",
      "Model Accuracy = 0.9659\n",
      "Number Of Images Tested = 60000\n",
      "Model Accuracy = 0.97275\n",
      "Test loss: 0.13605206829768599 \n",
      "\n",
      "Epoch 27\n",
      "Training loss: 0.11203118683281925\n",
      "Number Of Images Tested = 10000\n",
      "Model Accuracy = 0.9665\n",
      "Number Of Images Tested = 60000\n",
      "Model Accuracy = 0.9734666666666667\n",
      "Test loss: 0.13841285997709543 \n",
      "\n",
      "Epoch 28\n",
      "Training loss: 0.11107770958803653\n",
      "Number Of Images Tested = 10000\n",
      "Model Accuracy = 0.9679\n",
      "Number Of Images Tested = 60000\n",
      "Model Accuracy = 0.9736666666666667\n",
      "Test loss: 0.13041419462985981 \n",
      "\n",
      "Epoch 29\n",
      "Training loss: 0.11114185766796264\n",
      "Number Of Images Tested = 10000\n",
      "Model Accuracy = 0.9681\n",
      "Number Of Images Tested = 60000\n",
      "Model Accuracy = 0.97415\n",
      "Test loss: 0.12872292406472918 \n",
      "\n",
      "\n",
      "Training Time (in minutes) = 35.18268299102783\n",
      "\n",
      "\n"
     ]
    }
   ],
   "source": [
    "input_size = 784\n",
    "output_size = 10\n",
    "sizes = [input_size,128,64,output_size]\n",
    "\n",
    "# The model is built\n",
    "model=fully_connected_NN(sizes)\n",
    "# Loss of the model is defined.\n",
    "criterion = nn.NLLLoss()\n",
    "\n",
    "method = \"SdLBFGS\"\n",
    "optimizer = SdLBFGS(model.parameters())\n",
    "\n",
    "epochs = 30\n",
    "train_losses_fcnn, test_losses_fcnn, train_accuracy_fcnn, test_accuracy_fcnn, training_time_fcnn = optimize(optimizer, epochs, trainloader, valloader, model, criterion , method )\n"
   ]
  },
  {
   "cell_type": "code",
   "execution_count": null,
   "metadata": {
    "colab": {
     "base_uri": "https://localhost:8080/",
     "height": 405
    },
    "colab_type": "code",
    "id": "_SOGw0uBA1JF",
    "outputId": "0d5a2422-3f6a-46bf-ea43-b6210868e33b"
   },
   "outputs": [],
   "source": [
    "np.savetxt('/content/drive/My Drive/marghe/dLBFGS_fcNN_trainloss.txt', train_losses_fcnn)\n",
    "np.savetxt('drive/SdLBFGS_fcNN_testloss.txt', test_losses_fcnn)\n",
    "np.savetxt('drive/SdLBFGS_fcNN_trainacc.txt', train_accuracy_fcnn)\n",
    "np.savetxt('drive/SdLBFGS_fcNN_testacc.txt', test_accuracy_fcnn)\n",
    "np.savetxt('drive/SdLBFGS_fcNN_times.txt',training_time_fcnn)"
   ]
  },
  {
   "cell_type": "code",
   "execution_count": 11,
   "metadata": {
    "colab": {
     "base_uri": "https://localhost:8080/",
     "height": 1000
    },
    "colab_type": "code",
    "id": "qjI9dr-LBaLL",
    "outputId": "08e28f2a-6ea3-46ec-db86-a0d8f19a9b76",
    "scrolled": false
   },
   "outputs": [
    {
     "name": "stderr",
     "output_type": "stream",
     "text": [
      "No handles with labels found to put in legend.\n",
      "No handles with labels found to put in legend.\n",
      "No handles with labels found to put in legend.\n",
      "No handles with labels found to put in legend.\n"
     ]
    },
    {
     "data": {
      "image/png": "[encoded data removed]",
      "text/plain": [
       "<Figure size 864x720 with 1 Axes>"
      ]
     },
     "metadata": {
      "needs_background": "light",
      "tags": []
     },
     "output_type": "display_data"
    },
    {
     "data": {
      "image/png": "[encoded data removed]",
      "text/plain": [
       "<Figure size 864x720 with 1 Axes>"
      ]
     },
     "metadata": {
      "needs_background": "light",
      "tags": []
     },
     "output_type": "display_data"
    },
    {
     "data": {
      "image/png": "[encoded data removed]",
      "text/plain": [
       "<Figure size 864x720 with 1 Axes>"
      ]
     },
     "metadata": {
      "needs_background": "light",
      "tags": []
     },
     "output_type": "display_data"
    },
    {
     "data": {
      "image/png": "[encoded data removed]",
      "text/plain": [
       "<Figure size 864x720 with 1 Axes>"
      ]
     },
     "metadata": {
      "needs_background": "light",
      "tags": []
     },
     "output_type": "display_data"
    }
   ],
   "source": [
    "plt.figure(1, figsize = (12,10))\n",
    "plt.plot(test_losses_fcnn)\n",
    "plt.xlabel('Epochs')\n",
    "plt.ylabel('Test Loss')\n",
    "plt.title('SdLBFGS Test loss in FCNN',fontsize = 20)\n",
    "plt.legend(loc='center left', bbox_to_anchor=(1, 0.5))\n",
    "plt.savefig(\"SdLBFGS_test_loss_fcnn.jpg\")\n",
    "\n",
    "plt.figure(2, figsize = (12,10))\n",
    "plt.plot(train_losses_fcnn)\n",
    "plt.xlabel('Epochs')\n",
    "plt.ylabel('Train Loss')\n",
    "plt.title('SdLBFGS Train loss in FCNN',fontsize = 20)\n",
    "plt.legend(loc='center left', bbox_to_anchor=(1, 0.5))\n",
    "plt.savefig(\"SdLBFGS_train_loss_fcnn.jpg\")\n",
    "\n",
    "plt.figure(3, figsize = (12,10))\n",
    "plt.plot(train_accuracy_fcnn)\n",
    "plt.xlabel('Epochs')\n",
    "plt.ylabel('Train Accuracy')\n",
    "plt.title('SdLBFGS Train accuracy in FCNN',fontsize = 20)\n",
    "plt.legend(loc='center left', bbox_to_anchor=(1, 0.5))\n",
    "plt.savefig(\"SdLBFGS_train_accuracy_fcnn.jpg\")\n",
    "\n",
    "plt.figure(4, figsize = (12,10))\n",
    "plt.plot(test_accuracy_fcnn)\n",
    "plt.xlabel('Epochs')\n",
    "plt.ylabel('Test Accuracy')\n",
    "plt.title('SdLBFGS Test accuracy in FCNN',fontsize = 20)\n",
    "plt.legend(loc='center left', bbox_to_anchor=(1, 0.5))\n",
    "plt.savefig(\"SdLBFGS_test_accuracy_fcnn.jpg\")\n"
   ]
  },
  {
   "cell_type": "code",
   "execution_count": 20,
   "metadata": {
    "colab": {
     "base_uri": "https://localhost:8080/",
     "height": 1000
    },
    "colab_type": "code",
    "id": "ww-402irBaYE",
    "outputId": "fac5b7eb-6796-4041-b285-bb4cb46d04e8"
   },
   "outputs": [
    {
     "name": "stderr",
     "output_type": "stream",
     "text": [
      "No handles with labels found to put in legend.\n",
      "No handles with labels found to put in legend.\n"
     ]
    },
    {
     "data": {
      "image/png": "[encoded data removed]",
      "text/plain": [
       "<Figure size 864x720 with 1 Axes>"
      ]
     },
     "metadata": {
      "needs_background": "light",
      "tags": []
     },
     "output_type": "display_data"
    },
    {
     "data": {
      "image/png": "[encoded data removed]",
      "text/plain": [
       "<Figure size 864x720 with 1 Axes>"
      ]
     },
     "metadata": {
      "needs_background": "light",
      "tags": []
     },
     "output_type": "display_data"
    }
   ],
   "source": [
    "\n",
    "plt.figure(3, figsize = (12,10))\n",
    "plt.plot(train_accuracy_fcnn)\n",
    "plt.xlabel('Epochs')\n",
    "plt.ylabel('Train Accuracy')\n",
    "plt.title('SdLBFGS Train accuracy in FCNN',fontsize = 20)\n",
    "plt.legend(loc='center left', bbox_to_anchor=(1, 0.5))\n",
    "plt.savefig(\"SdLBFGS_train_accuracy_fcnn.jpg\")\n",
    "\n",
    "plt.figure(4, figsize = (12,10))\n",
    "plt.plot(test_accuracy_fcnn)\n",
    "plt.xlabel('Epochs')\n",
    "plt.ylabel('Test Accuracy')\n",
    "plt.title('SdLBFGS Test accuracy in FCNN',fontsize = 20)\n",
    "plt.legend(loc='center left', bbox_to_anchor=(1, 0.5))\n",
    "plt.savefig(\"SdLBFGS_test_accuracy_fcnn.jpg\")"
   ]
  },
  {
   "cell_type": "markdown",
   "metadata": {
    "colab_type": "text",
    "id": "1s_muFUte6be"
   },
   "source": [
    "### CNN"
   ]
  },
  {
   "cell_type": "code",
   "execution_count": 31,
   "metadata": {
    "colab": {
     "base_uri": "https://localhost:8080/",
     "height": 1000
    },
    "colab_type": "code",
    "id": "oAyIHiXNe6bf",
    "outputId": "3c1459b0-253e-4e82-fdda-4df4fc118c6d"
   },
   "outputs": [
    {
     "name": "stdout",
     "output_type": "stream",
     "text": [
      "Epoch 0\n",
      "Training loss: 0.2208711963364366\n",
      "Number Of Images Tested = 10000\n",
      "Model Accuracy = 0.9791\n",
      "Number Of Images Tested = 60000\n",
      "Model Accuracy = 0.9763\n",
      "Test loss: 0.07093267313428639 \n",
      "\n",
      "Epoch 1\n",
      "Training loss: 0.10418237944344125\n",
      "Number Of Images Tested = 10000\n",
      "Model Accuracy = 0.9794\n",
      "Number Of Images Tested = 60000\n",
      "Model Accuracy = 0.9779166666666667\n",
      "Test loss: 0.10091066088914735 \n",
      "\n",
      "Epoch 2\n",
      "Training loss: 0.1381782318598608\n",
      "Number Of Images Tested = 10000\n",
      "Model Accuracy = 0.98\n",
      "Number Of Images Tested = 60000\n",
      "Model Accuracy = 0.9764166666666667\n",
      "Test loss: 0.12238364134559068 \n",
      "\n",
      "Epoch 3\n",
      "Training loss: 0.14396893069030897\n",
      "Number Of Images Tested = 10000\n",
      "Model Accuracy = 0.9807\n",
      "Number Of Images Tested = 60000\n",
      "Model Accuracy = 0.9776\n",
      "Test loss: 0.1197102794278968 \n",
      "\n",
      "Epoch 4\n",
      "Training loss: 0.14479012178041203\n",
      "Number Of Images Tested = 10000\n",
      "Model Accuracy = 0.9815\n",
      "Number Of Images Tested = 60000\n",
      "Model Accuracy = 0.9788666666666667\n",
      "Test loss: 0.12764393289523163 \n",
      "\n",
      "Epoch 5\n",
      "Training loss: 0.15541514329831707\n",
      "Number Of Images Tested = 10000\n",
      "Model Accuracy = 0.981\n",
      "Number Of Images Tested = 60000\n",
      "Model Accuracy = 0.9781333333333333\n",
      "Test loss: 0.15645017919235554 \n",
      "\n",
      "Epoch 6\n",
      "Training loss: 0.16919956949447065\n",
      "Number Of Images Tested = 10000\n",
      "Model Accuracy = 0.982\n",
      "Number Of Images Tested = 60000\n",
      "Model Accuracy = 0.9804333333333334\n",
      "Test loss: 0.14733223710631863 \n",
      "\n",
      "Epoch 7\n",
      "Training loss: 0.1676021319239537\n",
      "Number Of Images Tested = 10000\n",
      "Model Accuracy = 0.982\n",
      "Number Of Images Tested = 60000\n",
      "Model Accuracy = 0.9811166666666666\n",
      "Test loss: 0.15067489385529317 \n",
      "\n",
      "Epoch 8\n",
      "Training loss: 0.17520953930949018\n",
      "Number Of Images Tested = 10000\n",
      "Model Accuracy = 0.9824\n",
      "Number Of Images Tested = 60000\n",
      "Model Accuracy = 0.9815166666666667\n",
      "Test loss: 0.1503010315454904 \n",
      "\n",
      "Epoch 9\n",
      "Training loss: 0.17999478686288123\n",
      "Number Of Images Tested = 10000\n",
      "Model Accuracy = 0.9815\n",
      "Number Of Images Tested = 60000\n",
      "Model Accuracy = 0.9810166666666666\n",
      "Test loss: 0.1577395530269736 \n",
      "\n",
      "Epoch 10\n",
      "Training loss: 0.17846907589191913\n",
      "Number Of Images Tested = 10000\n",
      "Model Accuracy = 0.9815\n",
      "Number Of Images Tested = 60000\n",
      "Model Accuracy = 0.9816833333333334\n",
      "Test loss: 0.14943082517623887 \n",
      "\n",
      "Epoch 11\n",
      "Training loss: 0.1803559564586346\n",
      "Number Of Images Tested = 10000\n",
      "Model Accuracy = 0.9837\n",
      "Number Of Images Tested = 60000\n",
      "Model Accuracy = 0.9817\n",
      "Test loss: 0.13997896767172466 \n",
      "\n",
      "Epoch 12\n",
      "Training loss: 0.17518481155125537\n",
      "Number Of Images Tested = 10000\n",
      "Model Accuracy = 0.9846\n",
      "Number Of Images Tested = 60000\n",
      "Model Accuracy = 0.98215\n",
      "Test loss: 0.1256668462633041 \n",
      "\n",
      "Epoch 13\n",
      "Training loss: 0.17004569659206425\n",
      "Number Of Images Tested = 10000\n",
      "Model Accuracy = 0.9837\n",
      "Number Of Images Tested = 60000\n",
      "Model Accuracy = 0.98255\n",
      "Test loss: 0.1328602297793638 \n",
      "\n",
      "Epoch 14\n",
      "Training loss: 0.16463798083814443\n",
      "Number Of Images Tested = 10000\n",
      "Model Accuracy = 0.9841\n",
      "Number Of Images Tested = 60000\n",
      "Model Accuracy = 0.9828333333333333\n",
      "Test loss: 0.13079746022363992 \n",
      "\n",
      "Epoch 15\n",
      "Training loss: 0.15985380274803074\n",
      "Number Of Images Tested = 10000\n",
      "Model Accuracy = 0.9833\n",
      "Number Of Images Tested = 60000\n",
      "Model Accuracy = 0.9834666666666667\n",
      "Test loss: 0.12760434644987945 \n",
      "\n",
      "Epoch 16\n",
      "Training loss: 0.15829489436153849\n",
      "Number Of Images Tested = 10000\n",
      "Model Accuracy = 0.985\n",
      "Number Of Images Tested = 60000\n",
      "Model Accuracy = 0.9839166666666667\n",
      "Test loss: 0.13594855341651427 \n",
      "\n",
      "Epoch 17\n",
      "Training loss: 0.16438018721198722\n",
      "Number Of Images Tested = 10000\n",
      "Model Accuracy = 0.985\n",
      "Number Of Images Tested = 60000\n",
      "Model Accuracy = 0.98355\n",
      "Test loss: 0.13152386545407624 \n",
      "\n",
      "Epoch 18\n",
      "Training loss: 0.16703475217056324\n",
      "Number Of Images Tested = 10000\n",
      "Model Accuracy = 0.9839\n",
      "Number Of Images Tested = 60000\n",
      "Model Accuracy = 0.984\n",
      "Test loss: 0.14364004973316952 \n",
      "\n",
      "Epoch 19\n",
      "Training loss: 0.17087113031216428\n",
      "Number Of Images Tested = 10000\n",
      "Model Accuracy = 0.984\n",
      "Number Of Images Tested = 60000\n",
      "Model Accuracy = 0.98385\n",
      "Test loss: 0.145513885960342 \n",
      "\n",
      "Epoch 20\n",
      "Training loss: 0.17121663705875392\n",
      "Number Of Images Tested = 10000\n",
      "Model Accuracy = 0.9844\n",
      "Number Of Images Tested = 60000\n",
      "Model Accuracy = 0.9842833333333333\n",
      "Test loss: 0.14760163636613924 \n",
      "\n",
      "Epoch 21\n",
      "Training loss: 0.1737262144910888\n",
      "Number Of Images Tested = 10000\n",
      "Model Accuracy = 0.9851\n",
      "Number Of Images Tested = 60000\n",
      "Model Accuracy = 0.9841333333333333\n",
      "Test loss: 0.14258451266934932 \n",
      "\n",
      "Epoch 22\n",
      "Training loss: 0.17229843640224055\n",
      "Number Of Images Tested = 10000\n",
      "Model Accuracy = 0.9857\n",
      "Number Of Images Tested = 60000\n",
      "Model Accuracy = 0.9845166666666667\n",
      "Test loss: 0.14382533223433833 \n",
      "\n",
      "Epoch 23\n",
      "Training loss: 0.1649805619266171\n",
      "Number Of Images Tested = 10000\n",
      "Model Accuracy = 0.9861\n",
      "Number Of Images Tested = 60000\n",
      "Model Accuracy = 0.9849833333333333\n",
      "Test loss: 0.13375655435171024 \n",
      "\n",
      "Epoch 24\n",
      "Training loss: 0.16343598294886472\n",
      "Number Of Images Tested = 10000\n",
      "Model Accuracy = 0.9865\n",
      "Number Of Images Tested = 60000\n",
      "Model Accuracy = 0.9852\n",
      "Test loss: 0.1402797342631688 \n",
      "\n",
      "Epoch 25\n",
      "Training loss: 0.16376167167202213\n",
      "Number Of Images Tested = 10000\n",
      "Model Accuracy = 0.9867\n",
      "Number Of Images Tested = 60000\n",
      "Model Accuracy = 0.98505\n",
      "Test loss: 0.13748670624789772 \n",
      "\n",
      "Epoch 26\n",
      "Training loss: 0.16338114300762083\n",
      "Number Of Images Tested = 10000\n",
      "Model Accuracy = 0.987\n",
      "Number Of Images Tested = 60000\n",
      "Model Accuracy = 0.9848333333333333\n",
      "Test loss: 0.13495145950457346 \n",
      "\n",
      "Epoch 27\n",
      "Training loss: 0.1638417043635229\n",
      "Number Of Images Tested = 10000\n",
      "Model Accuracy = 0.9871\n",
      "Number Of Images Tested = 60000\n",
      "Model Accuracy = 0.9849\n",
      "Test loss: 0.12992220045199981 \n",
      "\n",
      "Epoch 28\n",
      "Training loss: 0.15990886055567471\n",
      "Number Of Images Tested = 10000\n",
      "Model Accuracy = 0.9873\n",
      "Number Of Images Tested = 60000\n",
      "Model Accuracy = 0.9853166666666666\n",
      "Test loss: 0.12254205719589875 \n",
      "\n",
      "Epoch 29\n",
      "Training loss: 0.1547726625702058\n",
      "Number Of Images Tested = 10000\n",
      "Model Accuracy = 0.9873\n",
      "Number Of Images Tested = 60000\n",
      "Model Accuracy = 0.98555\n",
      "Test loss: 0.11879496779002664 \n",
      "\n",
      "\n",
      "Training Time (in minutes) = 458.9329677025477\n"
     ]
    }
   ],
   "source": [
    "input_size = 784\n",
    "output_size = 10\n",
    "sizes = [input_size,128,64,output_size]\n",
    "\n",
    "# Model building\n",
    "# The size of the images is computed.\n",
    "images,_=dataiter.next()\n",
    "image_size=images[0].shape[1]\n",
    "# Using nn.CrossEntropyLoss allows to avoid specifying LogSoftmax as final layer.\n",
    "criterion = nn.CrossEntropyLoss()\n",
    "modelB=ConvNet(image_size)\n",
    "\n",
    "\n",
    "method = \"SdLBFGS\"\n",
    "optimizer = SdLBFGS(modelB.parameters(), history_size = 50)\n",
    "\n",
    "epochs = 30\n",
    "\n",
    "train_losses_cnn, test_losses_cnn, train_accuracy_cnn, test_accuracy_cnn, training_time_cnn = optimize_CNN(optimizer, epochs, trainloader, valloader, modelB, criterion , method )\n",
    "\n"
   ]
  },
  {
   "cell_type": "code",
   "execution_count": 0,
   "metadata": {
    "colab": {},
    "colab_type": "code",
    "id": "7-g1x5G4C8-H"
   },
   "outputs": [],
   "source": [
    "np.savetxt('/content/drive/My Drive/marghe/SdLBFGS_CNN_trainloss.txt', train_losses_cnn)\n",
    "np.savetxt('/content/drive/My Drive/marghe/SdLBFGS_CNN_testloss.txt', test_losses_cnn)\n",
    "np.savetxt('/content/drive/My Drive/marghe/SdLBFGS_CNN_trainacc.txt', train_accuracy_cnn)\n",
    "np.savetxt('/content/drive/My Drive/marghe/SdLBFGS_CNN_testacc.txt', test_accuracy_cnn)\n"
   ]
  },
  {
   "cell_type": "code",
   "execution_count": 33,
   "metadata": {
    "colab": {
     "base_uri": "https://localhost:8080/",
     "height": 34
    },
    "colab_type": "code",
    "id": "oEIjHBudUm_6",
    "outputId": "b09a5e2c-7f92-4aec-ae32-81f05785a08a"
   },
   "outputs": [
    {
     "data": {
      "text/plain": [
       "458.9329687039057"
      ]
     },
     "execution_count": 33,
     "metadata": {
      "tags": []
     },
     "output_type": "execute_result"
    }
   ],
   "source": [
    "training_time_cnn\n"
   ]
  },
  {
   "cell_type": "code",
   "execution_count": 34,
   "metadata": {
    "colab": {
     "base_uri": "https://localhost:8080/",
     "height": 1000
    },
    "colab_type": "code",
    "id": "cq06nMxBe6bg",
    "outputId": "e005340a-b4a4-49de-9a6c-813949b2ebed",
    "scrolled": false
   },
   "outputs": [
    {
     "name": "stderr",
     "output_type": "stream",
     "text": [
      "No handles with labels found to put in legend.\n",
      "No handles with labels found to put in legend.\n",
      "No handles with labels found to put in legend.\n",
      "No handles with labels found to put in legend.\n"
     ]
    },
    {
     "data": {
      "image/png": "[encoded data removed]",
      "text/plain": [
       "<Figure size 864x720 with 1 Axes>"
      ]
     },
     "metadata": {
      "needs_background": "light",
      "tags": []
     },
     "output_type": "display_data"
    },
    {
     "data": {
      "image/png": "[encoded data removed]",
      "text/plain": [
       "<Figure size 864x720 with 1 Axes>"
      ]
     },
     "metadata": {
      "needs_background": "light",
      "tags": []
     },
     "output_type": "display_data"
    },
    {
     "data": {
      "image/png": "[encoded data removed]",
      "text/plain": [
       "<Figure size 864x720 with 1 Axes>"
      ]
     },
     "metadata": {
      "needs_background": "light",
      "tags": []
     },
     "output_type": "display_data"
    },
    {
     "data": {
      "image/png": "[encoded data removed]",
      "text/plain": [
       "<Figure size 864x720 with 1 Axes>"
      ]
     },
     "metadata": {
      "needs_background": "light",
      "tags": []
     },
     "output_type": "display_data"
    }
   ],
   "source": [
    "plt.figure(1, figsize = (12,10))\n",
    "plt.plot(test_losses_cnn)\n",
    "plt.xlabel('Epochs')\n",
    "plt.ylabel('Test Loss')\n",
    "plt.title('SdLBFGS Test loss in CNN',fontsize = 20)\n",
    "plt.legend(loc='center left', bbox_to_anchor=(1, 0.5))\n",
    "plt.savefig(\"/content/drive/My Drive/marghe/SdLBFGS_test_loss_cnn.jpg\")\n",
    "\n",
    "plt.figure(2, figsize = (12,10))\n",
    "plt.plot(train_losses_cnn)\n",
    "plt.xlabel('Epochs')\n",
    "plt.ylabel('Train Loss')\n",
    "plt.title('SdLBFGS Train loss in CNN',fontsize = 20)\n",
    "plt.legend(loc='center left', bbox_to_anchor=(1, 0.5))\n",
    "plt.savefig(\"/content/drive/My Drive/marghe/SdLBFGS_train_loss_cnn.jpg\")\n",
    "\n",
    "plt.figure(3, figsize = (12,10))\n",
    "plt.plot(train_accuracy_cnn)\n",
    "plt.xlabel('Epochs')\n",
    "plt.ylabel('Train Accuracy')\n",
    "plt.title('SdLBFGS Train accuracy in CNN',fontsize = 20)\n",
    "plt.legend(loc='center left', bbox_to_anchor=(1, 0.5))\n",
    "plt.savefig(\"/content/drive/My Drive/marghe/SdLBFGS_train_accuracy_cnn.jpg\")\n",
    "\n",
    "plt.figure(4, figsize = (12,10))\n",
    "plt.plot(test_accuracy_cnn)\n",
    "plt.xlabel('Epochs')\n",
    "plt.ylabel('Test Accuracy')\n",
    "plt.title('SdLBFGS Test accuracy in CNN',fontsize = 20)\n",
    "plt.legend(loc='center left', bbox_to_anchor=(1, 0.5))\n",
    "plt.savefig(\"/content/drive/My Drive/marghe/SdLBFGS_test_accuracy_cnn.jpg\")"
   ]
  }
 ],
 "metadata": {
  "accelerator": "GPU",
  "colab": {
   "collapsed_sections": [],
   "name": "MNIST_sdlbfgs.ipynb",
   "provenance": []
  },
  "kernelspec": {
   "display_name": "Python 3",
   "language": "python",
   "name": "python3"
  },
  "language_info": {
   "codemirror_mode": {
    "name": "ipython",
    "version": 3
   },
   "file_extension": ".py",
   "mimetype": "text/x-python",
   "name": "python",
   "nbconvert_exporter": "python",
   "pygments_lexer": "ipython3",
   "version": "3.7.3"
  },
  "widgets": {
   "application/vnd.jupyter.widget-state+json": {
    "00fa5249bad24cf28706c8908a5109c8": {
     "model_module": "@jupyter-widgets/base",
     "model_name": "LayoutModel",
     "state": {
      "_model_module": "@jupyter-widgets/base",
      "_model_module_version": "1.2.0",
      "_model_name": "LayoutModel",
      "_view_count": null,
      "_view_module": "@jupyter-widgets/base",
      "_view_module_version": "1.2.0",
      "_view_name": "LayoutView",
      "align_content": null,
      "align_items": null,
      "align_self": null,
      "border": null,
      "bottom": null,
      "display": null,
      "flex": null,
      "flex_flow": null,
      "grid_area": null,
      "grid_auto_columns": null,
      "grid_auto_flow": null,
      "grid_auto_rows": null,
      "grid_column": null,
      "grid_gap": null,
      "grid_row": null,
      "grid_template_areas": null,
      "grid_template_columns": null,
      "grid_template_rows": null,
      "height": null,
      "justify_content": null,
      "justify_items": null,
      "left": null,
      "margin": null,
      "max_height": null,
      "max_width": null,
      "min_height": null,
      "min_width": null,
      "object_fit": null,
      "object_position": null,
      "order": null,
      "overflow": null,
      "overflow_x": null,
      "overflow_y": null,
      "padding": null,
      "right": null,
      "top": null,
      "visibility": null,
      "width": null
     }
    },
    "01789712cb904cc88c4e10305485f3bc": {
     "model_module": "@jupyter-widgets/controls",
     "model_name": "DescriptionStyleModel",
     "state": {
      "_model_module": "@jupyter-widgets/controls",
      "_model_module_version": "1.5.0",
      "_model_name": "DescriptionStyleModel",
      "_view_count": null,
      "_view_module": "@jupyter-widgets/base",
      "_view_module_version": "1.2.0",
      "_view_name": "StyleView",
      "description_width": ""
     }
    },
    "05836975b6ba4ac78b4d706149438729": {
     "model_module": "@jupyter-widgets/controls",
     "model_name": "HBoxModel",
     "state": {
      "_dom_classes": [],
      "_model_module": "@jupyter-widgets/controls",
      "_model_module_version": "1.5.0",
      "_model_name": "HBoxModel",
      "_view_count": null,
      "_view_module": "@jupyter-widgets/controls",
      "_view_module_version": "1.5.0",
      "_view_name": "HBoxView",
      "box_style": "",
      "children": [
       "IPY_MODEL_43361cc83e804e428eb0a729bae39bfd",
       "IPY_MODEL_d3f55f8aa92b4840b024ddfa914ab4e8"
      ],
      "layout": "IPY_MODEL_ed580791373148c79c670df05a83340e"
     }
    },
    "0b9c64fe5baa45f0a181304c46349c11": {
     "model_module": "@jupyter-widgets/controls",
     "model_name": "FloatProgressModel",
     "state": {
      "_dom_classes": [],
      "_model_module": "@jupyter-widgets/controls",
      "_model_module_version": "1.5.0",
      "_model_name": "FloatProgressModel",
      "_view_count": null,
      "_view_module": "@jupyter-widgets/controls",
      "_view_module_version": "1.5.0",
      "_view_name": "ProgressView",
      "bar_style": "success",
      "description": "",
      "description_tooltip": null,
      "layout": "IPY_MODEL_3da1fb38c29f4c8babd3f7a9e83adacb",
      "max": 1,
      "min": 0,
      "orientation": "horizontal",
      "style": "IPY_MODEL_bcbc45f7c10a48eaa0408c98c23942a6",
      "value": 1
     }
    },
    "0f63620a482c4249812467fdf28651a5": {
     "model_module": "@jupyter-widgets/controls",
     "model_name": "ProgressStyleModel",
     "state": {
      "_model_module": "@jupyter-widgets/controls",
      "_model_module_version": "1.5.0",
      "_model_name": "ProgressStyleModel",
      "_view_count": null,
      "_view_module": "@jupyter-widgets/base",
      "_view_module_version": "1.2.0",
      "_view_name": "StyleView",
      "bar_color": null,
      "description_width": "initial"
     }
    },
    "12f84509a65742a48d66856b38cd1c98": {
     "model_module": "@jupyter-widgets/base",
     "model_name": "LayoutModel",
     "state": {
      "_model_module": "@jupyter-widgets/base",
      "_model_module_version": "1.2.0",
      "_model_name": "LayoutModel",
      "_view_count": null,
      "_view_module": "@jupyter-widgets/base",
      "_view_module_version": "1.2.0",
      "_view_name": "LayoutView",
      "align_content": null,
      "align_items": null,
      "align_self": null,
      "border": null,
      "bottom": null,
      "display": null,
      "flex": null,
      "flex_flow": null,
      "grid_area": null,
      "grid_auto_columns": null,
      "grid_auto_flow": null,
      "grid_auto_rows": null,
      "grid_column": null,
      "grid_gap": null,
      "grid_row": null,
      "grid_template_areas": null,
      "grid_template_columns": null,
      "grid_template_rows": null,
      "height": null,
      "justify_content": null,
      "justify_items": null,
      "left": null,
      "margin": null,
      "max_height": null,
      "max_width": null,
      "min_height": null,
      "min_width": null,
      "object_fit": null,
      "object_position": null,
      "order": null,
      "overflow": null,
      "overflow_x": null,
      "overflow_y": null,
      "padding": null,
      "right": null,
      "top": null,
      "visibility": null,
      "width": null
     }
    },
    "17e84b43e32c4c8aa8a333270fb0fc71": {
     "model_module": "@jupyter-widgets/controls",
     "model_name": "DescriptionStyleModel",
     "state": {
      "_model_module": "@jupyter-widgets/controls",
      "_model_module_version": "1.5.0",
      "_model_name": "DescriptionStyleModel",
      "_view_count": null,
      "_view_module": "@jupyter-widgets/base",
      "_view_module_version": "1.2.0",
      "_view_name": "StyleView",
      "description_width": ""
     }
    },
    "1c001913037548e1b4e54adcd4c5976a": {
     "model_module": "@jupyter-widgets/controls",
     "model_name": "ProgressStyleModel",
     "state": {
      "_model_module": "@jupyter-widgets/controls",
      "_model_module_version": "1.5.0",
      "_model_name": "ProgressStyleModel",
      "_view_count": null,
      "_view_module": "@jupyter-widgets/base",
      "_view_module_version": "1.2.0",
      "_view_name": "StyleView",
      "bar_color": null,
      "description_width": "initial"
     }
    },
    "1e3beaf27b8d4d3995aad4938e72c5be": {
     "model_module": "@jupyter-widgets/base",
     "model_name": "LayoutModel",
     "state": {
      "_model_module": "@jupyter-widgets/base",
      "_model_module_version": "1.2.0",
      "_model_name": "LayoutModel",
      "_view_count": null,
      "_view_module": "@jupyter-widgets/base",
      "_view_module_version": "1.2.0",
      "_view_name": "LayoutView",
      "align_content": null,
      "align_items": null,
      "align_self": null,
      "border": null,
      "bottom": null,
      "display": null,
      "flex": null,
      "flex_flow": null,
      "grid_area": null,
      "grid_auto_columns": null,
      "grid_auto_flow": null,
      "grid_auto_rows": null,
      "grid_column": null,
      "grid_gap": null,
      "grid_row": null,
      "grid_template_areas": null,
      "grid_template_columns": null,
      "grid_template_rows": null,
      "height": null,
      "justify_content": null,
      "justify_items": null,
      "left": null,
      "margin": null,
      "max_height": null,
      "max_width": null,
      "min_height": null,
      "min_width": null,
      "object_fit": null,
      "object_position": null,
      "order": null,
      "overflow": null,
      "overflow_x": null,
      "overflow_y": null,
      "padding": null,
      "right": null,
      "top": null,
      "visibility": null,
      "width": null
     }
    },
    "285f29331cbf453ba0bb1b4b306cecab": {
     "model_module": "@jupyter-widgets/controls",
     "model_name": "FloatProgressModel",
     "state": {
      "_dom_classes": [],
      "_model_module": "@jupyter-widgets/controls",
      "_model_module_version": "1.5.0",
      "_model_name": "FloatProgressModel",
      "_view_count": null,
      "_view_module": "@jupyter-widgets/controls",
      "_view_module_version": "1.5.0",
      "_view_name": "ProgressView",
      "bar_style": "info",
      "description": "",
      "description_tooltip": null,
      "layout": "IPY_MODEL_1e3beaf27b8d4d3995aad4938e72c5be",
      "max": 1,
      "min": 0,
      "orientation": "horizontal",
      "style": "IPY_MODEL_1c001913037548e1b4e54adcd4c5976a",
      "value": 1
     }
    },
    "29190c992632493987f07d39715e1a29": {
     "model_module": "@jupyter-widgets/base",
     "model_name": "LayoutModel",
     "state": {
      "_model_module": "@jupyter-widgets/base",
      "_model_module_version": "1.2.0",
      "_model_name": "LayoutModel",
      "_view_count": null,
      "_view_module": "@jupyter-widgets/base",
      "_view_module_version": "1.2.0",
      "_view_name": "LayoutView",
      "align_content": null,
      "align_items": null,
      "align_self": null,
      "border": null,
      "bottom": null,
      "display": null,
      "flex": null,
      "flex_flow": null,
      "grid_area": null,
      "grid_auto_columns": null,
      "grid_auto_flow": null,
      "grid_auto_rows": null,
      "grid_column": null,
      "grid_gap": null,
      "grid_row": null,
      "grid_template_areas": null,
      "grid_template_columns": null,
      "grid_template_rows": null,
      "height": null,
      "justify_content": null,
      "justify_items": null,
      "left": null,
      "margin": null,
      "max_height": null,
      "max_width": null,
      "min_height": null,
      "min_width": null,
      "object_fit": null,
      "object_position": null,
      "order": null,
      "overflow": null,
      "overflow_x": null,
      "overflow_y": null,
      "padding": null,
      "right": null,
      "top": null,
      "visibility": null,
      "width": null
     }
    },
    "2eac02d62522430bb2bbea1cd68b6006": {
     "model_module": "@jupyter-widgets/controls",
     "model_name": "HTMLModel",
     "state": {
      "_dom_classes": [],
      "_model_module": "@jupyter-widgets/controls",
      "_model_module_version": "1.5.0",
      "_model_name": "HTMLModel",
      "_view_count": null,
      "_view_module": "@jupyter-widgets/controls",
      "_view_module_version": "1.5.0",
      "_view_name": "HTMLView",
      "description": "",
      "description_tooltip": null,
      "layout": "IPY_MODEL_a07902338b0b46f8862b58d991312749",
      "placeholder": "​",
      "style": "IPY_MODEL_01789712cb904cc88c4e10305485f3bc",
      "value": " 1654784/? [00:15&lt;00:00, 234294.89it/s]"
     }
    },
    "30445be09f654ba0a72bf2c8ab4a15ad": {
     "model_module": "@jupyter-widgets/controls",
     "model_name": "HTMLModel",
     "state": {
      "_dom_classes": [],
      "_model_module": "@jupyter-widgets/controls",
      "_model_module_version": "1.5.0",
      "_model_name": "HTMLModel",
      "_view_count": null,
      "_view_module": "@jupyter-widgets/controls",
      "_view_module_version": "1.5.0",
      "_view_name": "HTMLView",
      "description": "",
      "description_tooltip": null,
      "layout": "IPY_MODEL_5cd13179b30f46fe8658de947ee7106d",
      "placeholder": "​",
      "style": "IPY_MODEL_9e7cfbe1ef43460f8a5787bc907d383e",
      "value": " 1654784/? [00:07&lt;00:00, 235575.23it/s]"
     }
    },
    "39c526b117334fc0bc4c9e5a2af3c124": {
     "model_module": "@jupyter-widgets/base",
     "model_name": "LayoutModel",
     "state": {
      "_model_module": "@jupyter-widgets/base",
      "_model_module_version": "1.2.0",
      "_model_name": "LayoutModel",
      "_view_count": null,
      "_view_module": "@jupyter-widgets/base",
      "_view_module_version": "1.2.0",
      "_view_name": "LayoutView",
      "align_content": null,
      "align_items": null,
      "align_self": null,
      "border": null,
      "bottom": null,
      "display": null,
      "flex": null,
      "flex_flow": null,
      "grid_area": null,
      "grid_auto_columns": null,
      "grid_auto_flow": null,
      "grid_auto_rows": null,
      "grid_column": null,
      "grid_gap": null,
      "grid_row": null,
      "grid_template_areas": null,
      "grid_template_columns": null,
      "grid_template_rows": null,
      "height": null,
      "justify_content": null,
      "justify_items": null,
      "left": null,
      "margin": null,
      "max_height": null,
      "max_width": null,
      "min_height": null,
      "min_width": null,
      "object_fit": null,
      "object_position": null,
      "order": null,
      "overflow": null,
      "overflow_x": null,
      "overflow_y": null,
      "padding": null,
      "right": null,
      "top": null,
      "visibility": null,
      "width": null
     }
    },
    "39def9bfd62e489bbc33ac1420bb9ec1": {
     "model_module": "@jupyter-widgets/controls",
     "model_name": "ProgressStyleModel",
     "state": {
      "_model_module": "@jupyter-widgets/controls",
      "_model_module_version": "1.5.0",
      "_model_name": "ProgressStyleModel",
      "_view_count": null,
      "_view_module": "@jupyter-widgets/base",
      "_view_module_version": "1.2.0",
      "_view_name": "StyleView",
      "bar_color": null,
      "description_width": "initial"
     }
    },
    "3da1fb38c29f4c8babd3f7a9e83adacb": {
     "model_module": "@jupyter-widgets/base",
     "model_name": "LayoutModel",
     "state": {
      "_model_module": "@jupyter-widgets/base",
      "_model_module_version": "1.2.0",
      "_model_name": "LayoutModel",
      "_view_count": null,
      "_view_module": "@jupyter-widgets/base",
      "_view_module_version": "1.2.0",
      "_view_name": "LayoutView",
      "align_content": null,
      "align_items": null,
      "align_self": null,
      "border": null,
      "bottom": null,
      "display": null,
      "flex": null,
      "flex_flow": null,
      "grid_area": null,
      "grid_auto_columns": null,
      "grid_auto_flow": null,
      "grid_auto_rows": null,
      "grid_column": null,
      "grid_gap": null,
      "grid_row": null,
      "grid_template_areas": null,
      "grid_template_columns": null,
      "grid_template_rows": null,
      "height": null,
      "justify_content": null,
      "justify_items": null,
      "left": null,
      "margin": null,
      "max_height": null,
      "max_width": null,
      "min_height": null,
      "min_width": null,
      "object_fit": null,
      "object_position": null,
      "order": null,
      "overflow": null,
      "overflow_x": null,
      "overflow_y": null,
      "padding": null,
      "right": null,
      "top": null,
      "visibility": null,
      "width": null
     }
    },
    "4184c1b708d64871a03b581b8f935d15": {
     "model_module": "@jupyter-widgets/controls",
     "model_name": "DescriptionStyleModel",
     "state": {
      "_model_module": "@jupyter-widgets/controls",
      "_model_module_version": "1.5.0",
      "_model_name": "DescriptionStyleModel",
      "_view_count": null,
      "_view_module": "@jupyter-widgets/base",
      "_view_module_version": "1.2.0",
      "_view_name": "StyleView",
      "description_width": ""
     }
    },
    "422edbf56c704b3e976e3563be300d16": {
     "model_module": "@jupyter-widgets/base",
     "model_name": "LayoutModel",
     "state": {
      "_model_module": "@jupyter-widgets/base",
      "_model_module_version": "1.2.0",
      "_model_name": "LayoutModel",
      "_view_count": null,
      "_view_module": "@jupyter-widgets/base",
      "_view_module_version": "1.2.0",
      "_view_name": "LayoutView",
      "align_content": null,
      "align_items": null,
      "align_self": null,
      "border": null,
      "bottom": null,
      "display": null,
      "flex": null,
      "flex_flow": null,
      "grid_area": null,
      "grid_auto_columns": null,
      "grid_auto_flow": null,
      "grid_auto_rows": null,
      "grid_column": null,
      "grid_gap": null,
      "grid_row": null,
      "grid_template_areas": null,
      "grid_template_columns": null,
      "grid_template_rows": null,
      "height": null,
      "justify_content": null,
      "justify_items": null,
      "left": null,
      "margin": null,
      "max_height": null,
      "max_width": null,
      "min_height": null,
      "min_width": null,
      "object_fit": null,
      "object_position": null,
      "order": null,
      "overflow": null,
      "overflow_x": null,
      "overflow_y": null,
      "padding": null,
      "right": null,
      "top": null,
      "visibility": null,
      "width": null
     }
    },
    "43361cc83e804e428eb0a729bae39bfd": {
     "model_module": "@jupyter-widgets/controls",
     "model_name": "FloatProgressModel",
     "state": {
      "_dom_classes": [],
      "_model_module": "@jupyter-widgets/controls",
      "_model_module_version": "1.5.0",
      "_model_name": "FloatProgressModel",
      "_view_count": null,
      "_view_module": "@jupyter-widgets/controls",
      "_view_module_version": "1.5.0",
      "_view_name": "ProgressView",
      "bar_style": "success",
      "description": "",
      "description_tooltip": null,
      "layout": "IPY_MODEL_cbee96d3071445cfbfc7fc62d948daf7",
      "max": 1,
      "min": 0,
      "orientation": "horizontal",
      "style": "IPY_MODEL_0f63620a482c4249812467fdf28651a5",
      "value": 1
     }
    },
    "481691318dde471b86266fa1dbef09c0": {
     "model_module": "@jupyter-widgets/base",
     "model_name": "LayoutModel",
     "state": {
      "_model_module": "@jupyter-widgets/base",
      "_model_module_version": "1.2.0",
      "_model_name": "LayoutModel",
      "_view_count": null,
      "_view_module": "@jupyter-widgets/base",
      "_view_module_version": "1.2.0",
      "_view_name": "LayoutView",
      "align_content": null,
      "align_items": null,
      "align_self": null,
      "border": null,
      "bottom": null,
      "display": null,
      "flex": null,
      "flex_flow": null,
      "grid_area": null,
      "grid_auto_columns": null,
      "grid_auto_flow": null,
      "grid_auto_rows": null,
      "grid_column": null,
      "grid_gap": null,
      "grid_row": null,
      "grid_template_areas": null,
      "grid_template_columns": null,
      "grid_template_rows": null,
      "height": null,
      "justify_content": null,
      "justify_items": null,
      "left": null,
      "margin": null,
      "max_height": null,
      "max_width": null,
      "min_height": null,
      "min_width": null,
      "object_fit": null,
      "object_position": null,
      "order": null,
      "overflow": null,
      "overflow_x": null,
      "overflow_y": null,
      "padding": null,
      "right": null,
      "top": null,
      "visibility": null,
      "width": null
     }
    },
    "4fbdb5c186704dbf8005fcd2a5ca05b8": {
     "model_module": "@jupyter-widgets/controls",
     "model_name": "DescriptionStyleModel",
     "state": {
      "_model_module": "@jupyter-widgets/controls",
      "_model_module_version": "1.5.0",
      "_model_name": "DescriptionStyleModel",
      "_view_count": null,
      "_view_module": "@jupyter-widgets/base",
      "_view_module_version": "1.2.0",
      "_view_name": "StyleView",
      "description_width": ""
     }
    },
    "51de027408604b749372f763a1258b30": {
     "model_module": "@jupyter-widgets/controls",
     "model_name": "ProgressStyleModel",
     "state": {
      "_model_module": "@jupyter-widgets/controls",
      "_model_module_version": "1.5.0",
      "_model_name": "ProgressStyleModel",
      "_view_count": null,
      "_view_module": "@jupyter-widgets/base",
      "_view_module_version": "1.2.0",
      "_view_name": "StyleView",
      "bar_color": null,
      "description_width": "initial"
     }
    },
    "52731a4b217e4800a9898b492fd8376e": {
     "model_module": "@jupyter-widgets/controls",
     "model_name": "DescriptionStyleModel",
     "state": {
      "_model_module": "@jupyter-widgets/controls",
      "_model_module_version": "1.5.0",
      "_model_name": "DescriptionStyleModel",
      "_view_count": null,
      "_view_module": "@jupyter-widgets/base",
      "_view_module_version": "1.2.0",
      "_view_name": "StyleView",
      "description_width": ""
     }
    },
    "548b2916629645499bc720ba97dd90e2": {
     "model_module": "@jupyter-widgets/controls",
     "model_name": "HBoxModel",
     "state": {
      "_dom_classes": [],
      "_model_module": "@jupyter-widgets/controls",
      "_model_module_version": "1.5.0",
      "_model_name": "HBoxModel",
      "_view_count": null,
      "_view_module": "@jupyter-widgets/controls",
      "_view_module_version": "1.5.0",
      "_view_name": "HBoxView",
      "box_style": "",
      "children": [
       "IPY_MODEL_ae1cd3e0757442c895e921a3400d2429",
       "IPY_MODEL_8a4c2cad7e884524acfd1f64f489cbbf"
      ],
      "layout": "IPY_MODEL_8f95ba060ccc4d8b9424667b0217ae08"
     }
    },
    "5c9fd6afe6ce4bebaec1e8a7531d9e54": {
     "model_module": "@jupyter-widgets/controls",
     "model_name": "HBoxModel",
     "state": {
      "_dom_classes": [],
      "_model_module": "@jupyter-widgets/controls",
      "_model_module_version": "1.5.0",
      "_model_name": "HBoxModel",
      "_view_count": null,
      "_view_module": "@jupyter-widgets/controls",
      "_view_module_version": "1.5.0",
      "_view_name": "HBoxView",
      "box_style": "",
      "children": [
       "IPY_MODEL_751d8c2c05e44dfe931f50f313bc6367",
       "IPY_MODEL_30445be09f654ba0a72bf2c8ab4a15ad"
      ],
      "layout": "IPY_MODEL_b7c213f903d04c2fa5aa9978255574f5"
     }
    },
    "5cd13179b30f46fe8658de947ee7106d": {
     "model_module": "@jupyter-widgets/base",
     "model_name": "LayoutModel",
     "state": {
      "_model_module": "@jupyter-widgets/base",
      "_model_module_version": "1.2.0",
      "_model_name": "LayoutModel",
      "_view_count": null,
      "_view_module": "@jupyter-widgets/base",
      "_view_module_version": "1.2.0",
      "_view_name": "LayoutView",
      "align_content": null,
      "align_items": null,
      "align_self": null,
      "border": null,
      "bottom": null,
      "display": null,
      "flex": null,
      "flex_flow": null,
      "grid_area": null,
      "grid_auto_columns": null,
      "grid_auto_flow": null,
      "grid_auto_rows": null,
      "grid_column": null,
      "grid_gap": null,
      "grid_row": null,
      "grid_template_areas": null,
      "grid_template_columns": null,
      "grid_template_rows": null,
      "height": null,
      "justify_content": null,
      "justify_items": null,
      "left": null,
      "margin": null,
      "max_height": null,
      "max_width": null,
      "min_height": null,
      "min_width": null,
      "object_fit": null,
      "object_position": null,
      "order": null,
      "overflow": null,
      "overflow_x": null,
      "overflow_y": null,
      "padding": null,
      "right": null,
      "top": null,
      "visibility": null,
      "width": null
     }
    },
    "5e43274757c449b39e0c5a922d8bf508": {
     "model_module": "@jupyter-widgets/controls",
     "model_name": "DescriptionStyleModel",
     "state": {
      "_model_module": "@jupyter-widgets/controls",
      "_model_module_version": "1.5.0",
      "_model_name": "DescriptionStyleModel",
      "_view_count": null,
      "_view_module": "@jupyter-widgets/base",
      "_view_module_version": "1.2.0",
      "_view_name": "StyleView",
      "description_width": ""
     }
    },
    "65fabb07c57c4483a80ecdbc4a0f4416": {
     "model_module": "@jupyter-widgets/controls",
     "model_name": "FloatProgressModel",
     "state": {
      "_dom_classes": [],
      "_model_module": "@jupyter-widgets/controls",
      "_model_module_version": "1.5.0",
      "_model_name": "FloatProgressModel",
      "_view_count": null,
      "_view_module": "@jupyter-widgets/controls",
      "_view_module_version": "1.5.0",
      "_view_name": "ProgressView",
      "bar_style": "info",
      "description": "",
      "description_tooltip": null,
      "layout": "IPY_MODEL_e04d4bef00c74a9a9f6af4c3bc9eebdf",
      "max": 1,
      "min": 0,
      "orientation": "horizontal",
      "style": "IPY_MODEL_51de027408604b749372f763a1258b30",
      "value": 1
     }
    },
    "67f08aad860a45878ad2a68ef3dd858b": {
     "model_module": "@jupyter-widgets/controls",
     "model_name": "HBoxModel",
     "state": {
      "_dom_classes": [],
      "_model_module": "@jupyter-widgets/controls",
      "_model_module_version": "1.5.0",
      "_model_name": "HBoxModel",
      "_view_count": null,
      "_view_module": "@jupyter-widgets/controls",
      "_view_module_version": "1.5.0",
      "_view_name": "HBoxView",
      "box_style": "",
      "children": [
       "IPY_MODEL_73bca369b2be4cfe88a9d4c794cf2422",
       "IPY_MODEL_e81e6211464246d188ed58a7f443e810"
      ],
      "layout": "IPY_MODEL_b99c5ce0e1a440e08fdb16f743ab3574"
     }
    },
    "69813ff02630493bab308626121876fd": {
     "model_module": "@jupyter-widgets/base",
     "model_name": "LayoutModel",
     "state": {
      "_model_module": "@jupyter-widgets/base",
      "_model_module_version": "1.2.0",
      "_model_name": "LayoutModel",
      "_view_count": null,
      "_view_module": "@jupyter-widgets/base",
      "_view_module_version": "1.2.0",
      "_view_name": "LayoutView",
      "align_content": null,
      "align_items": null,
      "align_self": null,
      "border": null,
      "bottom": null,
      "display": null,
      "flex": null,
      "flex_flow": null,
      "grid_area": null,
      "grid_auto_columns": null,
      "grid_auto_flow": null,
      "grid_auto_rows": null,
      "grid_column": null,
      "grid_gap": null,
      "grid_row": null,
      "grid_template_areas": null,
      "grid_template_columns": null,
      "grid_template_rows": null,
      "height": null,
      "justify_content": null,
      "justify_items": null,
      "left": null,
      "margin": null,
      "max_height": null,
      "max_width": null,
      "min_height": null,
      "min_width": null,
      "object_fit": null,
      "object_position": null,
      "order": null,
      "overflow": null,
      "overflow_x": null,
      "overflow_y": null,
      "padding": null,
      "right": null,
      "top": null,
      "visibility": null,
      "width": null
     }
    },
    "73bca369b2be4cfe88a9d4c794cf2422": {
     "model_module": "@jupyter-widgets/controls",
     "model_name": "FloatProgressModel",
     "state": {
      "_dom_classes": [],
      "_model_module": "@jupyter-widgets/controls",
      "_model_module_version": "1.5.0",
      "_model_name": "FloatProgressModel",
      "_view_count": null,
      "_view_module": "@jupyter-widgets/controls",
      "_view_module_version": "1.5.0",
      "_view_name": "ProgressView",
      "bar_style": "success",
      "description": "",
      "description_tooltip": null,
      "layout": "IPY_MODEL_ae1d3af36a124ba2a1d345a4d4be3758",
      "max": 1,
      "min": 0,
      "orientation": "horizontal",
      "style": "IPY_MODEL_eae3b7bd0dfb4373a5dd06dd29537dcc",
      "value": 1
     }
    },
    "751d8c2c05e44dfe931f50f313bc6367": {
     "model_module": "@jupyter-widgets/controls",
     "model_name": "FloatProgressModel",
     "state": {
      "_dom_classes": [],
      "_model_module": "@jupyter-widgets/controls",
      "_model_module_version": "1.5.0",
      "_model_name": "FloatProgressModel",
      "_view_count": null,
      "_view_module": "@jupyter-widgets/controls",
      "_view_module_version": "1.5.0",
      "_view_name": "ProgressView",
      "bar_style": "success",
      "description": "",
      "description_tooltip": null,
      "layout": "IPY_MODEL_f94f1fcfbb4c492cb7f3e145fd680518",
      "max": 1,
      "min": 0,
      "orientation": "horizontal",
      "style": "IPY_MODEL_39def9bfd62e489bbc33ac1420bb9ec1",
      "value": 1
     }
    },
    "7a3e48660a504d0c899a897c4d8d9c7e": {
     "model_module": "@jupyter-widgets/controls",
     "model_name": "HBoxModel",
     "state": {
      "_dom_classes": [],
      "_model_module": "@jupyter-widgets/controls",
      "_model_module_version": "1.5.0",
      "_model_name": "HBoxModel",
      "_view_count": null,
      "_view_module": "@jupyter-widgets/controls",
      "_view_module_version": "1.5.0",
      "_view_name": "HBoxView",
      "box_style": "",
      "children": [
       "IPY_MODEL_0b9c64fe5baa45f0a181304c46349c11",
       "IPY_MODEL_97a905649b6b470191b5a74954d4cdbc"
      ],
      "layout": "IPY_MODEL_69813ff02630493bab308626121876fd"
     }
    },
    "8a4c2cad7e884524acfd1f64f489cbbf": {
     "model_module": "@jupyter-widgets/controls",
     "model_name": "HTMLModel",
     "state": {
      "_dom_classes": [],
      "_model_module": "@jupyter-widgets/controls",
      "_model_module_version": "1.5.0",
      "_model_name": "HTMLModel",
      "_view_count": null,
      "_view_module": "@jupyter-widgets/controls",
      "_view_module_version": "1.5.0",
      "_view_name": "HTMLView",
      "description": "",
      "description_tooltip": null,
      "layout": "IPY_MODEL_f66ebfcbbb3a4665b5ffe181cd9ead19",
      "placeholder": "​",
      "style": "IPY_MODEL_df91da5477dc44f4b6bebe9618454a24",
      "value": " 9920512/? [00:13&lt;00:00, 1221399.47it/s]"
     }
    },
    "8c32faf062254780a172f2e35f7f7922": {
     "model_module": "@jupyter-widgets/controls",
     "model_name": "ProgressStyleModel",
     "state": {
      "_model_module": "@jupyter-widgets/controls",
      "_model_module_version": "1.5.0",
      "_model_name": "ProgressStyleModel",
      "_view_count": null,
      "_view_module": "@jupyter-widgets/base",
      "_view_module_version": "1.2.0",
      "_view_name": "StyleView",
      "bar_color": null,
      "description_width": "initial"
     }
    },
    "8f95ba060ccc4d8b9424667b0217ae08": {
     "model_module": "@jupyter-widgets/base",
     "model_name": "LayoutModel",
     "state": {
      "_model_module": "@jupyter-widgets/base",
      "_model_module_version": "1.2.0",
      "_model_name": "LayoutModel",
      "_view_count": null,
      "_view_module": "@jupyter-widgets/base",
      "_view_module_version": "1.2.0",
      "_view_name": "LayoutView",
      "align_content": null,
      "align_items": null,
      "align_self": null,
      "border": null,
      "bottom": null,
      "display": null,
      "flex": null,
      "flex_flow": null,
      "grid_area": null,
      "grid_auto_columns": null,
      "grid_auto_flow": null,
      "grid_auto_rows": null,
      "grid_column": null,
      "grid_gap": null,
      "grid_row": null,
      "grid_template_areas": null,
      "grid_template_columns": null,
      "grid_template_rows": null,
      "height": null,
      "justify_content": null,
      "justify_items": null,
      "left": null,
      "margin": null,
      "max_height": null,
      "max_width": null,
      "min_height": null,
      "min_width": null,
      "object_fit": null,
      "object_position": null,
      "order": null,
      "overflow": null,
      "overflow_x": null,
      "overflow_y": null,
      "padding": null,
      "right": null,
      "top": null,
      "visibility": null,
      "width": null
     }
    },
    "97a905649b6b470191b5a74954d4cdbc": {
     "model_module": "@jupyter-widgets/controls",
     "model_name": "HTMLModel",
     "state": {
      "_dom_classes": [],
      "_model_module": "@jupyter-widgets/controls",
      "_model_module_version": "1.5.0",
      "_model_name": "HTMLModel",
      "_view_count": null,
      "_view_module": "@jupyter-widgets/controls",
      "_view_module_version": "1.5.0",
      "_view_name": "HTMLView",
      "description": "",
      "description_tooltip": null,
      "layout": "IPY_MODEL_29190c992632493987f07d39715e1a29",
      "placeholder": "​",
      "style": "IPY_MODEL_52731a4b217e4800a9898b492fd8376e",
      "value": " 32768/? [00:07&lt;00:00, 4182.01it/s]"
     }
    },
    "9e7cfbe1ef43460f8a5787bc907d383e": {
     "model_module": "@jupyter-widgets/controls",
     "model_name": "DescriptionStyleModel",
     "state": {
      "_model_module": "@jupyter-widgets/controls",
      "_model_module_version": "1.5.0",
      "_model_name": "DescriptionStyleModel",
      "_view_count": null,
      "_view_module": "@jupyter-widgets/base",
      "_view_module_version": "1.2.0",
      "_view_name": "StyleView",
      "description_width": ""
     }
    },
    "a07902338b0b46f8862b58d991312749": {
     "model_module": "@jupyter-widgets/base",
     "model_name": "LayoutModel",
     "state": {
      "_model_module": "@jupyter-widgets/base",
      "_model_module_version": "1.2.0",
      "_model_name": "LayoutModel",
      "_view_count": null,
      "_view_module": "@jupyter-widgets/base",
      "_view_module_version": "1.2.0",
      "_view_name": "LayoutView",
      "align_content": null,
      "align_items": null,
      "align_self": null,
      "border": null,
      "bottom": null,
      "display": null,
      "flex": null,
      "flex_flow": null,
      "grid_area": null,
      "grid_auto_columns": null,
      "grid_auto_flow": null,
      "grid_auto_rows": null,
      "grid_column": null,
      "grid_gap": null,
      "grid_row": null,
      "grid_template_areas": null,
      "grid_template_columns": null,
      "grid_template_rows": null,
      "height": null,
      "justify_content": null,
      "justify_items": null,
      "left": null,
      "margin": null,
      "max_height": null,
      "max_width": null,
      "min_height": null,
      "min_width": null,
      "object_fit": null,
      "object_position": null,
      "order": null,
      "overflow": null,
      "overflow_x": null,
      "overflow_y": null,
      "padding": null,
      "right": null,
      "top": null,
      "visibility": null,
      "width": null
     }
    },
    "a29d833ef26b440da7860fed8ba34c3a": {
     "model_module": "@jupyter-widgets/controls",
     "model_name": "HBoxModel",
     "state": {
      "_dom_classes": [],
      "_model_module": "@jupyter-widgets/controls",
      "_model_module_version": "1.5.0",
      "_model_name": "HBoxModel",
      "_view_count": null,
      "_view_module": "@jupyter-widgets/controls",
      "_view_module_version": "1.5.0",
      "_view_name": "HBoxView",
      "box_style": "",
      "children": [
       "IPY_MODEL_65fabb07c57c4483a80ecdbc4a0f4416",
       "IPY_MODEL_2eac02d62522430bb2bbea1cd68b6006"
      ],
      "layout": "IPY_MODEL_00fa5249bad24cf28706c8908a5109c8"
     }
    },
    "ae1cd3e0757442c895e921a3400d2429": {
     "model_module": "@jupyter-widgets/controls",
     "model_name": "FloatProgressModel",
     "state": {
      "_dom_classes": [],
      "_model_module": "@jupyter-widgets/controls",
      "_model_module_version": "1.5.0",
      "_model_name": "FloatProgressModel",
      "_view_count": null,
      "_view_module": "@jupyter-widgets/controls",
      "_view_module_version": "1.5.0",
      "_view_name": "ProgressView",
      "bar_style": "info",
      "description": "",
      "description_tooltip": null,
      "layout": "IPY_MODEL_e9057bddba6f492a8c696250f9c3f9c6",
      "max": 1,
      "min": 0,
      "orientation": "horizontal",
      "style": "IPY_MODEL_8c32faf062254780a172f2e35f7f7922",
      "value": 1
     }
    },
    "ae1d3af36a124ba2a1d345a4d4be3758": {
     "model_module": "@jupyter-widgets/base",
     "model_name": "LayoutModel",
     "state": {
      "_model_module": "@jupyter-widgets/base",
      "_model_module_version": "1.2.0",
      "_model_name": "LayoutModel",
      "_view_count": null,
      "_view_module": "@jupyter-widgets/base",
      "_view_module_version": "1.2.0",
      "_view_name": "LayoutView",
      "align_content": null,
      "align_items": null,
      "align_self": null,
      "border": null,
      "bottom": null,
      "display": null,
      "flex": null,
      "flex_flow": null,
      "grid_area": null,
      "grid_auto_columns": null,
      "grid_auto_flow": null,
      "grid_auto_rows": null,
      "grid_column": null,
      "grid_gap": null,
      "grid_row": null,
      "grid_template_areas": null,
      "grid_template_columns": null,
      "grid_template_rows": null,
      "height": null,
      "justify_content": null,
      "justify_items": null,
      "left": null,
      "margin": null,
      "max_height": null,
      "max_width": null,
      "min_height": null,
      "min_width": null,
      "object_fit": null,
      "object_position": null,
      "order": null,
      "overflow": null,
      "overflow_x": null,
      "overflow_y": null,
      "padding": null,
      "right": null,
      "top": null,
      "visibility": null,
      "width": null
     }
    },
    "aed31ef77c56420689f15c0d919b59c7": {
     "model_module": "@jupyter-widgets/controls",
     "model_name": "HTMLModel",
     "state": {
      "_dom_classes": [],
      "_model_module": "@jupyter-widgets/controls",
      "_model_module_version": "1.5.0",
      "_model_name": "HTMLModel",
      "_view_count": null,
      "_view_module": "@jupyter-widgets/controls",
      "_view_module_version": "1.5.0",
      "_view_name": "HTMLView",
      "description": "",
      "description_tooltip": null,
      "layout": "IPY_MODEL_e6e25c3b248a4bdaa5b048c36c21408f",
      "placeholder": "​",
      "style": "IPY_MODEL_5e43274757c449b39e0c5a922d8bf508",
      "value": " 0/4542 [00:00&lt;?, ?it/s]"
     }
    },
    "b7c213f903d04c2fa5aa9978255574f5": {
     "model_module": "@jupyter-widgets/base",
     "model_name": "LayoutModel",
     "state": {
      "_model_module": "@jupyter-widgets/base",
      "_model_module_version": "1.2.0",
      "_model_name": "LayoutModel",
      "_view_count": null,
      "_view_module": "@jupyter-widgets/base",
      "_view_module_version": "1.2.0",
      "_view_name": "LayoutView",
      "align_content": null,
      "align_items": null,
      "align_self": null,
      "border": null,
      "bottom": null,
      "display": null,
      "flex": null,
      "flex_flow": null,
      "grid_area": null,
      "grid_auto_columns": null,
      "grid_auto_flow": null,
      "grid_auto_rows": null,
      "grid_column": null,
      "grid_gap": null,
      "grid_row": null,
      "grid_template_areas": null,
      "grid_template_columns": null,
      "grid_template_rows": null,
      "height": null,
      "justify_content": null,
      "justify_items": null,
      "left": null,
      "margin": null,
      "max_height": null,
      "max_width": null,
      "min_height": null,
      "min_width": null,
      "object_fit": null,
      "object_position": null,
      "order": null,
      "overflow": null,
      "overflow_x": null,
      "overflow_y": null,
      "padding": null,
      "right": null,
      "top": null,
      "visibility": null,
      "width": null
     }
    },
    "b99c5ce0e1a440e08fdb16f743ab3574": {
     "model_module": "@jupyter-widgets/base",
     "model_name": "LayoutModel",
     "state": {
      "_model_module": "@jupyter-widgets/base",
      "_model_module_version": "1.2.0",
      "_model_name": "LayoutModel",
      "_view_count": null,
      "_view_module": "@jupyter-widgets/base",
      "_view_module_version": "1.2.0",
      "_view_name": "LayoutView",
      "align_content": null,
      "align_items": null,
      "align_self": null,
      "border": null,
      "bottom": null,
      "display": null,
      "flex": null,
      "flex_flow": null,
      "grid_area": null,
      "grid_auto_columns": null,
      "grid_auto_flow": null,
      "grid_auto_rows": null,
      "grid_column": null,
      "grid_gap": null,
      "grid_row": null,
      "grid_template_areas": null,
      "grid_template_columns": null,
      "grid_template_rows": null,
      "height": null,
      "justify_content": null,
      "justify_items": null,
      "left": null,
      "margin": null,
      "max_height": null,
      "max_width": null,
      "min_height": null,
      "min_width": null,
      "object_fit": null,
      "object_position": null,
      "order": null,
      "overflow": null,
      "overflow_x": null,
      "overflow_y": null,
      "padding": null,
      "right": null,
      "top": null,
      "visibility": null,
      "width": null
     }
    },
    "bae285a23c1b4482ac041a55becc5586": {
     "model_module": "@jupyter-widgets/controls",
     "model_name": "FloatProgressModel",
     "state": {
      "_dom_classes": [],
      "_model_module": "@jupyter-widgets/controls",
      "_model_module_version": "1.5.0",
      "_model_name": "FloatProgressModel",
      "_view_count": null,
      "_view_module": "@jupyter-widgets/controls",
      "_view_module_version": "1.5.0",
      "_view_name": "ProgressView",
      "bar_style": "info",
      "description": "  0%",
      "description_tooltip": null,
      "layout": "IPY_MODEL_bf199a69b64d4f5cad86f707f3ae1e5a",
      "max": 1,
      "min": 0,
      "orientation": "horizontal",
      "style": "IPY_MODEL_df503a8d05b348d0a025698efdda9e39",
      "value": 0
     }
    },
    "bcbc45f7c10a48eaa0408c98c23942a6": {
     "model_module": "@jupyter-widgets/controls",
     "model_name": "ProgressStyleModel",
     "state": {
      "_model_module": "@jupyter-widgets/controls",
      "_model_module_version": "1.5.0",
      "_model_name": "ProgressStyleModel",
      "_view_count": null,
      "_view_module": "@jupyter-widgets/base",
      "_view_module_version": "1.2.0",
      "_view_name": "StyleView",
      "bar_color": null,
      "description_width": "initial"
     }
    },
    "bf199a69b64d4f5cad86f707f3ae1e5a": {
     "model_module": "@jupyter-widgets/base",
     "model_name": "LayoutModel",
     "state": {
      "_model_module": "@jupyter-widgets/base",
      "_model_module_version": "1.2.0",
      "_model_name": "LayoutModel",
      "_view_count": null,
      "_view_module": "@jupyter-widgets/base",
      "_view_module_version": "1.2.0",
      "_view_name": "LayoutView",
      "align_content": null,
      "align_items": null,
      "align_self": null,
      "border": null,
      "bottom": null,
      "display": null,
      "flex": null,
      "flex_flow": null,
      "grid_area": null,
      "grid_auto_columns": null,
      "grid_auto_flow": null,
      "grid_auto_rows": null,
      "grid_column": null,
      "grid_gap": null,
      "grid_row": null,
      "grid_template_areas": null,
      "grid_template_columns": null,
      "grid_template_rows": null,
      "height": null,
      "justify_content": null,
      "justify_items": null,
      "left": null,
      "margin": null,
      "max_height": null,
      "max_width": null,
      "min_height": null,
      "min_width": null,
      "object_fit": null,
      "object_position": null,
      "order": null,
      "overflow": null,
      "overflow_x": null,
      "overflow_y": null,
      "padding": null,
      "right": null,
      "top": null,
      "visibility": null,
      "width": null
     }
    },
    "c92154e8a6f84179a316b216fa051b6d": {
     "model_module": "@jupyter-widgets/controls",
     "model_name": "HBoxModel",
     "state": {
      "_dom_classes": [],
      "_model_module": "@jupyter-widgets/controls",
      "_model_module_version": "1.5.0",
      "_model_name": "HBoxModel",
      "_view_count": null,
      "_view_module": "@jupyter-widgets/controls",
      "_view_module_version": "1.5.0",
      "_view_name": "HBoxView",
      "box_style": "",
      "children": [
       "IPY_MODEL_bae285a23c1b4482ac041a55becc5586",
       "IPY_MODEL_aed31ef77c56420689f15c0d919b59c7"
      ],
      "layout": "IPY_MODEL_481691318dde471b86266fa1dbef09c0"
     }
    },
    "cbee96d3071445cfbfc7fc62d948daf7": {
     "model_module": "@jupyter-widgets/base",
     "model_name": "LayoutModel",
     "state": {
      "_model_module": "@jupyter-widgets/base",
      "_model_module_version": "1.2.0",
      "_model_name": "LayoutModel",
      "_view_count": null,
      "_view_module": "@jupyter-widgets/base",
      "_view_module_version": "1.2.0",
      "_view_name": "LayoutView",
      "align_content": null,
      "align_items": null,
      "align_self": null,
      "border": null,
      "bottom": null,
      "display": null,
      "flex": null,
      "flex_flow": null,
      "grid_area": null,
      "grid_auto_columns": null,
      "grid_auto_flow": null,
      "grid_auto_rows": null,
      "grid_column": null,
      "grid_gap": null,
      "grid_row": null,
      "grid_template_areas": null,
      "grid_template_columns": null,
      "grid_template_rows": null,
      "height": null,
      "justify_content": null,
      "justify_items": null,
      "left": null,
      "margin": null,
      "max_height": null,
      "max_width": null,
      "min_height": null,
      "min_width": null,
      "object_fit": null,
      "object_position": null,
      "order": null,
      "overflow": null,
      "overflow_x": null,
      "overflow_y": null,
      "padding": null,
      "right": null,
      "top": null,
      "visibility": null,
      "width": null
     }
    },
    "d2c197b971af43d2921f9fa10612baf7": {
     "model_module": "@jupyter-widgets/base",
     "model_name": "LayoutModel",
     "state": {
      "_model_module": "@jupyter-widgets/base",
      "_model_module_version": "1.2.0",
      "_model_name": "LayoutModel",
      "_view_count": null,
      "_view_module": "@jupyter-widgets/base",
      "_view_module_version": "1.2.0",
      "_view_name": "LayoutView",
      "align_content": null,
      "align_items": null,
      "align_self": null,
      "border": null,
      "bottom": null,
      "display": null,
      "flex": null,
      "flex_flow": null,
      "grid_area": null,
      "grid_auto_columns": null,
      "grid_auto_flow": null,
      "grid_auto_rows": null,
      "grid_column": null,
      "grid_gap": null,
      "grid_row": null,
      "grid_template_areas": null,
      "grid_template_columns": null,
      "grid_template_rows": null,
      "height": null,
      "justify_content": null,
      "justify_items": null,
      "left": null,
      "margin": null,
      "max_height": null,
      "max_width": null,
      "min_height": null,
      "min_width": null,
      "object_fit": null,
      "object_position": null,
      "order": null,
      "overflow": null,
      "overflow_x": null,
      "overflow_y": null,
      "padding": null,
      "right": null,
      "top": null,
      "visibility": null,
      "width": null
     }
    },
    "d3f55f8aa92b4840b024ddfa914ab4e8": {
     "model_module": "@jupyter-widgets/controls",
     "model_name": "HTMLModel",
     "state": {
      "_dom_classes": [],
      "_model_module": "@jupyter-widgets/controls",
      "_model_module_version": "1.5.0",
      "_model_name": "HTMLModel",
      "_view_count": null,
      "_view_module": "@jupyter-widgets/controls",
      "_view_module_version": "1.5.0",
      "_view_name": "HTMLView",
      "description": "",
      "description_tooltip": null,
      "layout": "IPY_MODEL_d2c197b971af43d2921f9fa10612baf7",
      "placeholder": "​",
      "style": "IPY_MODEL_17e84b43e32c4c8aa8a333270fb0fc71",
      "value": " 32768/? [00:00&lt;00:00, 43257.65it/s]"
     }
    },
    "d786d1185a3e474184f81cdad45a7bbe": {
     "model_module": "@jupyter-widgets/controls",
     "model_name": "HBoxModel",
     "state": {
      "_dom_classes": [],
      "_model_module": "@jupyter-widgets/controls",
      "_model_module_version": "1.5.0",
      "_model_name": "HBoxModel",
      "_view_count": null,
      "_view_module": "@jupyter-widgets/controls",
      "_view_module_version": "1.5.0",
      "_view_name": "HBoxView",
      "box_style": "",
      "children": [
       "IPY_MODEL_285f29331cbf453ba0bb1b4b306cecab",
       "IPY_MODEL_ed682b45ca444ced95ab9261d62bee3a"
      ],
      "layout": "IPY_MODEL_39c526b117334fc0bc4c9e5a2af3c124"
     }
    },
    "df503a8d05b348d0a025698efdda9e39": {
     "model_module": "@jupyter-widgets/controls",
     "model_name": "ProgressStyleModel",
     "state": {
      "_model_module": "@jupyter-widgets/controls",
      "_model_module_version": "1.5.0",
      "_model_name": "ProgressStyleModel",
      "_view_count": null,
      "_view_module": "@jupyter-widgets/base",
      "_view_module_version": "1.2.0",
      "_view_name": "StyleView",
      "bar_color": null,
      "description_width": "initial"
     }
    },
    "df91da5477dc44f4b6bebe9618454a24": {
     "model_module": "@jupyter-widgets/controls",
     "model_name": "DescriptionStyleModel",
     "state": {
      "_model_module": "@jupyter-widgets/controls",
      "_model_module_version": "1.5.0",
      "_model_name": "DescriptionStyleModel",
      "_view_count": null,
      "_view_module": "@jupyter-widgets/base",
      "_view_module_version": "1.2.0",
      "_view_name": "StyleView",
      "description_width": ""
     }
    },
    "e04d4bef00c74a9a9f6af4c3bc9eebdf": {
     "model_module": "@jupyter-widgets/base",
     "model_name": "LayoutModel",
     "state": {
      "_model_module": "@jupyter-widgets/base",
      "_model_module_version": "1.2.0",
      "_model_name": "LayoutModel",
      "_view_count": null,
      "_view_module": "@jupyter-widgets/base",
      "_view_module_version": "1.2.0",
      "_view_name": "LayoutView",
      "align_content": null,
      "align_items": null,
      "align_self": null,
      "border": null,
      "bottom": null,
      "display": null,
      "flex": null,
      "flex_flow": null,
      "grid_area": null,
      "grid_auto_columns": null,
      "grid_auto_flow": null,
      "grid_auto_rows": null,
      "grid_column": null,
      "grid_gap": null,
      "grid_row": null,
      "grid_template_areas": null,
      "grid_template_columns": null,
      "grid_template_rows": null,
      "height": null,
      "justify_content": null,
      "justify_items": null,
      "left": null,
      "margin": null,
      "max_height": null,
      "max_width": null,
      "min_height": null,
      "min_width": null,
      "object_fit": null,
      "object_position": null,
      "order": null,
      "overflow": null,
      "overflow_x": null,
      "overflow_y": null,
      "padding": null,
      "right": null,
      "top": null,
      "visibility": null,
      "width": null
     }
    },
    "e6e25c3b248a4bdaa5b048c36c21408f": {
     "model_module": "@jupyter-widgets/base",
     "model_name": "LayoutModel",
     "state": {
      "_model_module": "@jupyter-widgets/base",
      "_model_module_version": "1.2.0",
      "_model_name": "LayoutModel",
      "_view_count": null,
      "_view_module": "@jupyter-widgets/base",
      "_view_module_version": "1.2.0",
      "_view_name": "LayoutView",
      "align_content": null,
      "align_items": null,
      "align_self": null,
      "border": null,
      "bottom": null,
      "display": null,
      "flex": null,
      "flex_flow": null,
      "grid_area": null,
      "grid_auto_columns": null,
      "grid_auto_flow": null,
      "grid_auto_rows": null,
      "grid_column": null,
      "grid_gap": null,
      "grid_row": null,
      "grid_template_areas": null,
      "grid_template_columns": null,
      "grid_template_rows": null,
      "height": null,
      "justify_content": null,
      "justify_items": null,
      "left": null,
      "margin": null,
      "max_height": null,
      "max_width": null,
      "min_height": null,
      "min_width": null,
      "object_fit": null,
      "object_position": null,
      "order": null,
      "overflow": null,
      "overflow_x": null,
      "overflow_y": null,
      "padding": null,
      "right": null,
      "top": null,
      "visibility": null,
      "width": null
     }
    },
    "e81e6211464246d188ed58a7f443e810": {
     "model_module": "@jupyter-widgets/controls",
     "model_name": "HTMLModel",
     "state": {
      "_dom_classes": [],
      "_model_module": "@jupyter-widgets/controls",
      "_model_module_version": "1.5.0",
      "_model_name": "HTMLModel",
      "_view_count": null,
      "_view_module": "@jupyter-widgets/controls",
      "_view_module_version": "1.5.0",
      "_view_name": "HTMLView",
      "description": "",
      "description_tooltip": null,
      "layout": "IPY_MODEL_422edbf56c704b3e976e3563be300d16",
      "placeholder": "​",
      "style": "IPY_MODEL_4184c1b708d64871a03b581b8f935d15",
      "value": " 8192/? [00:03&lt;00:00, 2278.19it/s]"
     }
    },
    "e9057bddba6f492a8c696250f9c3f9c6": {
     "model_module": "@jupyter-widgets/base",
     "model_name": "LayoutModel",
     "state": {
      "_model_module": "@jupyter-widgets/base",
      "_model_module_version": "1.2.0",
      "_model_name": "LayoutModel",
      "_view_count": null,
      "_view_module": "@jupyter-widgets/base",
      "_view_module_version": "1.2.0",
      "_view_name": "LayoutView",
      "align_content": null,
      "align_items": null,
      "align_self": null,
      "border": null,
      "bottom": null,
      "display": null,
      "flex": null,
      "flex_flow": null,
      "grid_area": null,
      "grid_auto_columns": null,
      "grid_auto_flow": null,
      "grid_auto_rows": null,
      "grid_column": null,
      "grid_gap": null,
      "grid_row": null,
      "grid_template_areas": null,
      "grid_template_columns": null,
      "grid_template_rows": null,
      "height": null,
      "justify_content": null,
      "justify_items": null,
      "left": null,
      "margin": null,
      "max_height": null,
      "max_width": null,
      "min_height": null,
      "min_width": null,
      "object_fit": null,
      "object_position": null,
      "order": null,
      "overflow": null,
      "overflow_x": null,
      "overflow_y": null,
      "padding": null,
      "right": null,
      "top": null,
      "visibility": null,
      "width": null
     }
    },
    "eae3b7bd0dfb4373a5dd06dd29537dcc": {
     "model_module": "@jupyter-widgets/controls",
     "model_name": "ProgressStyleModel",
     "state": {
      "_model_module": "@jupyter-widgets/controls",
      "_model_module_version": "1.5.0",
      "_model_name": "ProgressStyleModel",
      "_view_count": null,
      "_view_module": "@jupyter-widgets/base",
      "_view_module_version": "1.2.0",
      "_view_name": "StyleView",
      "bar_color": null,
      "description_width": "initial"
     }
    },
    "ed580791373148c79c670df05a83340e": {
     "model_module": "@jupyter-widgets/base",
     "model_name": "LayoutModel",
     "state": {
      "_model_module": "@jupyter-widgets/base",
      "_model_module_version": "1.2.0",
      "_model_name": "LayoutModel",
      "_view_count": null,
      "_view_module": "@jupyter-widgets/base",
      "_view_module_version": "1.2.0",
      "_view_name": "LayoutView",
      "align_content": null,
      "align_items": null,
      "align_self": null,
      "border": null,
      "bottom": null,
      "display": null,
      "flex": null,
      "flex_flow": null,
      "grid_area": null,
      "grid_auto_columns": null,
      "grid_auto_flow": null,
      "grid_auto_rows": null,
      "grid_column": null,
      "grid_gap": null,
      "grid_row": null,
      "grid_template_areas": null,
      "grid_template_columns": null,
      "grid_template_rows": null,
      "height": null,
      "justify_content": null,
      "justify_items": null,
      "left": null,
      "margin": null,
      "max_height": null,
      "max_width": null,
      "min_height": null,
      "min_width": null,
      "object_fit": null,
      "object_position": null,
      "order": null,
      "overflow": null,
      "overflow_x": null,
      "overflow_y": null,
      "padding": null,
      "right": null,
      "top": null,
      "visibility": null,
      "width": null
     }
    },
    "ed682b45ca444ced95ab9261d62bee3a": {
     "model_module": "@jupyter-widgets/controls",
     "model_name": "HTMLModel",
     "state": {
      "_dom_classes": [],
      "_model_module": "@jupyter-widgets/controls",
      "_model_module_version": "1.5.0",
      "_model_name": "HTMLModel",
      "_view_count": null,
      "_view_module": "@jupyter-widgets/controls",
      "_view_module_version": "1.5.0",
      "_view_name": "HTMLView",
      "description": "",
      "description_tooltip": null,
      "layout": "IPY_MODEL_12f84509a65742a48d66856b38cd1c98",
      "placeholder": "​",
      "style": "IPY_MODEL_4fbdb5c186704dbf8005fcd2a5ca05b8",
      "value": " 9920512/? [00:20&lt;00:00, 1656239.22it/s]"
     }
    },
    "f66ebfcbbb3a4665b5ffe181cd9ead19": {
     "model_module": "@jupyter-widgets/base",
     "model_name": "LayoutModel",
     "state": {
      "_model_module": "@jupyter-widgets/base",
      "_model_module_version": "1.2.0",
      "_model_name": "LayoutModel",
      "_view_count": null,
      "_view_module": "@jupyter-widgets/base",
      "_view_module_version": "1.2.0",
      "_view_name": "LayoutView",
      "align_content": null,
      "align_items": null,
      "align_self": null,
      "border": null,
      "bottom": null,
      "display": null,
      "flex": null,
      "flex_flow": null,
      "grid_area": null,
      "grid_auto_columns": null,
      "grid_auto_flow": null,
      "grid_auto_rows": null,
      "grid_column": null,
      "grid_gap": null,
      "grid_row": null,
      "grid_template_areas": null,
      "grid_template_columns": null,
      "grid_template_rows": null,
      "height": null,
      "justify_content": null,
      "justify_items": null,
      "left": null,
      "margin": null,
      "max_height": null,
      "max_width": null,
      "min_height": null,
      "min_width": null,
      "object_fit": null,
      "object_position": null,
      "order": null,
      "overflow": null,
      "overflow_x": null,
      "overflow_y": null,
      "padding": null,
      "right": null,
      "top": null,
      "visibility": null,
      "width": null
     }
    },
    "f94f1fcfbb4c492cb7f3e145fd680518": {
     "model_module": "@jupyter-widgets/base",
     "model_name": "LayoutModel",
     "state": {
      "_model_module": "@jupyter-widgets/base",
      "_model_module_version": "1.2.0",
      "_model_name": "LayoutModel",
      "_view_count": null,
      "_view_module": "@jupyter-widgets/base",
      "_view_module_version": "1.2.0",
      "_view_name": "LayoutView",
      "align_content": null,
      "align_items": null,
      "align_self": null,
      "border": null,
      "bottom": null,
      "display": null,
      "flex": null,
      "flex_flow": null,
      "grid_area": null,
      "grid_auto_columns": null,
      "grid_auto_flow": null,
      "grid_auto_rows": null,
      "grid_column": null,
      "grid_gap": null,
      "grid_row": null,
      "grid_template_areas": null,
      "grid_template_columns": null,
      "grid_template_rows": null,
      "height": null,
      "justify_content": null,
      "justify_items": null,
      "left": null,
      "margin": null,
      "max_height": null,
      "max_width": null,
      "min_height": null,
      "min_width": null,
      "object_fit": null,
      "object_position": null,
      "order": null,
      "overflow": null,
      "overflow_x": null,
      "overflow_y": null,
      "padding": null,
      "right": null,
      "top": null,
      "visibility": null,
      "width": null
     }
    }
   }
  }
 },
 "nbformat": 4,
 "nbformat_minor": 1
}
