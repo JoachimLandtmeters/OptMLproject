{
  "cells": [
    {
      "cell_type": "code",
      "metadata": {
        "id": "UffCtqzQe6Wi",
        "colab_type": "code",
        "colab": {
          "base_uri": "https://localhost:8080/",
          "height": 51
        },
        "outputId": "a8e5133e-452f-44bd-eeda-cdcbb59f81ef"
      },
      "source": [
        "%matplotlib inline\n",
        "\n",
        "import numpy as np\n",
        "import torch\n",
        "import matplotlib.pyplot as plt\n",
        "\n",
        "#from helper2 import generate_dataset, visualize_one_dataset, visualize_datasets, predict_grid, visualize_predictions\n",
        "from torch.utils import data\n",
        "\n",
        "%load_ext autoreload\n",
        "%autoreload 2\n",
        "\n",
        "import torchvision\n",
        "\n",
        "from time import time\n",
        "from torchvision import datasets, transforms\n",
        "from torch import nn, optim\n",
        "import torch.nn.functional as F\n",
        "\n",
        "from sdlbfgs import *\n",
        "from helpers_opt_parameters import *"
      ],
      "execution_count": 1,
      "outputs": []
    },
    {
      "cell_type": "code",
      "execution_count": 2,
      "metadata": {},
      "outputs": [],
      "source": [
        "a = [2,3]\n",
        "np.savetxt('b.txt',a)"
      ]
    },
    {
      "cell_type": "code",
      "metadata": {
        "id": "Q69kuSpSe6W2",
        "colab_type": "code",
        "colab": {}
      },
      "source": [
        "transform = transforms.Compose([transforms.ToTensor(),\n",
        "                              transforms.Normalize((0.5,), (0.5,)),\n",
        "                              ])"
      ],
      "execution_count": 3,
      "outputs": []
    },
    {
      "cell_type": "markdown",
      "metadata": {
        "id": "-9xKsqWne6Xv",
        "colab_type": "text"
      },
      "source": [
        "### MNIST dataset\n",
        "The MNIST dataset is loaded."
      ]
    },
    {
      "cell_type": "code",
      "metadata": {
        "scrolled": true,
        "id": "Pll8VA1Ee6X7",
        "colab_type": "code",
        "outputId": "cce0e51c-1812-4e18-94ee-89bc05d7f48f",
        "colab": {
          "base_uri": "https://localhost:8080/",
          "height": 667,
          "referenced_widgets": [
            "d786d1185a3e474184f81cdad45a7bbe",
            "39c526b117334fc0bc4c9e5a2af3c124",
            "285f29331cbf453ba0bb1b4b306cecab",
            "ed682b45ca444ced95ab9261d62bee3a",
            "1c001913037548e1b4e54adcd4c5976a",
            "1e3beaf27b8d4d3995aad4938e72c5be",
            "4fbdb5c186704dbf8005fcd2a5ca05b8",
            "12f84509a65742a48d66856b38cd1c98",
            "05836975b6ba4ac78b4d706149438729",
            "ed580791373148c79c670df05a83340e",
            "43361cc83e804e428eb0a729bae39bfd",
            "d3f55f8aa92b4840b024ddfa914ab4e8",
            "0f63620a482c4249812467fdf28651a5",
            "cbee96d3071445cfbfc7fc62d948daf7",
            "17e84b43e32c4c8aa8a333270fb0fc71",
            "d2c197b971af43d2921f9fa10612baf7",
            "a29d833ef26b440da7860fed8ba34c3a",
            "00fa5249bad24cf28706c8908a5109c8",
            "65fabb07c57c4483a80ecdbc4a0f4416",
            "2eac02d62522430bb2bbea1cd68b6006",
            "51de027408604b749372f763a1258b30",
            "e04d4bef00c74a9a9f6af4c3bc9eebdf",
            "01789712cb904cc88c4e10305485f3bc",
            "a07902338b0b46f8862b58d991312749",
            "c92154e8a6f84179a316b216fa051b6d",
            "481691318dde471b86266fa1dbef09c0",
            "bae285a23c1b4482ac041a55becc5586",
            "aed31ef77c56420689f15c0d919b59c7",
            "df503a8d05b348d0a025698efdda9e39",
            "bf199a69b64d4f5cad86f707f3ae1e5a",
            "5e43274757c449b39e0c5a922d8bf508",
            "e6e25c3b248a4bdaa5b048c36c21408f",
            "548b2916629645499bc720ba97dd90e2",
            "8f95ba060ccc4d8b9424667b0217ae08",
            "ae1cd3e0757442c895e921a3400d2429",
            "8a4c2cad7e884524acfd1f64f489cbbf",
            "8c32faf062254780a172f2e35f7f7922",
            "e9057bddba6f492a8c696250f9c3f9c6",
            "df91da5477dc44f4b6bebe9618454a24",
            "f66ebfcbbb3a4665b5ffe181cd9ead19",
            "7a3e48660a504d0c899a897c4d8d9c7e",
            "69813ff02630493bab308626121876fd",
            "0b9c64fe5baa45f0a181304c46349c11",
            "97a905649b6b470191b5a74954d4cdbc",
            "bcbc45f7c10a48eaa0408c98c23942a6",
            "3da1fb38c29f4c8babd3f7a9e83adacb",
            "52731a4b217e4800a9898b492fd8376e",
            "29190c992632493987f07d39715e1a29",
            "5c9fd6afe6ce4bebaec1e8a7531d9e54",
            "b7c213f903d04c2fa5aa9978255574f5",
            "751d8c2c05e44dfe931f50f313bc6367",
            "30445be09f654ba0a72bf2c8ab4a15ad",
            "39def9bfd62e489bbc33ac1420bb9ec1",
            "f94f1fcfbb4c492cb7f3e145fd680518",
            "9e7cfbe1ef43460f8a5787bc907d383e",
            "5cd13179b30f46fe8658de947ee7106d",
            "67f08aad860a45878ad2a68ef3dd858b",
            "b99c5ce0e1a440e08fdb16f743ab3574",
            "73bca369b2be4cfe88a9d4c794cf2422",
            "e81e6211464246d188ed58a7f443e810",
            "eae3b7bd0dfb4373a5dd06dd29537dcc",
            "ae1d3af36a124ba2a1d345a4d4be3758",
            "4184c1b708d64871a03b581b8f935d15",
            "422edbf56c704b3e976e3563be300d16"
          ]
        }
      },
      "source": [
        "trainset = datasets.FashionMNIST('', download=True, train=True, transform=transform)\n",
        "valset = datasets.FashionMNIST('PATH_TO_STORE_TESTSET', download=True, train=False, transform=transform)\n",
        "trainloader = torch.utils.data.DataLoader(trainset, batch_size=64, shuffle=True)\n",
        "valloader = torch.utils.data.DataLoader(valset, batch_size=64, shuffle=True)"
      ],
      "execution_count": 4,
      "outputs": []
    },
    {
      "cell_type": "code",
      "metadata": {
        "id": "JNqIMib3e6Yt",
        "colab_type": "code",
        "outputId": "011696c7-1f7d-4ecc-b0fa-afb12b23a183",
        "colab": {
          "base_uri": "https://localhost:8080/",
          "height": 408
        }
      },
      "source": [
        "print(\"Training and test sets information is displayed.\\n\\n\")\n",
        "print(\"Trainset:\\n\",trainset)\n",
        "print(\"Testset:\\n\",valset)"
      ],
      "execution_count": 5,
      "outputs": [
        {
          "output_type": "stream",
          "name": "stdout",
          "text": "Training and test sets information is displayed.\n\n\nTrainset:\n Dataset FashionMNIST\n    Number of datapoints: 60000\n    Root location: \n    Split: Train\n    StandardTransform\nTransform: Compose(\n               ToTensor()\n               Normalize(mean=(0.5,), std=(0.5,))\n           )\nTestset:\n Dataset FashionMNIST\n    Number of datapoints: 10000\n    Root location: PATH_TO_STORE_TESTSET\n    Split: Test\n    StandardTransform\nTransform: Compose(\n               ToTensor()\n               Normalize(mean=(0.5,), std=(0.5,))\n           )\n"
        }
      ]
    },
    {
      "cell_type": "code",
      "metadata": {
        "id": "HoeGNVgDe6ZY",
        "colab_type": "code",
        "outputId": "ad93a039-56f8-428e-9c5f-96e01c9a7f57",
        "colab": {
          "base_uri": "https://localhost:8080/",
          "height": 51
        }
      },
      "source": [
        "print(valloader)\n",
        "len(valloader)"
      ],
      "execution_count": 6,
      "outputs": [
        {
          "output_type": "stream",
          "name": "stdout",
          "text": "<torch.utils.data.dataloader.DataLoader object at 0x7fe2b747f690>\n"
        },
        {
          "output_type": "execute_result",
          "data": {
            "text/plain": "157"
          },
          "metadata": {},
          "execution_count": 6
        }
      ]
    },
    {
      "cell_type": "markdown",
      "metadata": {
        "id": "zBiDKkW5e6Zd",
        "colab_type": "text"
      },
      "source": [
        "64 images in each batch and each image has a dimension of 28 x 28 pixels\n"
      ]
    },
    {
      "cell_type": "code",
      "metadata": {
        "id": "HIuPhUYHe6Zd",
        "colab_type": "code",
        "outputId": "e98246ae-6bae-4e3c-a177-197e1938f7b0",
        "colab": {
          "base_uri": "https://localhost:8080/",
          "height": 297
        }
      },
      "source": [
        "# A subset of a batch is plotted to show a sample of the dataset. \n",
        "dataiter = iter(trainloader)\n",
        "images, labels = dataiter.next()\n",
        "figure = plt.figure()\n",
        "num_of_images = 60\n",
        "for index in range(1, num_of_images + 1):\n",
        "    plt.subplot(6, 10, index)\n",
        "    plt.axis('off')\n",
        "    plt.imshow(images[index].numpy().squeeze(), cmap='gray_r')"
      ],
      "execution_count": 7,
      "outputs": [
        {
          "output_type": "display_data",
          "data": {
            "text/plain": "<Figure size 432x288 with 60 Axes>",
            "image/svg+xml": "<?xml version=\"1.0\" encoding=\"utf-8\" standalone=\"no\"?>\n<!DOCTYPE svg PUBLIC \"-//W3C//DTD SVG 1.1//EN\"\n  \"http://www.w3.org/Graphics/SVG/1.1/DTD/svg11.dtd\">\n<!-- Created with matplotlib (https://matplotlib.org/) -->\n<svg height=\"229.150024pt\" version=\"1.1\" viewBox=\"0 0 349.2 229.150024\" width=\"349.2pt\" xmlns=\"http://www.w3.org/2000/svg\" xmlns:xlink=\"http://www.w3.org/1999/xlink\">\n <defs>\n  <style type=\"text/css\">\n*{stroke-linecap:butt;stroke-linejoin:round;}\n  </style>\n </defs>\n <g id=\"figure_1\">\n  <g id=\"patch_1\">\n   <path d=\"M 0 229.150024 \nL 349.2 229.150024 \nL 349.2 0 \nL 0 0 \nz\n\" style=\"fill:none;\"/>\n  </g>\n  <g id=\"axes_1\">\n   <g clip-path=\"url(#pe7989d1807)\">\n    <image height=\"29\" id=\"imagedaaf2b2b5b\" transform=\"scale(1 -1)translate(0 -29)\" width=\"29\" x=\"7.2\" xlink:href=\"data:image/png;base64,\niVBORw0KGgoAAAANSUhEUgAAAB0AAAAdCAYAAABWk2cPAAAABHNCSVQICAgIfAhkiAAABQ1JREFUSIm9lr1uE0sbgJ+d3Z3138aOsTFGQQpRKiRcgYTEBSBquAEaxF1wAzSUSNRUoUMCIVEhfrogqkggSAooEtsyIV57dnZ2TpFv57Pj+IRzivNKltfrd99n3v/Fzogxxm5tbdnnz5/P3fs38vjxY3v79m177949+/3797n/Ambk1atXPHnyhC9fvpDnOXfv3kVrTRRF/InkeY4QAoAXL16gtWZ/f5/t7W3W19ednph96PPnz3S7XdrtNu/evQP4Y2ABBUjTFK01zWaTarXKzs7OnN4c9ODgAGMMURTx/v37P4Y5Y//zcnt7myRJsNaitcYYM6c3F94gOP5ZKpXY29ub86Dw4qRYax3QGIOUkp8/f7oDzNo9FVooBkGAUmru/qyRZeL7PgC7u7sAhGGIUopSqbQcWqlUUErheR6j0YjhcEi5XObHjx/4vu+8MsbMhWz2/ubmJm/evMHzPKIoYjqdIqVcDl1dXUVrjdaabrfLw4cP+fr1K79//8b3fbTWZFmG53l4ngfgrn3fRynFxsYGu7u7NBoNF9ZyubwcWq/XsdaS5zmTyYTRaESv16Pf7xNFEVmWkWUZQRC4cOd5ThAEDnr+/Hk+ffpEnuf4vk+apoRhuBzabrdJ05QsyxBCMB6PSZIEpZQ7jBCCNE3nwhsEgcuflBKllDscwLlz55ZDO50OnueR5znWWnzfd8Y8z3MnPllYnudhjHGDpF6vY4yhUqng+/5CIYmTUDguiCAIGAwG7qEwDMnzHGPMQvtkWeYOWUSm8DJNU2q12nJoq9Vy4ZFSorWm3+/j+z6e51EqlYiiCM/zkFIipcRaSxAEGGPwfZ/Dw0OGwyFCCMrlMtZaVlZWlkOllFQqFeC4qIrKrFQqaK0B3Pds2+R57vSCIEBKied5TrfVai2H/leyAPV9H9/3aTabZFmGMYZarebyaa0lDEPnqRDC5bPweHV11bVYuVz+++qF40YOgoB6ve6MwPFIKyr45AAvqlkIQb/fp1qt0m63GY/H1Ov1sz1ttVpUq1XiOCYMQ6SUCCHmcgT/n0TFMsjznHq9zocPH4jjmGazyXg8Zm1t7Wxou90mDEOq1SoA0+mUJEmc4SLExadoH2stxhh2dnbodruEYchgMGBjY+NsaLfbZTAYEMcxAKPRaK4/C+Oz6y5NU6rVKkdHRwghaDabeJ7H4eEh169fPxtaDIgwDDk6OgJwWyIIAtejRQ6LwgLcOsyyzE2nK1euLEAXCqmYv79+/SJJEiqVCrVajSRJ3DCYXXMFNE1TOp0OnU6Hfr9PqVQijuOFtXYqdHNzk0ajgVKKWq3GhQsXUEoRRZErqDzPF4wVXt+4ccPpX716dQF4KrRUKnH58mWUUly6dAkhxNwsLUJftJLWGiEEUkomkwmdTofxeMxkMuHWrVsuGoU+nMhpURi9Xg+lFHEcM51OMcYwmUyw1rp3oWLZh2GIEAKttTMehiEHBweuiIpUnAotTnP//n329vaw1roZLKXEGMN0OnU9q7VmMpmglHI7NgxDxuMxN2/eJIqiuXdhx7EnjlEovXz5kqdPn1Kr1SiXy0RRxMrKCnEcu1cWOK7o4XBIkiQMBgPXx8+ePUMI8c+gAN++fWNra4uPHz8ipWQ6nfL27du5VZXnOdeuXUMpxcWLF7lz547L5WnAU6Enk17I69evefToEWtra6yvr9NoNADY399nOBzy4MEDer3emXYA/gI9OieWk6FUAgAAAABJRU5ErkJggg==\" y=\"-6.572881\"/>\n   </g>\n  </g>\n  <g id=\"axes_2\">\n   <g clip-path=\"url(#p8149be246e)\">\n    <image height=\"29\" id=\"image49dce31df3\" transform=\"scale(1 -1)translate(0 -29)\" width=\"29\" x=\"41.247458\" xlink:href=\"data:image/png;base64,\niVBORw0KGgoAAAANSUhEUgAAAB0AAAAdCAYAAABWk2cPAAAABHNCSVQICAgIfAhkiAAAAwhJREFUSImtl89OwkoUh79pS1v+BYhoNJho4iu4MXFv3PksrnwUfQJXLo0P4c7EDQtrBIwIhkortEw7vQtDEwI3zL1ydp1fc77OzDm/mYosyzI04vr6Gs/zODk54eLiYkG7ubmh2+1ydnbG6enp2lyWDjCOY+7u7gjDEM/zlqD39/eMRiM8z9OCGjpQx3FotVrUajUODg6W9EqlQqlUolgs6qTTg8LvbLMsQym1pM3HV2l/htq2TaFQWKkrpdAsD30ogGmazGazpfHJZEKWZSRJsjlomqZkWYZpmpimuaQHQQCw2eVVSiGEwDAMqtXqkm5ZFkIILSBotsw8TNPE9/2V40IISqWSVh7tmQJIKfn6+lr5TrlcZnd3d3NQIQRCCJRShGG4oH18fJAkCfV6fbN9ats2vV6PLMsIw5D39/dce319JYoiHMeh0+loQbX3VCmFYRgIIRbaZjAYIKUkjuOVlb0qtPt0DpJSMhqN8vEgCJBSEkXRvxrH/4ZuMv6TOSilkFLy8/OTa71eb6G6Nwb9/PwkjmMMw8CyLHq9Xq55npebfZqmWmAt6NvbG1JKTNPEsixeXl5y7enpCcuySNOUKIoW9vtP0MFggGEYmKaJ67oLLfP8/IzjOKRpCvyeRhuBttttLOu3uwqFAr7vEwQBQRDg+z6u6+Z73u/31+bT6tNut0uxWGQ2m2HbNlEUcXt7C4DruliWhWH8fv9wONwM9Pv7m3K5nD+Xy2UeHh4AqNVqGIaRm8dkMtkM1Pf93G1s22Y8HvP4+AhAqVSiUCgghMC27YV2+hN0Op3mhTQcDhmNRmxvbwNQrVZzNzIMQ+vKogWt1+t0Oh3iOM5Pmb29vVzzfR+lFEmSsLOzszafVvUeHR0RhiFRFOUFM48kSXAcJ4fu7+9vBtpoNIjjmEqlQq1WI03TBReaV3Cr1aJer6/Np7W8x8fHXF1d5W6TJEl+S2i327iuS6PRYDweM51O1+YTuv8yl5eXNJtNtra2kFJyeHgIQL/fp1qtEscxzWaT8/Pztbn+AZytki0z/pMsAAAAAElFTkSuQmCC\" y=\"-6.572881\"/>\n   </g>\n  </g>\n  <g id=\"axes_3\">\n   <g clip-path=\"url(#p8e6a26b155)\">\n    <image height=\"29\" id=\"imagedbae89f6e5\" transform=\"scale(1 -1)translate(0 -29)\" width=\"29\" x=\"75.294915\" xlink:href=\"data:image/png;base64,\niVBORw0KGgoAAAANSUhEUgAAAB0AAAAdCAYAAABWk2cPAAAABHNCSVQICAgIfAhkiAAABHNJREFUSInllj1v1FoQhh9/7LG9fGw2scguG0QEBRJEAiQkhARIKSPxB1LzN2gQHXQICgQdJQ0VZYToaBENAkEoQjYfSEbZZNc+x2dusfeYXTaX5Dbc4h7JsjW2533nzDtzxhMR4Q8v/08DAoS/GnZ2dvj27Rvdbpe1tTU2NzfJsoyiKGi321y+fJnr169POBIRPM+r7gDPnj1jZWWFY8eOYYzh8ePHxHEMIiL37t2Ta9euydTUlAAHXq1WS3q9nvR6PXHLWisiIsaYygaI7/uSpqkA8vz5cxERCZ88ecLdu3dptVrEccz8/DxhONwAz/MIwxBrLdZatNZYa8myjKNHjwKwvb3NzMxMFaGLEuDq1at8+PCBOI6J45gsy4bbe/78eVqtFkmScOTIEay1FEVBURT4vk+/38f3fZRS5HmO1prZ2VmCIAAgTVM2NjY4ceJERdSt79+/k+c5jUaDoij48uULAP6NGze4f/8+zWaT3d1dsiwjz3OSJKFer5MkCUopRIQgCIiiiL29PdI0JU1TGo0Gs7OzrK+vT4AmSQKAtRal1E9QgOXlZd6+fcuLFy+4ffs2nU6Hr1+/sr6+Pkw8oJQiiqLhT77PYDBgMBgwMzPD9PQ0J0+e5NWrV2PiMsbg+z4iQhiGfPr0aUjMWitaa5RSYz+sra2xtLTE6uoqZ8+eZW9vr3Lkcuwi8zyP3d1dtra2uHnzJisrKwRBwOLiIq9fv2Zubo4fP34QxzGbm5v4nuehlMJaWzkE6HQ6vHv3jgsXLvD582eiKCIIgiq/vu/j+z/LvNlscvr0ad68eUMYhjx69KjaamMM9Xqdra2tn5GO1pe1Fs/z6Pf71Ot1AKanp+l0OgBorcnzvAJzJEWEOI4REXq9Ht1uF6UUjUaDsizxfZ/t7e3hljs27u7Y1+v1yuGDBw94//49ZVmitR4TiyMM0O/3GQwGKKWYn5+vVK6UqtT+8eNHvN/13rIsq4+TJOHUqVN4nkdRFBPfulIDCIJgjIwxhiRJWF1d5eXLl7/vvQ4QYGlpiV6vNyE4Eal2xIFZaynLshLZaNPY2Nj4bxr+gaDGGABu3bpViWi/jDibiFRXWZaUZQlQ3ZvN5uEjvXjxIlEUjZ0mo0D/ROBXW5qmvxcSDAXiFO15HmfOnEFrXdmstRPOXT6NMWOi6na7iMjBkY6WR7vdxhhDFEWVOFyTcI5dnTsiRVEgIuzs7LC4uAj8y8mh3W6T5zm1Wm1fYqONAqg6mHv/8OHDw4GORnru3DlEZKwjObBfAV3OgyAgyzLm5uZYWFg4fKTO4ZUrV9BajynTGDPM09+nyShZrTVhGKK15s6dOxWZQ4G6TnPp0qV9y6UsyzG7605BENDv92k2mywvL1fvJwaz/ZYbXxYWFpiamqrOR4AoijDGoLWmVquNHRxOQJ1Op+punucNB7ODVlmWY8PW8ePHDzXAJUlSPY8OcIeKdFRMT58+pVarobUGhoNZHMcTnSpJEmq1GtZaut3uuL//zYT/n4D+Bahl3skjpZK+AAAAAElFTkSuQmCC\" y=\"-6.572881\"/>\n   </g>\n  </g>\n  <g id=\"axes_4\">\n   <g clip-path=\"url(#p85e3eaa6e4)\">\n    <image height=\"29\" id=\"image6e7fdc2695\" transform=\"scale(1 -1)translate(0 -29)\" width=\"29\" x=\"109.342373\" xlink:href=\"data:image/png;base64,\niVBORw0KGgoAAAANSUhEUgAAAB0AAAAdCAYAAABWk2cPAAAABHNCSVQICAgIfAhkiAAAAr1JREFUSImtl0tO40AQhj8/sZNICbCBBRJIOQAg2HEWdhySBRsuYBAsAhiUCMgiJAJCHvgR1ywy3eBhRvEoLsmK3ZXUl6rq/ruNFLCrqytpNBpycnKix9I0lTRNRUQkDENpNptyfHxcJJzYFLAgCHh7e+Pi4kKPpWkKgGVZBEFAGIbUarUi4SgEdV0X27b5+PjQY4Zh6HvTNAvB/gs6GAwAiKLor9Cnp6fyoVmWATCdTvXY9+wUVH1vkRWqiwo2m810iQ3D0Nm2220gX4mlocPhEMuyiKKI+/v7+Q9NU2cbx3H5UMuyMAyDKIro9Xo//P1+H8dxEJHyoL7vAyAiXF9f//APBgNc181NrqWh6+vrOtvz8/Mf/n6/j23b5UJ3dnYAcByHy8vLnK/dbjMajTAMg5WVlfKg9Xqd2WyG53l6pio7OzsjjmNM06TT6ZQHrVarGIaBZVlsbm7mfJ1ORy8p13XLg25sbDCdThER0jQlSRLtcxxH97JUcSjbCkFVr0zT5OXlJZeRiCAiuK6b2xCWhv65Nr9rsPoDtj2X8c/Pz3Kgz8/PwFyZAO7u7rTv9fUV+Np1bm5uyoG+v7/nAn9fq61WC8MwdMZKm5eGhmGYg6pngNvbW2zb1tDvVVga6jiOfj49PdX3SixUT1ut1sJ4hTbxXq+HbdskSUKtVqPb7RIEgfZXq1WiKMLzPB4eHsqBZlmmBb9SqTAej9nf358H+C30IoLneUwmk3Kg6uSXZRlJkuC6bk7y1D6aZVmuDf+yQj1tNpuMRqMcRF3wdYoYDodsb2+XAz06OsoB4euMpGa0+tzd3V0Yr1B5Dw8Pgbm4q6WhSq7OSWov3dvbWxywyGvAZDIR4K9Xo9EQx3GkXq8LIOPxuJzXCt/3OTg4YG1tDd/3iaKIra0tAB4fH+l2u8RxzOrqKpVKZWG8X70X6BpJRCkrAAAAAElFTkSuQmCC\" y=\"-6.572881\"/>\n   </g>\n  </g>\n  <g id=\"axes_5\">\n   <g clip-path=\"url(#p73140ea0d9)\">\n    <image height=\"29\" id=\"image9cfdf9843b\" transform=\"scale(1 -1)translate(0 -29)\" width=\"29\" x=\"143.389831\" xlink:href=\"data:image/png;base64,\niVBORw0KGgoAAAANSUhEUgAAAB0AAAAdCAYAAABWk2cPAAAABHNCSVQICAgIfAhkiAAAAw5JREFUSImtls1O6kwYx38dpi0VERYGYiTx4wKMaxNX3okbE29Ir8edMdHEDWKUGDECEpUCQktnOmdBqIe87zn0xD6r9pnM/9c+XzOWMcaQwo6Pj3Ech/PzcwDm2yzLAuD09BRjDGdnZ0u1rLTQUqmElJL393cAlFIASCkBqFQqrK6u0mw2l2rJNECAYrFIoVD4s5CUrKyspNISaaG2bTMcDv+4rpTi4+MjWyjAeDzm+fkZmOV0npnPz09GoxHGmCTsP4b6vk8QBIRhyMXFBQBxHBPHMQCXl5dEUYTW+q/R+Cdot9tFaw3Azc3NbKMQCCES3/wPe73eUr1UhTQYDFBKYds29/f3s43ye+vcp7XG9/1soEEQIKXEcRym0ynw3Z8Ak8kE13VxXZcgCLKB1mo1CoUCxpj/bQvHcfA8j1KpRLFYXKqXKqfb29tUq1Usy2I8Hv9nPYoiCoUC1WqVvb29bKAw+xutdRLe363dbuO6LpZlJcWVCXR9fR3Lsnh5eaHRaCT+fr9Po9GgXC7jum4qrdTQOI4RQqCUotVqJf5ms8lwOERKuVDRmUCztNRQrTWWZaG1pt1uJ36lFFprlFLJhMoM2uv1sG0bpRTdbjfxdzodtNYIIRY+JhPo09MTtm0TxzFvb2+J3/d9tNZEUUSn08kW2u/3yeVyGGMW5qvv+xhjyOVyANzd3WUDHQwGhGGYvL++vibPX19fwCznuVwumcM/hl5fXwMQhiFCCG5vb5O1er2OMYbJZIKUMjmFfgyt1+vA7GQplUoLuXt8fARmNwvP87i6ulqql6qbHx4eABbaYl5MURQBszALIRZC/yNouVxOAMYYNjc32d/fB2Zzt1wuJ22TxlJBd3Z2gNm9aDweE0URo9EIgHw+j+M4SCnRWlOpVLKBHh4eAt+VGsdxMtyllMRxzHQ6ZTQasbGxkQ10a2uLfD6f9KPneQuXbWMMUkqEEBwdHWUDnZvv+1iWRRiGeJ4HzK4qv5tt29lBT05OCIKAWq1GEATs7u4mH6K1Zm1tjVarxcHBwVKtX8p2kKLDLWMoAAAAAElFTkSuQmCC\" y=\"-6.572881\"/>\n   </g>\n  </g>\n  <g id=\"axes_6\">\n   <g clip-path=\"url(#pafe4f69f67)\">\n    <image height=\"29\" id=\"imagecee8411416\" transform=\"scale(1 -1)translate(0 -29)\" width=\"29\" x=\"177.437288\" xlink:href=\"data:image/png;base64,\niVBORw0KGgoAAAANSUhEUgAAAB0AAAAdCAYAAABWk2cPAAAABHNCSVQICAgIfAhkiAAABPpJREFUSIm1l89u00oUxn/2+M84jp24rQKVQhESEoIlQhSxZ4PEgh1vwArxBDwAD8ILUIkdGxaRgBUSy0pAhaho3do4MfG/ce6i16NWJJd2cY8UJfKMv++cM+c7Z2IsFosFS2wymbCzs8NoNOLw8JAgCFBKoZRCCMGPHz8AuHLlCkmScO3aNXzfp65rTNPE8zyePHmyDBpjFenDhw/5+PEj29vb1HWN7/v4vo9t2ziOg2maADiOQ1EUAEgpadsWKSVxHPP06VO2t7f/wLaWugKUZcnm5iaj0QghBEEQ4LquXpdS6n0bGxscHx8jpaRpGr327NkzPnz48Ae2uYp0MBggpaSua7Iso2kaDMNgPp+jlKIsS8qyJE1T4jjGsiyCIMCyLO3UixcvlmKvJF1fXyfLMvI8pygKLMvSgJZlkaYpaZpS1zVhGBJFEUopADY2Nvj9+zcPHjy4GOm9e/eoqopfv36RZRlt2yKEoG1b7YBlWYzHY8IwZDqdIoTAdV329/d1tBcivX//PnVdkyQJvu/T6/UQQtA0Db7vn4n8+PgY13V1cRmGwebm5iro1aQATdMAJ+nq9XpUVaWJTpvrugghALRDcRyvxF1ZvW/fvmWxWGBZFlVVUVWV1mAnC0DLpygKpJQURUFd1/8Vy+pIJ5MJZVlS1zVSSnzfJ89zPM/TaQT0bykljuMghKAsS7Is4+Dg4GKku7u79Pt9DMOgbVscx6FpGmzbPknRv2cqhNAFNp/PsW2bpmmo65q9vb2LkQZBgOd5AFRVpTtR0zS0bYvneXieh+M4f3SozrlPnz4txV55poeHh5imyWKxQCmF4zgAuit1JKZpIoSgqipdTABhGJIkyfkj3dvbYzgc4jgOZVni+74GDMNQF1P36Z6HYagr3Pf9i5/p/2lLSff397l06dKZdM3ncxzHQSmlJdPJRilFnufM53OEEFiWhed5F4s0yzI9Ozs7rc1upnZOtW1LVVW0baurG9DPzkXakXUdyXEc8jzXa7Zta6eqqjqj26IoWFtbwzAMAL5//34+0q67uK6rOxJwJrqOVClFXdc6IqWUzsjp4zltSyWTJAnD4VBHEoYhvu9jmqaWTpcNIYROafetlCJNU2zbJkkStra2/k562vNer0fbtvq64rouZVnqlE6nU90gugYyn8+p6xrHcZhOp+eL1LZt8jxnPB5j27aOUghBv98HOJPOPM+xbZsoiijLkjiOCYIAgNlsdj7SDiQIAuI4xjAM0jQlDENmsxmWZelBrZQiyzKiKGI2mzGdTknTlH6/jxBC7/sr6cHBgZ4acRwzGAyoqoosywjDEDiZm91eIQRJklBVFUdHRwgh9L7upvhXUoDhcMhgMNCeFkWB53law11BCSHI8xyllL5Lra2tASe1sWy2LpVMmqa4rstoNEJKyc+fPwGI41g38SRJSJKEy5cv6/eSJMGyLC0lKeWZBvOfpHEcMxqNiKKIq1ev0u/3OTo64v3790RRxPr6OkVRUBQFURQhpeTbt28URcF4PAZOBoCUcumkWZreoih49eoVd+7cwfM8hBC8fv2ara0tiqLQUwjg3bt3vHnzBsdxCMOQW7duMZ1O+fz5M3me8+jRoz/wV/6t+PLlCzs7O1RVxcuXL4njmOfPn3P79m2UUvpWcOPGDXZ3d5lMJnz9+pW7d+9y8+ZNrl+/zuPHj8+0yM7+AYiskHco5TuAAAAAAElFTkSuQmCC\" y=\"-6.572881\"/>\n   </g>\n  </g>\n  <g id=\"axes_7\">\n   <g clip-path=\"url(#p2fb7afe522)\">\n    <image height=\"29\" id=\"imagea7885c3833\" transform=\"scale(1 -1)translate(0 -29)\" width=\"29\" x=\"211.484746\" xlink:href=\"data:image/png;base64,\niVBORw0KGgoAAAANSUhEUgAAAB0AAAAdCAYAAABWk2cPAAAABHNCSVQICAgIfAhkiAAABJZJREFUSImtlk9v00oXxn/22I7jyIlTCkobJ0FQ/u7aJWKJgAUb9nyAfgF27JBYsYYvgWALQuxgV4kFAqGiQiOkKLQoTYDEdib23EXfzNsS595wdR9pFCUzmef8ec6Zg5qDe/fuqZcvXyqllEqSRGVZNu/oH8NkDtI0RUoJQJZlGIYx7+gMJpMJANvb2zx+/HhmP5c0jmOEEOzs7ABQKBQWJgSwLAuAWq1Gp9OZ3c/70/7+Pr7vMxqNAP7IyymePXvG8vIyvu8vRrq1tQXA58+fefHiBTdu3CBNU4QQc0mUUtq4O3fusLy8jOM4uaS54W21Wppgd3f38KA5N/0z6PV6LC0tEYYhURTN7Od6urS0xI8fPxiPxzSbTeBQTKZpkmXZrOW/GVQsFpFS4nkeDx48WIxUCKHDsrKyon87+vl3mKr+9OnTufu5pEopOp0OBwcHlMtlAD5+/MhkMmE4HGovfjdibW2NUqnEcDik3+/PNSqX9Pnz53S7XT59+sTdu3e5fv06X758oVQqYRgGUkpNZhgG4/GYJElYXV0lDENGoxGdTodHjx5x7dq1xUjjOKZcLvPr1y+2trbY3NxESonruprEcRzgsImMx2MANjY2ePjwIb7v02g0ePfu3bGzU8yVpGmaXL58mVqthpRSryiKNNF0SSkZjUZ6PwgC9vb2OHPmDF+/fp29O4+wUqkghKBSqRCGIa7rkqYppmnqsJqmqVVrGAau6xLHMevr63Q6HZRSNJvN3MaSS+q6LrZtA4eiCsOQOI6BfPWaponneRQKBeI4Jk1TVlZWiKIot74Xr/j/ELlCqtfruK5LsVgE0A3BMAyUUsD/a/EoBoMB9Xod27ZxXZdTp04RBMHMuVxPLctCCIEQAqWUfnXmwbZtsixDSkm73WYwGFAul+n3+7mkuZ6urq4ihKBYLPL9+3csy9I5hsOcT72fPgSu61IoFHj//j2NRoNKpaKjspCnzWYTIQSe51EsFrEsC8MwME1Tq3Gq3ukqFAq0220+fPjApUuX+PnzZ+4LM5cUDvNn2zZnz57lyZMnDIdDhBDHiKdI0xTP89je3iZJEk6ePEm326XVav0Z6YkTJ3AcB9u2efPmDZ7n6dwezbnjOHqc6ff7HBwc0Ov18H2fixcv5t6dm1OAMAwZDAbEccyVK1e4cOEC3759I01T/cxNYds2Ukpu3rxJrVajUqkwmUw4d+7cn5E2m03evn2LZVns7e0RRRGe5yGlxLZtPXzBYX7jOKZUKrG2toZSaqbfHsXc8LZaLd32Wq0W4/GYLMu0im3bxrbtY8ru9Xqkacr+/r7OZ5qmi5MGQcBoNEIIQRAEmKapy+OokKbflVLYto3v+0wmE9bX13UUFiKd1tfVq1dJkoQoisiyDCGEnofjONb9WCmFlJIkSeh2uzQaDarVKpA/SRpqXgX/D7u7u7x69YqdnR0cx+H8+fPHmkMcxwyHQ9rtNq7rsrGxwa1bt7Qx/4r0KJ4+fcrr16+pVqt6oA6CgDRNuX37NvV6faF7/pH093l3c3OTdrut1VmtVrl//z6NRkOfmefhFH8BL+RleN7WoyAAAAAASUVORK5CYII=\" y=\"-6.572881\"/>\n   </g>\n  </g>\n  <g id=\"axes_8\">\n   <g clip-path=\"url(#p6f8b7495ac)\">\n    <image height=\"29\" id=\"imagee5af1b9e3e\" transform=\"scale(1 -1)translate(0 -29)\" width=\"29\" x=\"245.532203\" xlink:href=\"data:image/png;base64,\niVBORw0KGgoAAAANSUhEUgAAAB0AAAAdCAYAAABWk2cPAAAABHNCSVQICAgIfAhkiAAAA/lJREFUSIm1ljtLM0sYgJ/ZnXVzMRglKN6CN4gIooUigqCdlb2lv8DCP+BPsBfBUitRextbwUIrUUTxkkJBCxN3s7szp/DMnIjGT/04LwR2szPvM+990N+U8/NzfXh4qCuVyodvtVpNHx8f6+XlZb2+vv5HXZIGsrKywtXVFRcXF0xNTbG3t4frujw/P1MsFimXywBsbGywtrbG2dkZURTR29uLUorW1lZ2dnbY3t7+oLshtL+/n9vbW1KpFG1tbWSzWQCKxSJjY2M8PT0BsLq6ShiGpFIppJQMDQ1xeXnJzc0NMzMzn+p2GkFLpRL5fJ6Hhwf29/cJw5AwDKlWq+zu7iKEQAhBHMeUy2Ucx8F1XY6Ojtjc3OT+/p6xsbGfQUdHRwmCgCAIeH19xXXdN9dISTqdxnVdXNclSRJ83wcgjmMAMpkMw8PDTE5O/gza2dmJ1hoAIQRaazzPs9+llEgpUUohhMBxHOI4RgiBUoq2tjZSqdTPoAD5fN5aqJQiiiILqLdUSonruggh7HtLS0tDvV9CBwYGyGQywJvrjOWO49if1toezMQ4k8nQ3d39O2ipVCKdTqOUQkqJEALAQowHpJT2fykluVyO8fHx30EnJiZsqTQ3N1uXZrNZ4ji2iaOUIkkSe6hKpUJfX9/voO3t7WitrdJarUYcxyRJQhRFRFGE7/torXl5ebHJVCgUaG5u/h0UYHh4+L/FjkOSJLy+vuJ5Hp7n2ZIxVgJ0dXV9qfOP0FKpZIEAWmuklDaRTKzNM7x1LbP2R9BarQbA7OwsWmtbDgb+Tsm/bjWJNDc3907Hjy39P0ToBj5IksSWxsjICFprgiCwSWRan4llEAR4nofjOJyenpLL5Yjj2Lq8XhpaWl+Lvu/z8vKC53k2Tr7vvwP7vm87Vi6X+6DjW1CAMAwBmJ6eJgxDmzC+71OtVqlWq0RRRBzHOI5DpVJhfn7e7q/P6G9DjVWlUsk2cjPSjJgwaK1xHMf2XHPgz6ThEK+XYrFou4+BJkkCYCdPFEUAFAqFdwf+NdRYqZQiCAKklDaeUkqCILDrzPNfQ40opeyzUWqmj0kaY3mjeMI36zSVSlmImZ3m+iKEwHVdlFI4jsPs7OzfQc3Gjo4O22ebmpqo1WpordFa21ib9tjZ2fmm+JPOZeRL95qN2WzW9lrjTuPGMAzxPM+WU6MryrctNS5VStn+Wz/QjWtNJtfH/Cv50lKjpH6OmjuQKZGmpibgrWSUUlQqlXcH/jHUyPn5OU9PT3ieh1KKpaUlenp6ALi+vubu7o6DgwMeHx85OTlhcHDwS2jDhm9O73keYRiysLBAOp1mb2/v07WLi4sIIdja2gJo2OwB/gFbnU0TuSo6swAAAABJRU5ErkJggg==\" y=\"-6.572881\"/>\n   </g>\n  </g>\n  <g id=\"axes_9\">\n   <g clip-path=\"url(#p3b3d018c00)\">\n    <image height=\"29\" id=\"image863bca55ab\" transform=\"scale(1 -1)translate(0 -29)\" width=\"29\" x=\"279.579661\" xlink:href=\"data:image/png;base64,\niVBORw0KGgoAAAANSUhEUgAAAB0AAAAdCAYAAABWk2cPAAAABHNCSVQICAgIfAhkiAAABKlJREFUSIm9lr9u1EoUxn/jmbEdsux6CSEiWolAHYJSBiGoKegRD4AoaClAFLwBrwASAkRBTZ2GBkFBQ4HSoARpFUK0WuN4xzNzi9wZNrsLyW3ukSxbtme+8+/7zgjvvWfMvnz5wufPn7HWcvv2bQDevXvHhw8f2NnZ4evXr/T7fVqtFgBnz57l0qVLrK6ucuvWLRYXF7HW8uLFC7rdLmtra6ysrIxDICZBHz16xKdPn9Bac+fOHV6/fs3W1hYLCwt0Oh3m5uYYX1JVFUII9vb2GAwG3Lt3j263y/Pnz2m326yurvL48eO/g759+5ZXr14hhODbt28URUFRFKRpinMOIQRKqfj/wcEBWZahtaaua/b39/n58ycrKyt473nw4AFra2tHQBMm7NevXwDUdQ1Anud477HW4r3He0/TNIxGI0ajEU3TIISgaRqUUmRZxu7uLlJKAJqmmYSYBtVa8+PHD4QQWGvJ8/wwJULMvMLmxhiUUnjv0VojhGB7e5tOp3M8aMi29566rlFKxbSGa9KJ4KyUkizLyLIsgrfb7SlQNfni1KlThx+UYjAYoJTCWhs3B0iSBOdcdC58k1Kyv79PkiTRkRNFGrzMsoyyLKmq6gjIpIUUO+ciaHBEKYXW+nhQKSXe+3jf2dkhTdMjNBFCkCRJjCjUX2tN0zSxpnmeH8nQH0HzPI/pVEqxu7uL1hrnHN57kiSJ38M/wUnnHIPBgDRNY9Zm2VRNW60W1lrgsN2rqgKI6Q1RGmMAIp2EEDjnYhdLKTl9+vRM0KlI2+12rKGUkqIoYvriouT3ssDDcM/zPD4vLCycLNLgnbWWdrtNp9PBGBNrHKILqhRq5r3HGMP8/Hxc/59AlVKMRiNarRatViuqzbiFyMP7UPc8z+Pz4uLiTNCp9P4fNhXpuKLMz8+jtY5dO8tCqkOa0zSN0ri0tDRzzdROgV/Ouci3QJdxzo1LYEi1tRalVFSxoihOBgpQFAXOuRiBlBIhRJwyQBSH8ffjdJJSzpTAY0GllAyHQ+D3IHDOYa3FORefA1ezLIt0m5ubo9frnRy02+3inKOu6xhxWZYcHBzEqMYvOJzDdV3Hfmi1WrG2JwK9ePEixhiyLGNpaYmyLI/ocRjkTdNQliXWWtI0pd/vk2UZaZrGM9SJQa9cuYIxhk6nQ13XDAYDsiw7Io8BXGtNWZZIKWMPhONLKMexoN57Ll++TFEUVFVF0zQURYExBmMMTdMgpYyRJkmC9z6KiRCCqqq4ceNG3O9Y0NCt9+/fJ0kS6rpmOBxGMQ+cDXwOdNrb22N7extjDDdv3uTq1auxJFMYk6fB8aNJv9/n7t27sYl6vV7U2DC2kiRha2uLCxcuUJYlDx8+ZGNjI+41S1RmRhoWnDt3juXlZTY3N9Fao7UmSRK01jHdaZpy/vx53rx5Q6/XY2NjI9LpTyo2FWkg+bgCvXz5kmfPnsXUhu6FQ6qESfTkyROuX7+OMWbmMeWvoOPPwdszZ85EoFBbOJwuw+GQjx8/sr6+zmg0ivI5KZ3BpgR/Ul+Dff/+nadPn/L+/XuqqooNsry8zLVr11hfXz/c8F/ajM/eSeB/ANw4xeV9T3mcAAAAAElFTkSuQmCC\" y=\"-6.572881\"/>\n   </g>\n  </g>\n  <g id=\"axes_10\">\n   <g clip-path=\"url(#pbcc05f4ac6)\">\n    <image height=\"29\" id=\"imagef929d2a1f5\" transform=\"scale(1 -1)translate(0 -29)\" width=\"29\" x=\"313.627119\" xlink:href=\"data:image/png;base64,\niVBORw0KGgoAAAANSUhEUgAAAB0AAAAdCAYAAABWk2cPAAAABHNCSVQICAgIfAhkiAAAAodJREFUSIm1lsFK7DAUhr+kaWg7FRUrIjIIbtyIi1noKwg+hc/kQ/guIq4URQQRcWBgLONoh9ppk7sQ6/SO995crGeV5pR8Of85OQnW0Y6Pj+3e3p49OjpqzB8cHNher2dPTk5cl7I4/wi22+1aYG5+fX3ddrtdZ6jE0fb39wnDEKXUnE9rzcbGhutSOEMvLi4wxlBV1Zyvqio8z2sfaoxBCMG7ok2z1qK1bh9qrUUI8ccN/Q90PkGO0LIs67GU8stcfxtqjGl8F0VRjz3Pw/f99qFSykaks5uQUs5tqhWoEKIBzfO84ZtOp+1DlVJI+Vl3s/L6vv8z8iqlGpHOjn+XvlXorM3K6Xnez+TUGNPoOm9vbw3o7BH6lzk3hzbNOdKiKOpCstY2IhVC8PT09DPQDzPGkGVZ/S2lZDgctg/9aPhCCCaTCePxuPZprXl5eWkXmqZpo1D6/f6cvHmeM51Onc6rUyGdnZ0BEMcxAIPBgCzLaomFEJRlydXVlctybtCbmxuEEEgpCYKA+/t70jQlTVOEECwsLBAEAdfX105QJ3n7/T6dTgchBGEY8vz8XBeO1hprLVEUMRgM2oPe3t6yuLiIMYbV1VXOz8+5u7sDYG1tjbIsieOYx8fH9qDD4ZAwDCmKguXlZU5PT+tqTZKEoiiIosj5rDrldGVlBfh8PWitSZKEJEnQWlNV1Zdvp29Bt7a2eH19RSlFWZbked64zoIgYDwes7m56QR1kndnZ4fRaITneRRFgda60RLhvWP1ej0nqLAOukwmE+I4Znt7G9/3kVLWN47v+yiluLy85OHhoT7LfzOnSKMo4vDwkCzLWFpaotPp1I/u0WhEnufs7u46AQF+Acj00hWA/yeSAAAAAElFTkSuQmCC\" y=\"-6.572881\"/>\n   </g>\n  </g>\n  <g id=\"axes_11\">\n   <g clip-path=\"url(#pac433e6aa9)\">\n    <image height=\"29\" id=\"image5d4ab6f248\" transform=\"scale(1 -1)translate(0 -29)\" width=\"29\" x=\"7.2\" xlink:href=\"data:image/png;base64,\niVBORw0KGgoAAAANSUhEUgAAAB0AAAAdCAYAAABWk2cPAAAABHNCSVQICAgIfAhkiAAABJ5JREFUSImtlk1v01oQhh87buy62E4KQm1JWyBS1AWiEAkkQiSExIZF/wELFixA4i+wZYdY8hsQBYkFS6CIBQWJBUUs+GhTUBqlqQmOm9Y+xs25CxRz0b354HJfyavjmXfmPTNzRpFSSnqg0+mgqioA169fZ3R0lJGREVRVRVEUADRNo1qtcuPGDWZmZnq5+hWyD8IwlFJK+ezZM3no0CGZzWblxMSEVBRFqqoqVVWVMzMz0rZtWSgU+rn6BdowgW1tbXH69Gmq1Sr1ep25uTn+LpCqqoRhOFyWgNrvMJVKAWDbNkEQcPbsWeI4ptlsEkURURQRxzFSSsbHxxO7Tqfz30m7uHfvHq7rIoTgwoULAAghEEKgKApSSnzf/39INe2H+o1Gg0wmg+/72LZNqVTC93183yeKIjRNQwiREPepzcGkXezs7GAYBrZts7u7S6FQoFwuUy6XaTabpFIpoihiZWXlz0j/brizs4NlWUgpMQyDIAiYn59nfn6eubk5vn//DsDy8jLwsxZ+m3Rvbw/4IW0QBMRxjGVZqKrK1tYWlUqFSqVCqVTi6NGjRFHE6urqUKQ9W6ZbDLVajU+fPtFqtajVahw/fpxMJvNLi5RKJRqNBk+ePOlLNjDT7iRqt9tomkYqlWJtbY0HDx7w7t07stks2WwWKSWe51Eul3FdN7Hvd68Dh0MYhsRxTBzH6LpOHMe8ffuWtbU1AI4dO8bJkycRQpDP54fKdKC86XSaXC7HyMgIm5ubRFGUKACwtLREvV6nUCgwOzv7Z6Tdga6qKvv37+fUqVP4vo+u63iex9evXwHY3Nyk3W7z4sULzp8//w/7f8NQffp/o2em3UKanZ0ljmMApqamALAsK5EynU7Tbrd5/PgxHz9+BCCO42Sa/RZpt9emp6cxDIM3b96Qy+XQNI29vT3GxsYAMAwDx3HI5/NcvHgRGDyRhnra8vk8i4uLrK+vs729jaZpSSamaeI4DlEUceXKFeCnSr3Q97RbwefOnUPTNHRdZ3x8HMdxME0T0zSRUlKv11lfX0/s+hURDJmpqqp0Oh2iKGJ3d5dOp5ME1JW5e+9/TNrdkb58+YJt28lnGEbieHp6mm/fvmFZ1jDxDybt3ptt25w4cYJisYgQAtu28TwP+PEwFIvFoecuDNGnlUqFV69eYZomrutSq9X48OEDQRAQBAGu6/L582fGxsa4c+cOMFjevqT3799nYWGBZrPJgQMHCMMQXdfRdZ10Ok06nWZychLbttm3bx83b95EURRarVZfUqXX3nv79m2ePn1Kp9NhamoKIQQHDx5ke3ubiYkJlpaWAJicnOT58+cIIbAsi1arRS6X4/Xr1z0HRM87zWQyOI6TLNeaphGGIRsbG7x8+ZKNjQ0A3r9/jxAiWVlM06TRaFCtVjl8+PDvZQpw6dIloihKKnNlZYXV1dUkGIB6vY6qqoyOjiKEwPM8Hj58yMLCQi+3/Td8KaW8fPmyPHPmjCwWi/LatWtyeXlZCiGk53nS8zx59+5deeTIEakoinQcR966dWvghj+QVEopHz16JBcXF/v+c/XqVem67jDu5F8XPgmSWPz3iwAAAABJRU5ErkJggg==\" y=\"-43.84831\"/>\n   </g>\n  </g>\n  <g id=\"axes_12\">\n   <g clip-path=\"url(#p9223fa99cc)\">\n    <image height=\"29\" id=\"image8a8c3d95d7\" transform=\"scale(1 -1)translate(0 -29)\" width=\"29\" x=\"41.247458\" xlink:href=\"data:image/png;base64,\niVBORw0KGgoAAAANSUhEUgAAAB0AAAAdCAYAAABWk2cPAAAABHNCSVQICAgIfAhkiAAABXpJREFUSIm9ls1rE20Xxn+Zj0wSkyk1TWythWhLS7BWRAWRgrgQLApVEQUXfkRBrTul1SIIrvwAXXRXUPBfcGGhLoouLLS2Qq3upBWNqSXGdJpk8jkz70Iyb9I0fR4enve9djNz51z3dc51To7DsiyLdWBZFg6Ho+qdaZpomkY6nUYQBAAURUGSJARBwOVy4XQ61wtXBWm9l6ZpIggCpVKJe/fu8eXLF0qlEsViEcMw7EsBVc+lUont27czODhIOBy242xIuladw+HA6/UyMDBAW1sbLS0teDyeugpmZmZ48uQJb9++JRwO1z3nqExvmbSSvFAokM/n0TSNZDJJNBolkUhgmmZVIFVV6ejooLOzE1mWa0pTV2mZsEyq6zqnTp1Ckv4ck2WZTZs2oSiKnV6Hw4EkSaRSKeLxON++fePOnTtcunQJwzAQRXFjpeshnU7j9Xo3OlKFnz9/4vF4UFV1XTPWKC2j8oavXr3i+/fvLC0tYVkWmUwGXderDFQoFDAMg0AgQEdHBydOnEBV1boXqzGSaZp26pLJJC9fvqS7u5tQKIRlWaiqisfjsRW43W4EQSCTybC4uMjk5CShUIiurq66Sv/SSP8L1Bipkjwej3P+/HkURaFQKADY/Vs+K4oihUKBUqkEQCqV4vr160QikX9mJF3X+fz5M+FwGEVRyOVyiKKIIAh2ywiCYD9nMhnm5+cJhUKEQqEqAXWVroXb7UZVVZaXl8lms8iybLdPZSDDMMjn85RKJRoaGmhubt4o7PoTqZyWqakpBgcHaWlpwbIsDMPANE1KpVIVefmbYRhEo1GuXbvGwMCA7fC1KV43vf+WkcqDZu38rZ3G/wesW9OyysXFRR4+fMjWrVsRRRGv14vP58PpdNpnyn29urqKpmlEo1H6+/vp6+sD+Ot/mUoUCgU0TSMQCNgm+fHjB6lUCsMwbFJBEHA4HMiyjKIorKys2ER1S2RVYHx83Lpy5Yp15MgRC7AmJiasf4Lp6Wmrt7fXunnzpvXgwQNrdna26nuVke7fv8/c3Bx9fX20t7fz7NkzdF3H6XTam4HL5cLj8eByuYA/7ZJKpchmsyQSCSRJ4s2bN5w9exZFURgfH+fgwYM8f/78v+XbaF1Jp9N8/fqV5eVlfv36haZprKysoOs6xWIRAKfTiaqq+Hw+tmzZQltbG5qmcejQoZoJty7pwsICt27dIpFIsHv3boaHh/F4PDQ0NPytFtJ1HYfDgaZpRCIRFEVh27Zt3L17t2pgVBlJFEX6+/s5duwYT58+5cKFC8iyTC6XQ5IkcrkcgiDQ3NxMPB63lWazWQzDQJIkZFlGFEX8fj83btxgdHSUWCxWRVqT3kKhwO3btxkeHiYYDFYpyWQyrK6uMj09bSvv7OwkEAjQ2NhY1R5TU1PE43GOHz9ek5Ea0kgkQjAYxOv1Eo1GaWpqwufzsXfvXnbs2EEwGKRYLNLY2AhALpcjFosxOzvL+/fvyWazpNNp9u/fz9jYGKZpMjY2tjFpLpfD5XLx+vVrEomEPVdHR0dxu9243W7OnTvHo0ePAGhqavpTJ0ni9OnTbN68mWQyya5du9i3bx8LCwu0t7dXkdYMB5fLxczMDE6nE7/fTyaTobe3l6WlJYaGhvjw4QMjIyNcvHgRgMuXL6MoCkNDQ5w5c4b5+XkCgQCfPn3CMAwOHDiwcXorrW0YBu/evePjx4/Mzc1RLBZ58eIFR48eZXJy0t6BRkZGOHnyJIcPH2bPnj20trayc+dOenp6aG1trSGsIa23kcOfjeDq1avk83l0Xef3798A+P1+Hj9+THd3d81v6sWrS1pZ6rL6iYkJurq6EASBbDYLQCwWo6enx1ZummbNnrW2x/8DnY4b/8ViidcAAAAASUVORK5CYII=\" y=\"-43.84831\"/>\n   </g>\n  </g>\n  <g id=\"axes_13\">\n   <g clip-path=\"url(#p38dfe8096c)\">\n    <image height=\"29\" id=\"image4b8de5fbd1\" transform=\"scale(1 -1)translate(0 -29)\" width=\"29\" x=\"75.294915\" xlink:href=\"data:image/png;base64,\niVBORw0KGgoAAAANSUhEUgAAAB0AAAAdCAYAAABWk2cPAAAABHNCSVQICAgIfAhkiAAABKpJREFUSIm1l89u00oUxn8ej107dhw7pU5xWlpALFghsUFCAhYI3gLBjgdgx4pXYI14Ax6AFUJiAWIHYgFVpRYBpaStUEmaOP4zZlF5Lr00uQTpHsmS5bHnO98353wzNqqqqjgm0jTl9evXCCGwbZtWq4Vpmiil+PTpE4ZhANDv97l58ybr6+t0Oh3iOAagqir9zr9DHvsUePr0Kc+ePSOOYw4ODnj+/DmvXr3i7t27CCFQSgHw/ft3Njc3efPmDbdu3dKgkwCngp4+fZo4jmm329i2TRiGOI7D6uoqWZZRliUAYRiSJAn7+/tEUfSfLAHEpIGqqhiPxyilyLIMx3HwfZ88zymKQr+XZRmj0Yg0TTFN87c5ZgJtNptkWQaAZVk4joNlWViWhRD/fFYUBVJKqqrCtu2J7H6NifLWoLWMruviOI4er+XL8xwhBGma4rrukbFJEk9kGgQBZVlSliWGYSClpNfr6XshBEIIvQSGYdBqtVhbW/t7prWcZVkihMA0TTzPwzCMI/LWS5DnOc1mkwcPHnDx4kX29/dpNpvcvn37z0HrUEphmia2beM4jpZMysNPx+MxpmlSVRVCCD5//syHDx84d+4c165dO3bOifIC2LatmUopcV0XKeWRgsmyjKqqsCwLgCiKsG2bpaUlrly5cuy8U5nOzc3p9rBtG8uyMAwD0zT18yzLSNNUJ9JsNlleXmZpaelIa/0xU9/3UUohhMCyLDzPwzRNpJQopVBKceLECbIso9lsArCxsUEYhvR6PTzPmx3U8zzdMrZtEwQBcNibNejKygpFUWimrVaLMAx1ojODhmFInucopZBS4nmelszzPDzPQynF+vo6URRRFIXu57pnZwb9v2JqIdUGXvdpFEXaMObm5oDDft7e3iYMQ7IsIwgCHMdBCDGR7VTQMAz1FgbQ6XQQQlAUBa1WC4DhcEhZlnS7XW0a4/FYJ/VXTGvby/OchYUFnX1tDpubm2xtbXHp0iU2NjbwPA/f94+41kygp06d0tI6jqOdx7IsPn78CMDOzg57e3uYpsmLFy+I45hGo6HtcWZQ13WZn5+n3++zuLiIUoo8z5FS0u/3gcMl8H0fgLdv33L58mVGo5Hu2+Ni6iYOcOPGDb59+0ae5wRBgO/72pHq9tne3ubx48d0u10WFxcZDAb62DIT09rYL1y4wHA4ZHd3l9FoxPv379nb26PX6wGQJAmWZfHw4UMePXqkt7okSWYHre3v3bt3mKZJlmVsbW2xs7NDkiScPXsWOKzoPM9pt9tUVcVgMMC2bRqNxt8zbbfb5HmO67osLCywvLxMGIZ6zdI0RQhBFEUMBgOGwyErKysTAf8INEkSzp8/j5SSM2fOcHBwgJSS4XCoFTl58iS7u7skSUKapnS73amgUwupLqY7d+7w5csXXNclCALiOMb3fX05jqNPjVVV0W639RwzgdZMq6oiDEPm5+d5+fIlnudp8CAI8DyPNE2JoogfP35QFMWRA9zMTH89zd27d48wDHny5Alra2tIKZFS0mg0tGN9/fqVq1ev/pb4b4Qm/ctMAr9//z6WZdHpdAC0N6+urnL9+vWpW1odPwFuOu4N+bXhRQAAAABJRU5ErkJggg==\" y=\"-43.84831\"/>\n   </g>\n  </g>\n  <g id=\"axes_14\">\n   <g clip-path=\"url(#pd376149971)\">\n    <image height=\"29\" id=\"image4866053224\" transform=\"scale(1 -1)translate(0 -29)\" width=\"29\" x=\"109.342373\" xlink:href=\"data:image/png;base64,\niVBORw0KGgoAAAANSUhEUgAAAB0AAAAdCAYAAABWk2cPAAAABHNCSVQICAgIfAhkiAAAAu5JREFUSIm1ls9K+0oUxz8zSTqT2AYEBXElIi7qxsdw6QP4CL6Az+FbuHHtyq2IohTBhYhaFSxSlLSm+TtzF9JA773cppf8ZpcZ8v3wPWfOnINdYB0eHtrt7W17cHBgoyiyURTZjY0Nu7u7a4+Pj2vruCywXl9feXh4wHEcnp+fARgMBgwGA25ubgCw1iKE+E+dhaBxHKO1JgxDgiAAQGuNtRbXrS+1EDTLMqSUlGVJq9UCfp15nsfn5yfAXJcAchFokiRIKSmKAt/38X2f7+9vAIwxtXUWDq/jOCRJMhNOKSXW2j8DtdYipSRJEoqiWOTX/w9N0xTXdSnLcsaZMYayLGvrLJTToijIsgxrLcaYKo/WWuI4rq2zcHiFEJRlORNeYwxhGP4ZqDGGIAgQQpAkSbXfarX4+flpHjoajcjzHKUU1toZp77vMx6Pa0Nr5/Tx8ZGiKLDWMplM/nE+rddGoS8vL6RpWn17nofneQC4rstwOOTu7q5ZaJOrNvT+/h4hBFJKHMfBWlvVqhCCPM+5uLhoFnp+fo5SCiEEnufN1KmUEqUUZ2dntbRq395er4dSqoL8vZsopbi8vKylVdvpx8cHvu8D/96+Wq0Wb29vzUFvb2+B3xub53mVWylltT8Nea/XawZ6dXU1A5mGdwqH37KRUnJ9fT1Xr1ZO+/0+7XYbrTXtdpvRaMTp6SkAYRhWLoMg4P39vRno09MTnU4Hx3EIw5Cvry+Ojo4A2NzcxBiD53l0Oh36/X4z0OFwSLvdrrrM8vJydZOVUtUUobWu9QbXyul0EDPGEMcxeZ5Xj0Mcx0gp0VpjjMFxnLl6tZw6jkOapgghKidaa+C3x0470GQyYWVlZa5eLadbW1tYawmCgNXVVTqdTlUmruuilEJrTZZlrK+vNwPd2dlhOBxSFAVRFJGmKd1ul263S5qmRFFEHMeMx2P29vbm6glbY3aM45j9/X3W1taYTCYzw3aWZSwtLQG/g9vJyclc6F+DIcJ+bdtxsAAAAABJRU5ErkJggg==\" y=\"-43.84831\"/>\n   </g>\n  </g>\n  <g id=\"axes_15\">\n   <g clip-path=\"url(#p8aee5a787b)\">\n    <image height=\"29\" id=\"imageee542b27db\" transform=\"scale(1 -1)translate(0 -29)\" width=\"29\" x=\"143.389831\" xlink:href=\"data:image/png;base64,\niVBORw0KGgoAAAANSUhEUgAAAB0AAAAdCAYAAABWk2cPAAAABHNCSVQICAgIfAhkiAAAA5RJREFUSIntlrtLY1sYxX/n5MQYjRIMqIlFjCaKYKGxkPhGEKwEUcRK7YKIhTY2oqAWVvoPWNopYmUTomhjpcEHiuIDgs8YkhgTjOg5+xZCZnLnFjMwzOVyXd3eH2uvvb4He0tCCMEfhvynBb9Ev0T/26LK94v7+3tCoRCXl5fc3d2RSqV4eXkhkUhgMpkoLi6mtbUVu91OTk4OAJIkAfD+/s7r6yuJRIKPjw90Oh2KoiBJEnl5eRiNxkzR6+trpqeniUQi5Ofns7m5iSRJmEwmurq6MJvNRKNRVFWlp6eHh4cHTCYTAHV1daRSKfR6PQBvb29kZWWRlZVFdnY2er2eVCqFxWKhra2Nvr4+pOvrazE7O0tdXR2VlZXs7+8TCASw2+3c3t5SVVWFqqqUlJTQ0NBAf38/Dw8PzM3NARCLxQiHwyiKQjweTzs8OztDVVUMBkN6LxaLsby8jHJ1dUVzczMGg4FgMIgkSRQWFpJMJjEajej1ehwOBx6Ph9XVVY6PjxkZGcHtdgOwt7eHzWZDlmVCoRDPz89omoaqqhwdHZGdnU1BQQGKohAOhz/T297eTiwWQ1VVLBYLT09P9Pb24na7ubi4oLu7m87OTgDm5+ex2WxUVFRQUVEBQFVVFdFolFQqRTKZRFVVcnNzcbvd+Hw+7u/vkWWZm5sbXl9feXx8/Kyp2WxOF7mgoICOjg4ikQjBYJCzszM6OzvZ2toiEonQ1tZGYWEhubm5aY7Vav2hQ51OJ2tra8TjccxmM06nk4uLCwKBwL80p0IIhBBomoamaeh0OiYnJ1lYWGBjY4NwOIzf72dxcZHS0lJkWU7XE0jX73uEQiEGBgbY3t4mkUikO1hRFJLJJLIkSUiShCzLyLKccYDL5WJ2dhaHw5GODQ0NUVZW9u3WsoxOpwM+x6WlpYWioiLsdjuDg4PU1NTQ1NTE+fk5LpcLj8eTmV4hBLIsZzgHKCsrY319ndHRUY6OjkgkEj+kbGpqivr6eqxWK4+Pj5SXl3N3d8f8/DxerxeHw4EkSVRXV4P4RQSDQTE2NiZWVlbEysqKODk5EbW1tcLr9Qq/3y9OT09FX1+fmJmZyeANDw8Lg8EghBBC+tnviqZpyPK3xPh8vrRDp9NJY2Mjh4eHCCEYHx/H5XJl8HZ3d9nZ2WFiYuLXnf4dS0tLYnBwUBwcHIhoNJoR0zTtHzk/7fR34v/znn6Jfon+FvwFdAcwStjtoa0AAAAASUVORK5CYII=\" y=\"-43.84831\"/>\n   </g>\n  </g>\n  <g id=\"axes_16\">\n   <g clip-path=\"url(#p761a6c977a)\">\n    <image height=\"29\" id=\"image461c80851f\" transform=\"scale(1 -1)translate(0 -29)\" width=\"29\" x=\"177.437288\" xlink:href=\"data:image/png;base64,\niVBORw0KGgoAAAANSUhEUgAAAB0AAAAdCAYAAABWk2cPAAAABHNCSVQICAgIfAhkiAAABBlJREFUSIm1l89KHE0UxX9V1dVd3Y6OGhFdhkAgBMwiroRAwIWBBLcufALBheAjuMlLhMkuIYuIjxB3uslaF6J7DYZR25nuqs7Cryo9f5wkwnehmKa6uk7dc8+9dUdUVVXRZ845pJQArKyscH5+ThzH3N7e4pwjjmO01gCMjY2hlCLLMoQQOOdotVpMTk5SFEVYV7doYAaw1iKl5OzsjG/fvmGMQSlFnucAFEURDpVlGVJKpJSkacrPnz/Z399ndXUV59yw7YeDeuc7nQ5aa4wxRFFElmWUZUme5yilAJidnSVJEi4uLmg2myilGBsbGwo2EjS8jCKEEEgpKcuSqqooyxLnXPDCOcft7S3W2rCm0Wg8HLSqqjCEEAghiKKoB1QpRVVVQ6kcIhcA5J9AAYQQ4dcPfxjPhl9Tp9fP/RWoX+xj6TdTSiGlJI7jnvU+vgBpmvLo0aO7zeVwn0Z66kH88Bv5OPvnqqpIkgQArfXDPPVWVRVKqUCftRZrbc+clBLnXE8I7ovlSFD/0c3NDWVZBq+UUmitBxLes+BDcR+t3kbmqbU2PNcVXBdOHaAf/D4bKaRGo3GvcqMoIooi4jgO9Eopg6r/2dO6F/3x8uYV60HqCn4QqKfp5uaGTqfTcxh/GXgKfQjqh/OF4kEp83/ZAKhzDmstcHebwG8ReaunjH8fxzFVVXFycsL4+DjQK8SRoPWKMz8/H4RTB+pXsHMu0D0xMRH20loPLRCi/xI/Pj6m1WpxeHjI0dFRuIiTJAnC0lqHWDebTfI8R2sdin+73ebFixe8efOGtbU1pqamRoOura3x5csXms0mnU6HmZkZyrIM15XvHPxnxhjKsgwl0xjD6ekpQgiKouDdu3e0Wq3R9C4vLzM3N8fk5GToGDyYz0X4nbe+NPrcTZKERqPB9PQ009PTvH79eoDegZR5/Pgx3W737kT/ARhjegp+3ay1gVp/OKUURVFQliVPnz79M+ji4iJaa6y1JEmCMSaIaViR8DfN9fU1WZaFQ7bbbZIkYWFhYQB0gN6pqSnSNEUpRZqmdLvdgZTxYB6w2+3y7NkzrLWBpTiOMcYM7ZeGFof5+XmiKOqpPHW9+W5RSom1FiEEz58/D4De/qldWV1d5eLiAq01cRwPeOn7Xp9KSik+ffpEmqZh7eXlJVtbW0NBB1LG28bGBl+/fkUIgTGGLMtwzgWBGGOAO+H43vfq6oo8z8myjFevXvHhw4e/A63H7/j4mI8fP/L582fyPCeOY9rtNuPj48zMzADw48cPJiYmuLy8RErJ9vY2m5ubQ/cb6Wn9b4W3g4MDlpaWePv2Levr66Eu7+3tcXR0xO7uLk+ePOnZo14q/4re/n4X4Pv377x//56iKMJcnufs7Ozw8uXLANZ/v/bbL2ts/VnqDCq7AAAAAElFTkSuQmCC\" y=\"-43.84831\"/>\n   </g>\n  </g>\n  <g id=\"axes_17\">\n   <g clip-path=\"url(#p7335298b6c)\">\n    <image height=\"29\" id=\"image02eea4bf40\" transform=\"scale(1 -1)translate(0 -29)\" width=\"29\" x=\"211.484746\" xlink:href=\"data:image/png;base64,\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\" y=\"-43.84831\"/>\n   </g>\n  </g>\n  <g id=\"axes_18\">\n   <g clip-path=\"url(#p98c0ca510e)\">\n    <image height=\"29\" id=\"image8672a6c43f\" transform=\"scale(1 -1)translate(0 -29)\" width=\"29\" x=\"245.532203\" xlink:href=\"data:image/png;base64,\niVBORw0KGgoAAAANSUhEUgAAAB0AAAAdCAYAAABWk2cPAAAABHNCSVQICAgIfAhkiAAAAt1JREFUSIm1lk9KI0EUh7/qrm7a/Om2TTpxIS6CIoKILtyo4AG8jgdwIQieQ7yAO0FceALdZeUBshGVxGB3vVlI9SQZZ6pnzPwgpJpO6qvfq/delRIRwaHr62uurq7o9/s8PT2htSZNUwAWFxdJkoSDgwNOT09dU31KHLq4uBBA0jSVer0uYRhKkiSSZZlkWSZBEEij0ZAgCASQm5sb15TiuRZ1e3tLmqY0m03CMMTzPEQErTVaa5IkIYoiWq0WSinOz8+dRp3Q1dVVRARjDMYYALTWU895niMiBEHA4eHh96FFUfD8/IzWGgClVPltx/adiBCGoROqXT8IgqAcK6XwfR/f93+u2vP4+Pgox5Pv/hm6sLBQTjgJn0x6ESmdd7tdJ9QZ3iRJAKbcfCUb6lar9X1oo9GY/oPnlQAr69T3/bJ+vwWt1WrlxLZcZrPZuldKsbS0NB9ovV6fmnxWNnt936fT6TihzkQKwxClVBlWG9rZ7ikiRFFUCep02m63f8lWuwi7EM/zMMbQbDadQKjgtNfr4fv+VFnMJpJSCmMMcRxXgjqd/g85oWtra0RRNOV0VkopiqJgOBzOBwqftVoURbl/X8kYU6kx/DUUpmvSfrTWiAjtdnt+0MFgQFEUv23mSinyPKfX680P2mw2Mcb8cqxNPgNsbGzMD7qyslImkq3PyTq12t3drQR11il87qntvbMZbGs4iiKWl5crQSs5HQ6HX56r8DO0YRiS53klaCWncRyXR5dtiRZu22OtVqvcBis53draYjwel1eXyfDaS1ocx2RZNj/oyckJ3W6Xl5cXRqMR7+/vjEajcvz6+srR0VElIICqcsMHuLy85OzsjP39feI4LptFv99nPB5zd3eH53nkeV6er7+Tc0+NMXiex97eHsfHxzw+PvL29kYURQBsbm6yvr5e7nGV22Blp/f390RRxM7OztS1dDAY8PDwwPb2Np1Op1zkn/QDWhdFGfyHCpQAAAAASUVORK5CYII=\" y=\"-43.84831\"/>\n   </g>\n  </g>\n  <g id=\"axes_19\">\n   <g clip-path=\"url(#p1230912c01)\">\n    <image height=\"29\" id=\"image006910b472\" transform=\"scale(1 -1)translate(0 -29)\" width=\"29\" x=\"279.579661\" xlink:href=\"data:image/png;base64,\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\" y=\"-43.84831\"/>\n   </g>\n  </g>\n  <g id=\"axes_20\">\n   <g clip-path=\"url(#pafdb705dfe)\">\n    <image height=\"29\" id=\"image77d2edf42a\" transform=\"scale(1 -1)translate(0 -29)\" width=\"29\" x=\"313.627119\" xlink:href=\"data:image/png;base64,\niVBORw0KGgoAAAANSUhEUgAAAB0AAAAdCAYAAABWk2cPAAAABHNCSVQICAgIfAhkiAAABTNJREFUSImtlj1v0+wXxn+OYzt+q/PWpCE0NEqHDuVFZGNh6ICQGBAjkSgfIGJCrKwMLLB1YeoHYEOCAaldAFUViAE1iIJKhyhvrXEc2UnsPAPC+kt/khae52y2dJ+frnOu+9xHmEwmE2bEp0+f+Pz5M61Wi1QqRRiG2LbNr2Nv3rxhdXUV13VZXl7GMAwKhQLVanVqztgsIECz2cT3fRYXF9E0jcFgQCaTIZ/Pk8/nmZ+fp91uo+s6hmEQhiF7e3szc54IBYjH40iSBIBhGHS7XYIgIAgCstksyWSSSqWCpmnEYjGy2ey/g2YyGQRBIAzDnwdiMSzLIgxDwjBEEASOj49RFIXxeIwoigyHw38HTafTxONxRFFEkiR838d1XUajEaPRKIJ1u10ABoMBlmXNzBk/CappGgCu6zIej5EkCUmSov9bW1sMBgOKxSJBEBCGIWfPnv076O7uLq9fvwbg2rVrvH//nrm5OSzLotPpYNs2AI7jcOvWLdLpNO12m1KpxMbGBpqmcePGDS5fvvx/uaeWV5ZlNE3DcRzCMETXdUzTxHVdVFWNFK+trWHbNl+/fkWSJBRFIZlMIghCZL5TQ3VdJ5fLIYoiR0dHaJrG4eEhoijy9u1b6vU69XqdRCLB9+/fURSFfr+P4zjE43FUVUVV1T8rbywWIwgCgOgqpFIpRFHkwoULPHnyBID9/X2KxSKmadLv9wGQJIlEIoEoin8GlSQJy7JwXRfP89B1ndFoxGAwIJfLRaVrtVpRG7LZLC9fvsQ0TXRdx/f93wuaBvV9H1mWkWWZMAwjtyaTSXZ3d6nVatRqNQqFArFYLOrjmTNnABiPx8Tjv9c0VWkikWAymaCqKp7noSgKuq4DUCgUePjwIQCj0YjxeMzh4SHlcplcLsdwOCQejyPL8p9BNU2LejMajSKltm1TqVSiUbe1tYVhGGSzWVKpFI7joOt65OTfxalm738dM937v+VRFIVYLIZhGHz58oX79+8D8PjxY4IgiKrR6/WQJAlVVacqnQr9BSkWi2iaRrfbxfM8AERR5Pr16wB0Oh36/T6WZREEAR8+fODSpUuMx+OoJaeGSpJEGIbIssze3h6maeL7PpIksbq6ys2bNwF48eIFmUyG8XgcXafFxUVardZUI03tqSAIqKqKpml0Oh0GgwELCwuYpolt26yvr7O+vk6xWOTg4ICFhQWePn1Kq9Uim81iGMa01LONpOs6iqIgSRKO4/Djxw9kWWY0GpFIJCJnFwoFSqUSr169QtO06I5Pi5lP22QywTAMKpUKpmlGJS+VSjx79gyA7e1t0uk03W6XZrNJuVxmOBxOnbsnQjVN4+joiEKhwNLSEqIoEo/HsW2bu3fvAj/dK0kSw+GQ58+foygKruuytLT0d1BBEAiCAEVR8DwPURTJ5XJsbm5ycHAAgOd50SbheR6WZeH7PqZpTs87awU9Pj5mf38fy7IYDoeIokihUEDTtOgF2dzcpNFocPv2bRzHidaa8+fP/51SWZajRSybzdLr9djZ2WEymTA/Pw/8HCJ37txheXkZ27ZpNBoznQsnuPeXomaziW3bbGxssL29zdraGtVqlWq1ys7ODg8ePACg3W4TBAHlcnkmdGZ54ecO1Ov1ODo6YjAY8OjRI759+xZNmytXrlAsFrl48SIrKyvk8/mpa8qvOHEbNE0T0zQ5d+4cHz9+pN1uk0qlWFlZAeDdu3fcu3ePq1evngg7FXQymSAIQvQ9NzdHrVajXq/TaDQAaDQaWJZ1aiDAP+SgCMHuiF0XAAAAAElFTkSuQmCC\" y=\"-43.84831\"/>\n   </g>\n  </g>\n  <g id=\"axes_21\">\n   <g clip-path=\"url(#p1a857e197c)\">\n    <image height=\"29\" id=\"image37632c1c80\" transform=\"scale(1 -1)translate(0 -29)\" width=\"29\" x=\"7.2\" xlink:href=\"data:image/png;base64,\niVBORw0KGgoAAAANSUhEUgAAAB0AAAAdCAYAAABWk2cPAAAABHNCSVQICAgIfAhkiAAABA9JREFUSImtls1LG10Uxn935l4ndSZj4keFBFKpxQoGBXEvpeDORaELEVcu/CsK3bSbLvoXZNeuWkr3rrQuuiiuRBQV2p0RGz8wpmMymduFzMW8JlMj7wPDzNw5c57znHPvuVdorTUJiKIIy7L4+PEj7969Y2RkhGq1ipQSAK01V1dXBEHA6ekppVKJ2dlZ819b6Dtifn5eAzqbzWrLsrRSSiuldE9Pj1ZK6cHBQQ3oV69eaa21bjabHX3JJJU3cXx8jOM4OI7Dw4cPbwZtVEkp2d7eBuisErgz6a9fv5BSEkURYRgap1EUobVGSomUkp2dnX/66hwO0Gw2zXO5XEZKiWVZt1QIIRBCYNs25XLZjHeaLolKbdtujdCyiKIIwNxjx0IIlFKcnZ21BNMOiUrfvHnDs2fP2NjYuBV5rDhOa/wtlUqxu7vL5OQkr1+/7p70x48frK2tsbm5STabpdFoJJkTBAG+7/Pz50+2trZYXV1ta5eYXtd1ARgeHu5Yn7jucSmiKKKvrw+4Vt0OiUrjulUqFVzXNQRRFJkrhhACrTW2bZvx8/Pz7kljKKVQShGGYaJdFEWkUimToSAI7k86NDREoVBoWZ8xtNYm9Y1Gg1QqheM4wO3ZfyfS2Jnv+4yNjRlHN+tr2zZCCHp6egDI5XL4vt/yf1ekMcrlMgsLCwBIKc2aVEph2za2bZvULy8vm82gUyu8E+n/jURSz/MAOD095fnz5wDUarWWWsUpjO9LS0ucnJwAmNp2RTo8PAzA79+/zdjFxcWttFmWRb1eN+/fvn0DYHBwsHvSx48fA/Dp0yfgWnkQBC2kcbM/OztjaGgIgC9fvgDw5MmT+5Pu7u4C0N/f39FWa23a5P7+PgBPnz5ta5vYBnO5HJ7nmRombcyu65odplKp4DgOMzMzbW0TlY6Pj+N5Hufn55RKJTOutTZpFULQbDZNi6zX61SrVdLpNFNTU92TAmSzWRzH4fPnz9RqNTKZTMv3eNZ6nofv+7x9+5ZMJkN/fz8PHjxo61P86zQ4NzfH+vo6vb29KKVwHAcpJUopAMIw5M+fPyiluLq6MrM4lUpxeHh4P6We5yGEwHXdls5Tq9Wo1Wo0Gg16e3tNX/Z9nzAMKRQKHX12JI23p3w+b44dWmuUUi1npzAMaTabpvXFB7Visdg9aZz1ubk5giBACIHjONi2jeu6pNNp0uk0mUyGdDpterEQgsvLS16+fNmRtGNNb57QFxcX+fr1KwDFYpFisUilUgGgWq0yOjrK0dERq6urSCl58eIFHz586J70v9jb2+P9+/d8//6der1u+vLl5SUAo6OjTE9Ps7KyQj6fT/T1T9J4TcY4OTlhYmKCR48eAdcNY2dnh4ODAwYGBu4SP38BkkP47BXbQcsAAAAASUVORK5CYII=\" y=\"-81.123738\"/>\n   </g>\n  </g>\n  <g id=\"axes_22\">\n   <g clip-path=\"url(#pd34f02345b)\">\n    <image height=\"29\" id=\"imagefc7d993eab\" transform=\"scale(1 -1)translate(0 -29)\" width=\"29\" x=\"41.247458\" xlink:href=\"data:image/png;base64,\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\" y=\"-81.123738\"/>\n   </g>\n  </g>\n  <g id=\"axes_23\">\n   <g clip-path=\"url(#pd57664c39c)\">\n    <image height=\"29\" id=\"image962dada246\" transform=\"scale(1 -1)translate(0 -29)\" width=\"29\" x=\"75.294915\" xlink:href=\"data:image/png;base64,\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\" y=\"-81.123738\"/>\n   </g>\n  </g>\n  <g id=\"axes_24\">\n   <g clip-path=\"url(#p3473305fac)\">\n    <image height=\"29\" id=\"image527271eef6\" transform=\"scale(1 -1)translate(0 -29)\" width=\"29\" x=\"109.342373\" xlink:href=\"data:image/png;base64,\niVBORw0KGgoAAAANSUhEUgAAAB0AAAAdCAYAAABWk2cPAAAABHNCSVQICAgIfAhkiAAABYNJREFUSIm1lstuE00Thp+Znp6DZyZ27IQIOyAOctggJA4XwI5bAMQlwM1kFYkVC26ABVsUYJEsskKCSFGMlIggsEzsjCeec/8LNC1C+M2nT/p6ORr1U29VvVVtKKUUfzlRFHF0dEQcxyil2NvbYzKZANDr9YjjmGazydWrVwnDkG63O/c+62/AwWDA69evCYIAy7JYXl7GcRyyLANgOp0SxzFRFDGZTHj//j1ra2s8e/bsn0NnsxmvXr3i+PgY3/e5e/cuYRhy48YNsizj9PQUKSWtVgsAIQS+7xMEAQDdbpdGo8Hu7i5bW1scHR3x9OlTFhYWNMP8HVpVFUmS4Hkew+GQXq8HwPHxMVVVEQQBUkr9f1mWCCEASNOUyWRCv99nPB7jOA5JkpDn+RnGOajneTrqZrNJVVUIIRBCkCQJaZrqwJIkwTAMqqrCtm2qqiLLMhzH4cKFC5RlSVEUuK47H2qaJtPpFMdxKIqCus+UUhiGgZQSx3EIgoAgCPSFSimKosCyLMqyxLIsXNfFdV329vbmQ0ejEUoplFI4jqNTV8OrqtIBGIaBUoqqqs7AHMdBKYUQgiAI+PHjx3xorXI4HBKGIYZhIITAsiwN/bVGQghc10UIgVIKy7IIw5A8z7EsC9u2aTQa86FpmuJ5Hu12m52dHZIk0Y1T109Kie/7+L6PlPKMyrpEtaWCICCO4zOMc5apfxZCkKYpAK7rYhgGpmnqVCdJAvzs3rIsNdx1XUajEXmeU1UVjuNQluV8KECe57TbbcqyZDabYds2ZVli2zZFUWCapu7wX+1iGAaLi4sMBgMAVlZWiKJIZ+D/pre2gxCClZUVvnz5omtWq1VKaYV13erAgiBgf3+fk5MTXNelLEt8358PraOezWbcvn2bKIp0WuugsiwjjmM9/pIk0R28uLjI27dv6fV6mKZJVVV/9+np6alWEMcxnz59wvM8pJQ6tZ7nsbS0xNLSEp7nAT97QSmF53mMRqOfl5vmmek1V+l/fc5BDcOg0WhgmiZRFGmVtQfh51Koa1r/67qunlbdbpc0Tfn27Zv+/us5171SSmzbxvd90jSl1+sxm810QKZpYhiGtlaj0SDLMvI8J45jhBC02206nQ7T6ZQkSQjDcL5S27ZRSpFlmW4OwzDOeE1KSaPRoNFoaFtJKbl06RJCCIbDobZYmqZn1tofoZ7nYVkWeZ7r1GRZprcIoMeiZVkEQUBRFIzHY6IootvtEoYhw+EQy7JQStFsNuen13VdkiRBKcXy8rIefZZlUVUVpmnq9QZgWRadTofJZKLn9c2bN/U0K4rid8R5pa1WS6+oNE218Wu7GIZxZsJUVUVZliwsLCCl5ODggDzP6XQ6jEYjOp3O36H1IK+qilarhZSSOI71gBBCUJYlpmlq89cbptVq0e12OTw8ZDweU5alVjwXCrCwsIAQAiklx8fHeovUoDiOGQwGDAYDHMfBNE2dnVarRb/fZzabMZlM9Fvqr9D6jXN6eorneeR5zsnJCUVRYNs2169fR0qp/Vf3wHQ6ZTwe0+/3SdOU0WjEnTt3/hn02rVrXL58md3dXb5+/cp0OmV5eRmAN2/eUBQFm5ubbG5u8uLFC7a2tvB9nzAMGY/H2LbNYDBgZWXlj29gY95j++DggJ2dHabTKa7rcu/ePZ4/f86HDx948OABAKurq2xsbPDw4UOazSaHh4e0221WV1e5f//+H++dC61PFEV8/vyZjx8/8ujRI548eaIH/ePHj9nf3+fly5esr6/TbrfPqKvfU7+ecz799afal2EYcuvWLba3t7ly5QoXL17k3bt3AKyvr9Pv99nY2GBtbU3fUzfev1ZaB6KUYnt7myzL9I78/v073W5XN8zv1/2uEuB/PxvikLKPBMsAAAAASUVORK5CYII=\" y=\"-81.123738\"/>\n   </g>\n  </g>\n  <g id=\"axes_25\">\n   <g clip-path=\"url(#p9cbc8ef8cc)\">\n    <image height=\"29\" id=\"imaged22b6b7ea2\" transform=\"scale(1 -1)translate(0 -29)\" width=\"29\" x=\"143.389831\" xlink:href=\"data:image/png;base64,\niVBORw0KGgoAAAANSUhEUgAAAB0AAAAdCAYAAABWk2cPAAAABHNCSVQICAgIfAhkiAAABYdJREFUSIm9lstrE10Yh59zZiYzmdzTNiSmEhTxhhG8gCDuXLgSV7opQtFNN+Kf0E3RfTf+BeJGFy5UXEm7c+GqBhFRoZaG1qZJU0kymcv5FmUOpqnV1fdCIJmcc555L7/3vEIppdhnW1tbFItFgiBgZWUFKSVSypE1+7eFYYhSiiAIaLfbXL16lVwuR7/fx7btkf3mfuDm5iZLS0vU63UMw6DRaHDu3Dn6/T6GYSCEQAgxskcIQRRFGvz161fCMKRWq7GyssKlS5c4derUn6HtdptSqYRlWaTTafL5PI7jYJqmBhzksZQSwzAwDIPp6WmmpqawLItSqbQfgdz/oNlsUigUCIIA3/cJwxDf94miSHsTf49/x2viT6/XQwjBYDDAtm0+fvw4whjz1HVdbNtmOBwyPT2NZVkopTBNkyiKkFLqwwESiQRCCB362NtsNosQAs/zyGazh0OHw6H2UEqJ4ziEYYhpmpimyWAwoFKp6IO+fPmCUgrDMHT4DcOgWCyyubmJ7/t4nnc4NA6XEIJkMolpmgRBgOu6SCm5ePEiS0tLvH37FoBHjx6xtrZGp9NBSslwONQ57na7pNNput3u36FSSoIgACCZTOL7Pq7rUqvVeP78OQ8ePGBzcxOARqPBy5cvSaVS/PjxQ4dcSonnebiuq6MQ21ghRVGkJRDn2Pd9arUa8/Pz3L17F8/zqFQqVCoVXr9+zZkzZ3Bdl2PHjrG7u4tt2zr/cTEdChVC6BDFuTp//jyLi4ssLCyQz+fJZDIkk0mSySRHjhzh27dv5PN5giDg6NGjCCHwfR/DMPB9f6yxjEFN09SyEEJw4sQJlpeXmZ+fZ3JyEsdxtHYdxyGXy1EulwGoVCoAnD59GgDDMIiiSGv8j1ClFLZtMxgMdH7u379PEASk02kymQxhGDIYDPSaGCyE4Pr160xMTOD7PqZpMhwOsSzrcGi/32c4HNLv94miiFarRbvdplwu47ouURTR7XbZ2NhgY2NDgzOZDOVymdXVVV68eIFt27ry99sY9OTJk9Trder1OlJK3r17h2maJJNJwjBka2uLX79+kUqlSKVS/Pz5k263i1JKR+LVq1f0er2R3B8K/T9sDPrhwwdu3LhBrVZjYWGBTqeDZVlYlsX6+jqe52HbNkopnf+dnR1arRaJRALDMOj1etRqNUqlEo7jMDExcTj006dPLC8vI6Xk6dOnwJ52m80mhmHgOA5KKd3wfd/XhddsNjXk4cOHXLlyhVu3brG6ujrCGOtIFy5coFqtkslksG2bx48fI4TQnQrQFwDstbtYz/1+H8dxeP/+Pd+/fyeZTBIEAcePHz8cWqlUUEoxGAzY3t6m1WpRLBb19GCa5ojgpZRa03EHWl9fp1QqYds2YRgyNTU1whD7x5Ver0cqldLjSgySUiKE0DKIted5HolEYmRy8H2fRCJBIpFgd3eXTqdzuKeu6wIQBIG+Q3+32KtUKgWA7/vay/iGsiwL3/fZ2dmhUCjsRxwsmWq1ynA4xDAMLMsam43CMMTzPH1P7r9L46oOw5CzZ8/+G/Ty5csjF3NcqbFMYnDco3+vZtjLcwydmZn5N+jMzAye52lvYw9jYPxCsVfxpPH7f9vb25RKJe7du/dv0Nu3bzM3NwfsjaRxm4s9ir2JKzd+Fudxa2uLyclJnj17dtDxoP5ii4uLanp6WqVSKeU4jioUCiqbzapcLqdyuZwqFosqn88rKaUC1LVr19SbN28OPfNAaBRFY8/W1tZUuVxW6XRalUolNTs7q2ZnZ1U+n1fZbFbNzc397f21jUkGRgdqpRRCCKrVKs1mU2u13+8D0Ol0yOfzPHnyRO/5PQUH2YHQP70AwJ07d2g0Gnz+/BnYmxJu3rw5suZPsNj+AxpYcUDcx1KtAAAAAElFTkSuQmCC\" y=\"-81.123738\"/>\n   </g>\n  </g>\n  <g id=\"axes_26\">\n   <g clip-path=\"url(#p5f119fcb7d)\">\n    <image height=\"29\" id=\"image98ad8d728b\" transform=\"scale(1 -1)translate(0 -29)\" width=\"29\" x=\"177.437288\" xlink:href=\"data:image/png;base64,\niVBORw0KGgoAAAANSUhEUgAAAB0AAAAdCAYAAABWk2cPAAAABHNCSVQICAgIfAhkiAAAAj5JREFUSIntlbtKa0EUQNc+Zx+NIBxtfBCwNSAo2uQzBLtAJJ8gfoBfYCsWln6AYKOFpT9gaaGFjRpBEk2M5zWzb5XDFSNi4y1uVjcPZu09M3tGzMz4ZYLfFo6lY+lY+mP07e2N6+trJicniaKINE0xM7z3iAhFUVAUBSICgJkxPT1NGIZlG0BEUFXMDBEhCALSNMU5RxiGiAjv7+9sbGwgrVbLTk9PqVQqmBlmRpZlpWS4gPceM6PT6XyZwezsLGEYlhLnHM45giBAVUmShEajgb68vGBmqCr9fp8oipibm+Pp6QkRwXuP9x5VZWpqijiOmZiYwHsPUAq896RpSpqmJEkCgHMOMyMIAkSEbrfLw8MDcnt7azc3NyRJgohwdXXF2dkZu7u7tNttut0uRVHQbre5uLjAe49zjl6vB1DuAoCqsrS0xPLyMjMzM+URqSpRFNHpdNja2gIbQavVsmazOWrIjo6ODLBqtWrVatUWFhYsiiI7PDwcOX8U/+T2kue5DQYDGwwG5pwrozk+Prb5+Xm7v78v+xqNhgG2srJitVrNarWaxXFse3t7n7IpisKyLLMsyyzPc8vz3Pr9viVJYqqqqOqHQJ6fn9ne3sY5R71eZ3Nzk8fHRy4vL1ldXeX19ZVKpQLAwcEBzWYT+Fg+w1v8N0OPfPWJD+trZ2eHk5MTFhcXcc6hqqytrbG/vw9AHMefhN/xSTos7qIoysju7u44Pz9nfX2der3+7aI/lv4G/8+DP5aOpWPpj/gDcn+jGuAlkuoAAAAASUVORK5CYII=\" y=\"-81.123738\"/>\n   </g>\n  </g>\n  <g id=\"axes_27\">\n   <g clip-path=\"url(#p65a026d595)\">\n    <image height=\"29\" id=\"imagea134e112be\" transform=\"scale(1 -1)translate(0 -29)\" width=\"29\" x=\"211.484746\" xlink:href=\"data:image/png;base64,\niVBORw0KGgoAAAANSUhEUgAAAB0AAAAdCAYAAABWk2cPAAAABHNCSVQICAgIfAhkiAAABEFJREFUSIntlk9oE1sUxn/33kxCMh3SxgFDKRIQBf900Up3Iriw0EUsUnFRsDvBpbuiGx+4lGK77aqLIgjixqJupBVLoaA0CxGkCKH+ndgqdUyTTjP3vkWYMa32Ic/3fAvfB8PcmTsz3znn++65I4wxhl8M+asJ/yf915HYbcL3fTzPw7ZtHMdBKUU6nQag1XthGJJIfP2MMQYhBAATExNsbW1h2zZhGFKtVhkdHUV8/vzZzM3N4Xkez58/p1Qqkc/nmZmZYf/+/WxtbWFZFq7rkslkGBoaYmRkJCZpNBrbSKPrFy9e0NfXx5EjR1BK8fHjR1ZWVnjw4AEqmUz+USqVqNVqWJbFhw8fqNfrtLW1ce3aNTo6OiiXyyilqFarlEolxsfHOXv2LBsbGziOQxiG1Ot1LMtCa42Uknfv3rG0tEQ6nUZKSXt7O8YYRkZGSFy9epVPnz5Rq9XQWnP9+nXq9ToPHz7EdV1KpRKFQgHP8zh37hyDg4NcunSJYrEIwJkzZxgdHSWTyWyTp729neXlZQ4cOACAUorNzU2MMU1NOzo6yOVyAPT29lIul+nv72d6ehrXdWM9U6kUq6ur3Llzh7t37wIwNjbG7Owsw8PDnD9/Pi713r17sSyLIAhIp9MkEglSqRTJZBKptY61ACgUCszNzXHs2DFc16Wrq4s9e/bw/v171tfX6e3tBaBYLFIsFpmdnWVgYICpqSlOnjzJ6dOnmZ+f582bN+TzebTWhGHYdG0igVIKobU2kdsAvnz5wszMDM+ePaNSqaCUYnV1la6uLm7cuLHtOQDbthFCEAQBt2/fZnJykkePHuG6LocPH6ZerxMEAbZts7a2xv37978lbV0KT58+5d69e3R3dzM0NPRdtwIEQYCUMr5vjOHKlSssLCzgOE48//LlS27evNkkBeK1ZYxBa41S6ptAgiAgmUxuW6dCiPidyDAAjx8/5sKFC3R2dgLgOA6VSoXh4eH/qCO1ZiiEQAgRRxuGIWEYIqVEKYVlWcDXquyEUoogCLAsi56eHgqFQpMkkWBjY4N0Ok25XG5m2tq6otIZY2IypRRa67iEOyGEQMpm0aIG0dbWxokTJ/A8D8dxyGQy+L5PNpttkrZGvnMcZR2R74ZI21ZcvHgRgPX1daSU2LbN0aNHd9d0t0D+CpE8UkqMMeRyOQYHB3n9+jXVahXf9zl16tQ/b6QoW601xhguX75MPp/H930OHTqE4zg/Rtqq886j0WiwublJEAQ0Gg2CIIhlEUKQSqU4fvw4jUYjLveu+2krovJG56itQdOZrc0iGlcqFXK5HK9eveLJkydkMhm6u7t/nHQnpJRxAPPz8ywvL1Or1VhaWsLzPLTWLC4u4vs+fX19SCnZt28fb9++JZvNIn72F/TWrVusrKzE7u7s7OTgwYNks1nW1tbI5XLxThVtfz9N+nfw+/wN/j6kfwJlCen6bQIzSgAAAABJRU5ErkJggg==\" y=\"-81.123738\"/>\n   </g>\n  </g>\n  <g id=\"axes_28\">\n   <g clip-path=\"url(#p2a68b26ce0)\">\n    <image height=\"29\" id=\"imageacc589db56\" transform=\"scale(1 -1)translate(0 -29)\" width=\"29\" x=\"245.532203\" xlink:href=\"data:image/png;base64,\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\" y=\"-81.123738\"/>\n   </g>\n  </g>\n  <g id=\"axes_29\">\n   <g clip-path=\"url(#pe31d374c40)\">\n    <image height=\"29\" id=\"imageff3a6df9cc\" transform=\"scale(1 -1)translate(0 -29)\" width=\"29\" x=\"279.579661\" xlink:href=\"data:image/png;base64,\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\" y=\"-81.123738\"/>\n   </g>\n  </g>\n  <g id=\"axes_30\">\n   <g clip-path=\"url(#p58ae73f183)\">\n    <image height=\"29\" id=\"image01eb87f6f2\" transform=\"scale(1 -1)translate(0 -29)\" width=\"29\" x=\"313.627119\" xlink:href=\"data:image/png;base64,\niVBORw0KGgoAAAANSUhEUgAAAB0AAAAdCAYAAABWk2cPAAAABHNCSVQICAgIfAhkiAAABDBJREFUSImtl01LG10Yhq9zZjIfmZhkoibWRBOCGjUbN4ILQUHoouBCui/09/QPFLrtrovSL6j9B4LgTg2ajYjxCzMxGRITJ/MuJAN9oU5K+sBZncN9zX3O8zznjPB93+eZaLVa/Pr1i+npaU5PT0kkEmxvb/+25vPnz+zu7rK+vk61WuXVq1esrq7+UVN9Dgjw6dMnPn78SDQapVKp8ObNG969e0cymQSgVCpxd3fH/f09P3/+ZHl5mUaj8aymDIPOzMywvr6OlJLx8XE2Nze5ubnBdV1c12V2dpbZ2VmKxSLRaJTHx0disdho0Hw+z8XFBZZlcX19Tb/fx7ZtNE1D07QAcHt7i2VZOI6DZVnPaoZub6/XQwhBp9Mhn89zf39PrVZjkAqe56EoCp7n0ev1mJ6exvO80aCGYeB5HolEAkVR0HWddruNbdsAdDodVFXFdV3y+Tye59Htdp/VDN3eqakpYrEYjUYD27ZpNpsAWJaFZVn4vo+qqhiGgWma9Ho9CoXCaE6FELTbbaampjAMg06ng+d5RCKRYN51XXzfR0pJLBYjlUqN5rTb7SKlDEpE0zQURSGXy5HL5XBdF9u2SafTRCIRHMfBdd3RnCYSCTKZDEIIPM/DcRwMw8AwDAD6/T71eh3XddF1nXg8jhBiNCiArusAtNtthBC/QQfbHI1Gg0SLx+OjQ03TRAhBq9XC931SqRSapgGgKEqQwWGlMojQMwXIZrM0m010XafT6TAxMYGqqsEYwOLxeOB8ZOjS0hKGYQSCL168COaEEEQiEUzTpNVqhXajoaH/OoaCqqpKs9lEyqflqVQKKSVSSnq9HrquY1kWrusyPz8frjcMdGlpCdM0URQFeMrUQatTVRVd11FVlUajEdoYYAing8a+traGEAJVVYlEIkESDc50bGyMmZkZFhcXQ6FDtUGAu7s7HMehVCoF3QeebhnP8zg/P2dvb4+3b9+ODu33+0gp2d3d5cOHD5TLZXRdD8rk4eEBRVGo1Wqk0+lQ4FDQgdPXr19zeXlJpVKh0WgwOTkJQDKZpFarMTc3x87Ozr+FArx8+ZKNjQ3q9TpbW1sAnJycsLe3R6FQ4Pr6mqurKzKZzLOaQ9dpvV6nWq3y8PBAMpmkUqlQqVT49u0bKysrZLNZ6vU6h4eHoVpDlQw89dh8Po9pmti2zdevXwEol8tkMhm63S4LCwuhjzL4C6eDEkmn05imSbfbDYZpmiSTSR4fH0Pv0r+CHh8f0+/3URSF79+/UywWKRaL+L7Pjx8/kFLSbrc5OzsLNzAM8Pz8HMMwkFJycHCApmlBgqnqk8T+/j5jY2NBqxwZWqvVODs7Q9d1HMchm81SLpcBaDabHB0dUa1WKRQKvH//ntXVVUql0h/1RNi/DDy9k758+cLc3By5XC6o0f9/2CCJBq+IP8V/zt+MKirzkqYAAAAASUVORK5CYII=\" y=\"-81.123738\"/>\n   </g>\n  </g>\n  <g id=\"axes_31\">\n   <g clip-path=\"url(#pc78a8e7bef)\">\n    <image height=\"29\" id=\"image0c1ebae04a\" transform=\"scale(1 -1)translate(0 -29)\" width=\"29\" x=\"7.2\" xlink:href=\"data:image/png;base64,\niVBORw0KGgoAAAANSUhEUgAAAB0AAAAdCAYAAABWk2cPAAAABHNCSVQICAgIfAhkiAAABU9JREFUSIm9lktrE18Yxn9nbpnJpU06bVNrFbGI1nrb6qJ2oejOnaALwYVbd34Nl34Ci4I7URT3QnUXCwqGpKglSSXmNjOZSeb2X0iGaqpRhP8DhwRmzvmd93nf854RcRzH7FG5XGZra4sgCLh+/Tp/oziOEUIA8ODBA3zfZ319nbNnz/7wnvLzxM3NTV6/fg2QQPcu9qcqlUrEcUw+n58MLRQKpNNpgiD4K8jPSqfTCCHIZrNjz8agvu+jquo/AeG7O6lUCtd1x55J+0FlWSaVSv0T1LIshBCEYTgZ6roukiQRRdEfA+I4TgbA7u4uu7u7CCHo9XqToYPBAEVR6Pf7SV73LvqrASRRdbtdNE0jjuN9Nz+W0yAIUBQF3/eRpO97Gv3+SqPKHtVCo9FA0zRUVcWyrMmRCiHIZDL4vs+bN2+wbRvf938LHalarbK5ucmTJ09QVRVN01CUsbjGIw3DEEmSiOOY58+fs7W1xc7ODtlsljAME9tGVg4GA4IgII5jbNtmeXmZxcVFHMdhOBz+GVSSJGRZxvd9oihiaWkJTdPodrvIsowkSQRBkEAVRSEMQ6anp6lWq7x69QrDMDhw4ACu61IoFCbbq6oqQRBQqVTwPI9v374Rx3FyjBRFSfKlqiqpVArDMFBVlWq1SqPR4OvXr8iyjBCCdrs9OdJTp07Rbre5ePEimqbR7/fRNI10Os1wOCSOYxRFSWyzbZtsNkutVuPYsWPcu3ePjx8/0mg00HWdqampydD79+9TqVTwfZ9CocDt27dxHIdsNossy0n+RpUaBAFCCAaDAZqmUa1Wefv2LQ8fPsQ0TU6fPs2tW7d+b+//obFI5+bmkt07jkO328UwDKIoYjAYkMvlcF03KaR8Po9lWfR6Pc6fP8+7d+94+fIl6+vrNJtNarXaGHQs0qtXryKEoNPp0G63yeVy+L6PoiikUinCMCSKIiRJSkYURWQyGTKZDO/fv6dcLuP7PocPH+bu3buTI3306BGfPn1iZWWFfr+PYRgA9Hq95LraqyiKkGWZfD6fNJHjx4/jOA7Pnj2j2Wxy8+bNH+aIn78cms0mL168IJ/Ps7GxwZUrV7AsC1VV0XWdbrfL9PR00peDIEj+67rOzs4O29vb3Llzh1KpxNraGmfOnPm9vZ1Ohw8fPrC9vc3Ro0cJgoCDBw8ShiGO4zA/P48QIrFWluWkulVVxbZtPM+jVCpRLpcxTXNyTqemptB1nWw2i2EYpFIphsMh8P22GQ6HeJ6HLMtJw/A8jyiK0HWder2OaZrIskwcx8zNzY1Bx3I6OzuLJEn4vs/s7CyqqiLLMsViEUmSGAwGeJ6XvK/rOqurq/T7fYQQrKys0Ol0cBwHXdfRNG0yVJIkNE0jDEMMw0AIQbPZJJ/PI0kStm1TKBSSO9S2bdLpdBJxsVjE932CINi3G+1rL8Da2hqtVgtVVYnjmKmpKVqtFu12G9M0cV03KaCZmRl6vR79fj/ZiGmaBEFAsVj8c+jq6iqZTIYoihBCoKoq8/PzmKaJYRhYlkUYhklxpdNp4Ps1N/pcjaKII0eO7Asdv+yAXC5Hq9Uik8ngeR71ep1cLocsywyHQ2ZmZpLzats2nz9/5ty5cziOg+u69Ho9fN/n8uXL+0LHzulIvV6Pp0+f0ul0WFxc5NKlS+RyOTY2NlAUJWkakiTRbrdxHAfHcZKjdOPGjV/a+0voSF++fOHQoUMAPH78mHq9TqVSodvtArCwsMDCwgKWZXHy5EkuXLjA0tLS75bc3969GgFHRVOr1Thx4kRydgGWl5e5du3aD/NG/Xk//QfUZbQt/K4NKwAAAABJRU5ErkJggg==\" y=\"-118.399167\"/>\n   </g>\n  </g>\n  <g id=\"axes_32\">\n   <g clip-path=\"url(#p2abcab9b59)\">\n    <image height=\"29\" id=\"imageac6e90fe37\" transform=\"scale(1 -1)translate(0 -29)\" width=\"29\" x=\"41.247458\" xlink:href=\"data:image/png;base64,\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\" y=\"-118.399167\"/>\n   </g>\n  </g>\n  <g id=\"axes_33\">\n   <g clip-path=\"url(#p692714314e)\">\n    <image height=\"29\" id=\"image7bd8864a63\" transform=\"scale(1 -1)translate(0 -29)\" width=\"29\" x=\"75.294915\" xlink:href=\"data:image/png;base64,\niVBORw0KGgoAAAANSUhEUgAAAB0AAAAdCAYAAABWk2cPAAAABHNCSVQICAgIfAhkiAAAA61JREFUSImtlk1rGl0Yhi/HORm1ozJ+tEPawSAWEhJCSJZZdtP2d7Q/oHST/9F9Ny39BV114y5kI4gEiiSI+TAYjYyjMuN0xrGL8s77unlzoD7LG8598dznOR8sJavRaCxPTk6W3759W06n01g/PT1dvn//fvnjx4/lxcWFlJeKZL17945sNsv9/T39fp8PHz4A8OnTJ1qtFjs7O3S7XWq12qNe0tBsNkuxWOTw8JD9/f1YN02T6XRKFEVUq1UpL0UW6rouQgg0TUMIEeuz2YxkMkkURXQ6nfVCPc9DCIHv+wRBEOuapmFZFrlcjq2trfVCNzY2MAyDIAiIoijWs9ks/X4f0zRlreShT548IZvNkkqlKJVKsV6pVJjNZgRBIA2WhoZhSDqdRtd1lstlrE8mE1RVpd/v4zjOeqHz+RwhBI7j4LpurKuqSiaTQdO0ldjXAnVdF8MwmM1mK3oURQwGA1KpFJqmSXlJn1MhBKZpYhjGiu77PqPRCNu2yWQy64UqisJkMiGRSDAajWL99vYWTdNwHGf9ezqZTLAsi1+/fq1E3G63KZfLlEol7u7u1gf1PI9EIsH5+Tm+76/EaNs229vbqKoqvafSna6zpKBBEPDs2TOq1SqWZaEo/y7b2Nig2+2Sz+cJggDP89YDtW0b0zTp9XqUy+UVqGma5PN5FosFhmFIRSw1vaenp9i2TSqVYjQaoSgKYRgCcH19jaIoJJNJrq6ucF0XXdf/Hnp5eUm/3yedTqMoCp7n8fDwAEA+n+fNmzcYhoHv+3ie9yhUKt5Op4OmaQyHQ8IwZDAYMB6PGY/H7Ozs0Gq10DSNSqUidValOr2/v2dvb4+DgwMURWE8HvP582cAXrx4wXw+J4oiisUi4/H4UT+pTofDIeVymXa7HXfcbDZpNpvUajVevnyJ4zgIIVaG7K+gYRgymUx4/vw5zWaTm5sbMpkMmUwGwzD4+fMnyWSSm5sbfN9/1E8q3vl8zmKxQAiBbdsMBgMqlQrw58I/ODhAVVV0XZd6yKU61XUdVVVpNBpYloXjONTrder1OrlcjmKxiBACIQSLxeJRP6lO//lwua7L169fOT4+5vv378CfhyAIAmq1Gq7rxuf3r6FHR0d0Oh1M0+Tp06f0ej0KhQIAu7u7zGYzRqMRpVKJzc3N9UBfv37N27dvsSyLMAz58uVL/NKcnZ3F966u6+RyuUf9Esv//rL+pz5+/MirV69wHAfDMOIYc7kchUKBVColPUi/AUVG5I9LQz5AAAAAAElFTkSuQmCC\" y=\"-118.399167\"/>\n   </g>\n  </g>\n  <g id=\"axes_34\">\n   <g clip-path=\"url(#pc99a29985f)\">\n    <image height=\"29\" id=\"image8c390dbd1b\" transform=\"scale(1 -1)translate(0 -29)\" width=\"29\" x=\"109.342373\" xlink:href=\"data:image/png;base64,\niVBORw0KGgoAAAANSUhEUgAAAB0AAAAdCAYAAABWk2cPAAAABHNCSVQICAgIfAhkiAAABJ9JREFUSInllr1rFFsYxn9nPnd3NjFGIxo0EEXZqBjSyJJO0ULBTjvBXrTwDxALCwUbG9HCwkJSmE7Bwk4RkYBWKiEGN2Jw/Vhdk9mdOfNx5twidyY31+Al14tc7n2rmTlzzvN+PM8zI7TWml8cxq8G/H+BWj9a/PbtG58/f6bT6aCUolKp0N/fz+bNm1d9/9OnT9y+fZsdO3bQ7XZRSrFu3To8z2NoaIidO3cCIHIiTU9PMzExwePHj7Esi/fv37O4uEiSJAghME2T+fl5hBBYlsXWrVsBOHDgAMePH+fIkSOcPn2a69ev43kecRyTpinDw8NordmzZw/37t1bAp2amtKXLl3i1atXJElClmVFVeVyGcMwimdCCBzHQUpJkiQAaK2ZmZkBoFqtsn37dpIkIReF67oA7N69m4mJiaX2Tk5O8vLlSwYGBgjDkN7eXrZt28bg4CBfvnyh2+0SBAFfv36l1WoRxzGWtTyVLVu2sG/fPrIsw/d9wjDEtm1KpRLtdhspJVEU0el0lmd64sQJnjx5wv79+zl58iSWZaG15v79+8zMzJCmKdVqlTRNSdOUIAiQUhIEAQAfPnwoDgYolUoEQUCz2cS2bTzPw3VdpJQFqNBa66dPnzI7O8vHjx+Zm5tj7969PHv2jPHxcQzD4M6dO7RaLTzPo9PpkGVZkblSCtM0ybIMw1gSQw7gOA6lUgnXdWm327x+/XqZvfV6nXq9ThzHOI5Dt9vF8zwePnyI7/vMzc2xa9cupJQopUjTtABYWFhASolhGLiui+M4WJZFFEW4rkulUkFKycaNG5crzbJM52BCiO9k0G63OXXqFFJK+vv7aTQaxezzShcWFsiyjCzLqFQquK5LFEWkacqmTZtotVocPHiQq1evAmAIIXBdFyEEWutic5qmAKxfv567d+8yOjqKEIKhoSFs28b3fXzfJ45jSqUScRwTxzFBEBDHMZVKBcuysCyLJEkYGRkp2L7CkYQQGIaBYRgFoXJpXLlyhfHxcQBGR0eLPY7jYNv2isRzSbmuSxiGCCEYHBws9vz7vFcIgW3bZFkGwNmzZ6nVarx9+5axsTHGxsbwfR+tdUEigCzLirZHUYRSaoV1/mWluRSUUgBcvHiRgYEBpJRIKdmwYQOw5Dw5F/L5RlFUaHx2dhZYZaartuJ3aZimWZDr5s2bNBoNGo0GtVqNOI4xTRPbttFao7UuQHMJhWFYdO+HX5k/R66/arXKuXPnALhx4wYjIyNMT0/T19eHYRjEcYxSCqVUkdCbN28KULHW3xWt9Qo9Hzt2DKUUzWaTcrmM7/t0u13SNKVcLlOtVlFK0dvby6NHj5a6txbAPNPcZwHOnDlDu92mp6enIFzuRKZpAlAul4trYO2Vrlbt4cOHWVxcREpZ6DQ3DsMw6OvrQynF8+fPl0awVsAc9I9Rq9UwDIOenh7CMGR+fp5Dhw5x+fJlrl27xosXLzh69Cjnz58vDvhH4sKFC3p4eFjX63XdbDa/W0+SRAP6wYMH+qdBlVJaa63fvXunJycnV6xlWabTNC3ub926paempvTfmunPxr/Pe/9ToL8Bejc0LDSLA3AAAAAASUVORK5CYII=\" y=\"-118.399167\"/>\n   </g>\n  </g>\n  <g id=\"axes_35\">\n   <g clip-path=\"url(#p16d6ec5a80)\">\n    <image height=\"29\" id=\"imaged58a9b93e0\" transform=\"scale(1 -1)translate(0 -29)\" width=\"29\" x=\"143.389831\" xlink:href=\"data:image/png;base64,\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\" y=\"-118.399167\"/>\n   </g>\n  </g>\n  <g id=\"axes_36\">\n   <g clip-path=\"url(#pdebdf4dd94)\">\n    <image height=\"29\" id=\"imageeb657ab8e9\" transform=\"scale(1 -1)translate(0 -29)\" width=\"29\" x=\"177.437288\" xlink:href=\"data:image/png;base64,\niVBORw0KGgoAAAANSUhEUgAAAB0AAAAdCAYAAABWk2cPAAAABHNCSVQICAgIfAhkiAAABERJREFUSIm9lztvE00Uhp/Z2dl1xAbHUaJEBHGpKJDSACVKkRp+QaQU+RGU6SPxO/gDFBRAgajTREIIURBQhBTjXBRHyXrnQpHvDLtrO1B9p7G9l3nOeefMO2MVQgi04vPnz2xvb7OyssLl5SV5nrOxscGjR48AePHiBVVVAaCUot/vs7a2xtbWFgAhBJRS7WH/RKiF9z6EEMLm5mYAwsLCQuh2u6HT6QR59NWrVwEIRVGEoijC3Nxc6HQ6oSiK0A5rbXDOxXEl0noCkt3e3h69Xo+iKPDeMxqNKMsSgKIoUEoxPz8PgPeeGzducHp6OlaQ1npioemki8PhkDRNKcuSJEkAqKqK9fV1dnd3CSEwGo2ilMYYlFI8e/aMr1+/sry8zPn5OU+fPuXly5dYa0nTdDp0MBhweHhIURSEEKiqCq01CwsLfPz4kaqqmJ2dbahjreXWrVu8efMGYwyDwYCzszOKoriCpE1M0oa+fv2ai4sLtNZ478my7OrBJOHevXt0u93YKEoptNYopaiqiocPH9Ltdul0OvR6PY6PjyfKOwZ9+/ZtlFTkE2hZlrFrJbz3JEmC956yLHHOYa3FGEO/3+f79+9/h7579448z/HeNwZtL4EkSWJySZJgrUVrjdYa5xxJknB2dsaHDx/+Dv358yd5nqOUagwMV/PnnEMphfc+JlZXJM/zhjq7u7vXQweDQXy4Pm8yuFKKEEIjEfkuz2VZRggB7z3GGN6/f3899NOnTwBkWdaooi5vCCFWUg9JSCSWqr98+XI9dH9/v5G1QKRioJFMG+q9j0BJ4OLigqOjo+lQ6bT6UkiSJDaG1jpKX4dJCFSuyWe72gb0169fAI0X4Wpxe+8ZDocRLjKLCjKP9WmQ+e73+9Oh/1c0oHUHEQkl48vLS87PzzHGkOd5bBjv/cTGSpIEYwwAP378aNxrmKIYfbtzxWXyPB9buyJpXVYA5xxVVZFlGYeHh9OheZ43bsq8iSGIU9Wh0q0y1wKX31rrMWhD3rm5uWhndbBApi2XdpL10FrHvXhipXfu3AH+LPR/AdWBk8CTji2NShcXFwEoy/KfYXXopKay1sbtUaJR6f379wHiy3VXamfe/gwhkGUZo9GokYC1ll6vNx26uro6BpGBxQhkfutySvfKKUK8Ok1TqqpiaWmpMV5D3vn5eR48eIBzDmMMWZaRpulUg69vf3XLFLuUBrp79+70SgG63S7fvn1jdnYW5xxpmjIzM9OwuEmbulyHqzXqvY9no9u3b18PffLkCd57bt68ycHBAUopjo6OMMZgrY1Vits4564G+u/0KJWmaRrvPX78uKnSpBN+O5RSUSKxvrYD1Y3fGIP3Huccx8fHYwe0RqXSFJP+FgwGA9I05eTk5G85ArC8vMxwOIzH0KnQ9jKQ2NnZYW9vj5WVldgc4lqyh1prY8LOObIsY39/n+fPn49BfwN005ZZa72coAAAAABJRU5ErkJggg==\" y=\"-118.399167\"/>\n   </g>\n  </g>\n  <g id=\"axes_37\">\n   <g clip-path=\"url(#pd4afd12632)\">\n    <image height=\"29\" id=\"imagefaf9420cd6\" transform=\"scale(1 -1)translate(0 -29)\" width=\"29\" x=\"211.484746\" xlink:href=\"data:image/png;base64,\niVBORw0KGgoAAAANSUhEUgAAAB0AAAAdCAYAAABWk2cPAAAABHNCSVQICAgIfAhkiAAABGZJREFUSIm1lk9rE10Uh5/cTGYmmcSZaGOKtGK1guiiFSxF2yKuVHDpUtz4EfxYLlxJN/0E4kLS2EVbTMWgjTSMwyTzLzc376LMkCJJbN/3PTBM4GbOc37n/O6dyY1GoxFTQilFs9nk8PCQbrdLsVgEIAxDAGq1GoZhMBwOuXbtGouLi9RqtWkp0SYtfPr0iZ2dHRqNBo7j0O12OTk5YW5ujnK5jOu6ABiGQRzHRFFEpVJhMBgwNzfH5uYmr1+/Ph90Z2eHX79+cevWLSzLwrZtyuUySikKhQL37t0DIEkSwjAkSRIsy8IwDH7//s3BwcFEpWLSwsOHD5FSZlccxwRBgJSSwWBAs9mk2Wziui5RFKGUIp2U67psbm6eH1qv14miCICTkxOUUgBIKTEMA13X0XWdcrkMwHA4BCCOYzzP4+bNmxOhE9s7Pz9PGIYopTLz6LqeFSLEab1KKYQQDIdDkiRBCEGtVuP27dvnV1oqlSgWi/i+n8GDIMggaaSgfD5PpVLJDDUtJirVdZ1SqUSSJCRJQj6fp1wuI6VEKYWu69l/0+0ThiFCCObn56dCJyoFsG07UzkYDCgUCvT7fYQQ2ZXOulAoYBgGcOqHC0MXFhayGRYKhQwMZFA4naumafT7fcIwZHl5+eLQjY0NNE1jMBgwGo0yVUmS0Ov16PV6WJaVzVrXdb5//87KyspU6MSZAiwvLyOEIAiCzCi+7xPHcaYyPZE0TUMphW3bXL58+eLQcbOYpkkURURRxI0bN5BSAnB0dEQ+n+fq1au0223u378P8IfLx2NqewEePXpEHMfYto2u6wghkFKiaRqapuE4DrquE4YhcRzz5MmTWSlnQ/+PmAl99uwZR0dHdLtdFhYWkFLi+z65XI5cLodpmiil6Pf7fPz4ka2trdPEE1o7FZo6tV6v4zgOYRjSaDTodDqZoXzf5/j4mCtXriCE4OnTp2eenRQTjZRWapompVKJIAjwPA/XdfE8j2/fvgFw6dIltra2ODw85MWLF1NhM5WOx8uXL1FKUalUyOfzdDodVldXWV1dpVqt8uXLF1qtFmtra2cK/lfQpaUl9vf3KZVKvHnzhiAI2N3dZXd3F8Mw8DyPVquVveYu3N7xffbz50+EEOzv72PbNsfHx2ja6aMrKyv0ej3q9TpJkpzZ2+eGjsf29jamaVKtVvn69SsHBweZqlarRbvdplqt0ul0WFxcnJlvYnvH55I61rIsfvz4ceYF3Wg0uHv3LgDNZvNvNPyd0jt37uB5HtevX0dKyXA4ZGNjA4BisYjjOPi+z97eHs+fP/9voIZhYNs2ruuiaRpv376l3W4D8P79e6SU2LbNgwcPgOnn7kxoesaur6/z4cMHXr16xePHj88kXFtb4927dyilWF9fB2Zvmdy0L/zUjXt7e1QqlcwkUsoscXr//Pkztm2ztLQ0U+nUktJtIYTANE3gz9ale9KyrJkKs7zTFtMk6dd7CkmLGYc6jpP9Tu+TivgHTiMUFvFhjtAAAAAASUVORK5CYII=\" y=\"-118.399167\"/>\n   </g>\n  </g>\n  <g id=\"axes_38\">\n   <g clip-path=\"url(#p6cd73a56fa)\">\n    <image height=\"29\" id=\"image25c58ee9c6\" transform=\"scale(1 -1)translate(0 -29)\" width=\"29\" x=\"245.532203\" xlink:href=\"data:image/png;base64,\niVBORw0KGgoAAAANSUhEUgAAAB0AAAAdCAYAAABWk2cPAAAABHNCSVQICAgIfAhkiAAAAopJREFUSIntlT1L5FAUhp/cSSYRJTGMBFGRsVCwERvxHwg6hZVgoa2tv8DCfyGKjZ1YiLZTiI1a2YxoxlLJzOBX4iTBMMkkW+w6+wH7ISzb7LzVhXM4z7nnnHuulGVZxj+W+NfALrQL7UI/LBmgWq3i+z6e59FsNnl+fubt7Y0oilBVldHRUdI0ZWxsDMMwGBkZ4X2nJEmCLMvk83mE+LM7SKurq9nJyQmTk5P4vs/a2hoLCwvEcYyqqhiGwdbWFjs7O5imSRzHXFxcMDg4CMD8/Dyu6xJFET09PQB4nkcYhiiKQrvdptVqIYTg9fWVvb095O3tbQA0Tetk4roujuOQz+ep1WqoqkqlUunYV1ZWME0TgLm5OWq1Grlcjkajwfj4OKVSiZubG5IkIQgCoihC0zQURWF6ehr5W9i7TNOkv78fgKOjI66vrwFI0xQhBJubm+zv7wNg2zayLBOGIZZlcXp6ihCCpaWln5ZXpGlKmqadoI7j8PT0hOu6SJLE1dUVMzMzn52/9Oz8/Bxd19F1nUKhQLvdplgsIoSgXC6zvr6OJEkYhsHi4iK7u7vYtv0V+ked/8uSv504IQTDw8MEQYDv+wD09vZSKpU6PvV6nVarRbFYBODl5YVCoUAul2NjYwMAy7KwLIskSahUKlxeXiJJEgB3d3dIH/1Pb29vub+/R1VVAOI45uHhgYGBAR4fHzk4OODs7AxN04jjGEVR0HWdIAiYmpri8PDw8zv9Ue95SJL03RlgYmKCoaEhHMcBoNlsEoYhs7Oz9PX1sby8DECj0aBcLnN8fIxt251Bewf8Umma/tKeJElWr9d/FyarVquZ53lZlmXZh8v7N/T/LPwutAvtQj+kTwkCeQS28OcXAAAAAElFTkSuQmCC\" y=\"-118.399167\"/>\n   </g>\n  </g>\n  <g id=\"axes_39\">\n   <g clip-path=\"url(#p8684e8ac97)\">\n    <image height=\"29\" id=\"image83cb06e99b\" transform=\"scale(1 -1)translate(0 -29)\" width=\"29\" x=\"279.579661\" xlink:href=\"data:image/png;base64,\niVBORw0KGgoAAAANSUhEUgAAAB0AAAAdCAYAAABWk2cPAAAABHNCSVQICAgIfAhkiAAABRhJREFUSIm9lstuE0sQhr/unvvFjsegSJGQQQSQYBOhLGDJG7BgRTZ5BXa8CBskdqx5ALZZABICIUAKAiIRy8iIGCxsZzwzPTNnkTOt3MPZnFpZPe3666+qv7pEXdc1++zVq1d8//6da9eucf369f2f+PTpEz9//qQoCtI0BSBJEoIgoNPpcOHChQP3P3/+zMuXL4njmLt375pzi0P25s0bRqMRSikDOhgMePr0KUII2u02RVEwGo0ACMMQIQRZltFqtVhfXyeKIgC+fPnCt2/fiOP4AMYR0OXlZYQQSCnN2aNHj7h06RJxHKOUoigK4zgMQ7TWCCHY3NzkwYMHPH782ATiOA69Xu8AhuSQxXGM1po/f/4AMB6PKYoC3/epqoqyLCnLEs/z8DwPIQRKKbTW9Ho9pJQmC3meU9c1nU7ndKaO4wCwu7sLQLvdJooiqqrCcRyEENR1TZ7nxrGUkqY1wjDEsvbczudzHMfB87zTmSqlsG2bsiwBDIhlWQghEEJQliV5npPnOZZloZRCKUWe55RlSavVAqAoCoQQhGF4OlPP80zdzKV/I29qXde1iT6KIrTWZFlmmDb9kKYpruvi+/7pTF3XNTWaTqcALCwsoLVGKYUQAs/zCMOQMAzJ89x8k1Jy/vx5AHZ2dvYApCQIgrPT2zj//fu3Yd8wb1hPp1Om0yl1XZuUa61NBnZ2dkwgruueDhqGIVVV4Xkes9kMgLquqarK3BFC4Ps+vu8ThqEJspEIwPb2tgnQtu3TQR3HQUqJEILt7W3DtDkTQmBZlklvWZbmrBkeAD9+/DC//6p7q6oiDEPG4zGwJx/btpFSopQCYDKZMJlMDBMpJVVVmYzM53M8zyPLMsP4RNAm/57n8evXL2Cvfo1GYa85LMsycqmqCiklUkojtbIskVJi27b5X2NHJNO0u+/7zOdz40ApRV3XRrPNGCyKgjzPUUoRBIHJTiOXwyyPZfp/2ImgTf0GgwFaa1zXNQ0DMJvNmM1mSCmN+H3fZzQa8fXrV7Iso6qqI50Lx6S3AQQIgoB3797h+74JwrZtlFKmdq7rkqYplmWZ/21tbdHtdimKwkjoTKae51HXNXEc8/r1azNLm85tWDXBNC9No++3b9+yuLhIURRHptGJoL7vk+c5nufhuq7pzGb2VlVFmqakaUpZlkajsDc48jzH933KsjwyjU4EbbVapGmKbdtmYEdRhOu6piObcWnbNrZt02q1WFpaQinFwsICjuOQpqkZEGeCNttA0/adTsewbJopiiIjG6UUWZYRBAEXL15kNBqRZRl5npvSnAna7XbNQI+iiCAIjEYBtNbM53Oj4+YsyzKSJKHb7dLv99FaH9kaTgRdXFxkd3eXJEk4d+4cRVGYV6QZ/s0jLqVkNpuZNQbg8uXLxHHMZDI5FvRYyQRBcKB+WmuklAdWkSRJDMN2u81sNkNrTVEUpjzNHvVXoAA3btxgY2OD5eVlPM8jSRKGwyHj8RjLsnj//j2wV//pdMrq6ipVVaG1Zjgc8uHDB+7du3esb3F42d5vm5ubvHjxgn6/T5IkPHnyhDt37rC1tcVwOATg5s2bDAYDrl69Sq/XYz6fs7S0xMrKypFl/a9AG9Nas7GxwWAw4Pnz5zx79sw88Ldu3WJtbQ2A1dVVVlZWjk3pfwbdb1euXOH27dumtv1+n7W1NdbX1w/ca9aY4+zEmp5kDx8+ZDKZmK3948eP3L9/H8C8q8CJgAD/ANJ8UNX5QS/DAAAAAElFTkSuQmCC\" y=\"-118.399167\"/>\n   </g>\n  </g>\n  <g id=\"axes_40\">\n   <g clip-path=\"url(#pe5f0c6cdf9)\">\n    <image height=\"29\" id=\"imagebb5ec96889\" transform=\"scale(1 -1)translate(0 -29)\" width=\"29\" x=\"313.627119\" xlink:href=\"data:image/png;base64,\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\" y=\"-118.399167\"/>\n   </g>\n  </g>\n  <g id=\"axes_41\">\n   <g clip-path=\"url(#p14869fdb22)\">\n    <image height=\"29\" id=\"image0d7dbc6db6\" transform=\"scale(1 -1)translate(0 -29)\" width=\"29\" x=\"7.2\" xlink:href=\"data:image/png;base64,\niVBORw0KGgoAAAANSUhEUgAAAB0AAAAdCAYAAABWk2cPAAAABHNCSVQICAgIfAhkiAAABYJJREFUSIm1lk9rE18Xxz93/idpp5M0TSwNBi0qWPyzUEtxI64EuxEEN258HS5EfBlCfQVupDsRRDd1oXYh2iqtlNY0bZM2ZjJNZnJn7rMQB3xM+8vvgefArObe87nn3O8596AG2OPHj9Xp06fVo0ePBv0eyu7cuaMuX76sFhYW/vpnMMCWlpZotVoEQcDCwgIPHz6kUqkAkCQJSil0XU/XJ0kCQDabpVar8fz5c1qtFt++fWN1dfUv/wOhnueRyWSoVCosLi7ieR5SShqNBrquo5T6a48Qgna7Tbvd5s2bN0xNTTE6OkomkxkOWq/XiaKIvb09zp49y/LyMo7j4HkecRz/2mgYKQxA0zSEEPR6PaIootlsMj4+zvr6+nBQIQRhGLKxscHU1BQbGxucPHkS27ZRSmHbNtls9g94kiRomsb09DRSSprNJkEQcHh4OBw0m82ilGJnZ4dqtYplWeTzeaSUhGEIkKbYsiwMw8BxHGzbptPpMDExwc+fPwGYmJgYDup5Hrqu0+v1mJ2dxfO8NHW6riOESKFCCDqdDkophBBIKTlz5gzdbhfDMCgUCsNBTdPEdV1832d6eppMJoNlWWQyGVzXxfM8ms0mAAcHBwRBgGEYhGFIsVikXC7TbrfJ5/Pk8/nhoLlcDqUU9XqdarVKqVTCcRzy+TyWZaGUSstEKYVlWQBsbm5y5coV9vb26PV6xHE8UL3aIGihUCBJEnzfJ5fLMTk5yc7ODr7v0+v1aDabhGFIGIYIIXAcB8Mw0DSN69ev0+v1OHHiBEopRkZGhov0d0q63S77+/sUCoVUhfV6nZGRkbR0pJTYto2UEiklFy9e5NOnTwgh0DQtVflQkeq6TpIkrKysUCgUkFJimiaapiGlRAiRCicMQ0zTJI5jDMPg+/fvxHGMUmqgegdCHccBoFwu02g0iOMYTdPo9/tIKf/oSI7jMDY2xujoKKZpEoYh29vbhGGIZVlUq9Xh0uu6LkopoihibW0N3/cZHx/HdV12dnYAiKIIIC2jIAhwHIfl5WUajQZKKeI4plQqDRfp/9sGRlqpVNKe+uHDB1qtFvl8Htu2KRaLdLvdP0pmf3+fJEmwbZuPHz/y48cPAHRdH15Iv+/BNE1ev35No9FIy6Lf79Pv9wmCIG0KnuehlMJxHFZWVtjc3MSyrIHlcmSko6OjOI5DFEVEUYQQgpGREdbW1tjf30/VCqSHEEKka+M4Jo5jXNcdHgq/mn6r1cI0TaSUvH//nlqtRiaTQSmFpmkpVEpJFEWEYUg+n0cpRa/XO8r10dDfr4mu6zSbTWq1Go7jIKXEcRw6nQ7w6x2NooirV68Sx3HapSzLYmZmZqDvI9V74cIFkiQhjmN838c0zfQZu3v3Lr7v4/s+BwcHnD9/nu3tbd6+fUu73SaTySCEYG5u7t9B5+fnEUKg6zr9fh/TNOl2u3S7Xebm5nBdF9d1KRaL3Lt3D8/z8DyPVqtFFEW4rsutW7f+HfT+/fuMjY2xtbWV3mGSJBSLRVqtVvoVi0U8z8OyLAqFAkEQsLq6yvT09MAWeCxUCMHi4iI3b96kUChgGEY6GfzuRvBrXNna2uLdu3fkcjlOnTrF/Pw8z549O8r18R3p3LlzvHz5ktu3b+P7PrquMzMzQ7fbTddks1kmJibwPI/d3V2ePn3KixcvKJfL/xu03+8D8OTJEyqVCv1+n3K5zNLSUnqHu7u7fPnyBSEE5XKZa9euAQwcU1MbdmJ/8OCBsm1blUol5XmeqlarqlqtqlKppBzHUblcTn39+lUppVQcx8f6EurYI5Eqd2Njgxs3bnB4ePjHdB/HMUEQMDs7y6tXr45zldo/Qv/b1tfX+fz5czpJuK7LpUuXmJycHNrHfwA+iUilBDqiXQAAAABJRU5ErkJggg==\" y=\"-155.674596\"/>\n   </g>\n  </g>\n  <g id=\"axes_42\">\n   <g clip-path=\"url(#pc2304ffb98)\">\n    <image height=\"29\" id=\"image4d007b7041\" transform=\"scale(1 -1)translate(0 -29)\" width=\"29\" x=\"41.247458\" xlink:href=\"data:image/png;base64,\niVBORw0KGgoAAAANSUhEUgAAAB0AAAAdCAYAAABWk2cPAAAABHNCSVQICAgIfAhkiAAAAt9JREFUSIntlT1LO1sQxn9n191sNmtejClsVcQuooWtH8DKVmzzCbTQL2Bjaa9+CcHGRiuLYEQLCaKCohKQ6Mkm+3b23CrL36tw3/+Xy/WBA4eBmWdmzjNzhNZa85Nh/GzCb9Jv0v826cjwEkUR/X4fpRRJkgAghMAwDNI0JU3TzKaUQgiRBTFNE601aZp+sA99ALTWKKWoVquIIAi0lJJyuczISJbDPwrx40ZqtVqcnJzw8PDA6+srnU6HIAgwTZN8Ps/o6CiO41CtVhkfHwdgbGyMWq1GoVBACIHWmjiOieOYSqWC4zhYloUQAikl9XqdkV6vR6PR4OLiAt/3CYKAMAwplUo4joPneby8vGTtj+MY0zQJwxCAfD4PgJQSgFKphFIK0zR5e3vD8zy01ggh6PV6bG5uMuJ5HsvLyxQKBQaDAVJKbm9vGQwGTExMEEURk5OTWUJJkhCGIUopAFzXRSlFuVymWCzi+z5KKTzPo1KpEAQBSilyuRxRFOG67sf2DjM+Pz9nY2ODy8tLFhcXeXx8xLKsrG1xHGeCiaIIIQSmaWLbNu/v73ieh2EYhGGIEALf97Ftm263y/7+/r8zMiJNUw18kPoQW1tbHB8fc39/z8LCAmdnZ4RhyMzMDM/PzwAkSYLjOJkOgiDg7u4OAMuyyOfz2LaN67pIKbm6uvrc3uGc5nI5AK6vr1lfX6dcLjM1NcXR0RFPT0/ZDFqWhZQS13Xp9/t0Oh0ajQarq6s0m022t7cZDAb4vk+9XqfZbIL+nVhZWdG2beu1tTW9tLSkZ2dnszM9Pa0dx9G1Wk1LKT/53tzc6Pn5eb2zs6O11vpTpb/GUP4Au7u7HB4e0m63s0qLxSLtdpu5uTlOT08zvyRJMAwDw/gsm98k/Qp7e3u0Wi0ADg4O6Ha7DMOEYZg9zY8JmKaZ6eYPkSZJ8uWqjKII27Y/2IZ7+CuB/qlK/yr+P//pN+k36d+CXwCHOcOvIoHDBQAAAABJRU5ErkJggg==\" y=\"-155.674596\"/>\n   </g>\n  </g>\n  <g id=\"axes_43\">\n   <g clip-path=\"url(#pe8a0d7e416)\">\n    <image height=\"29\" id=\"image23d4128e3e\" transform=\"scale(1 -1)translate(0 -29)\" width=\"29\" x=\"75.294915\" xlink:href=\"data:image/png;base64,\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\" y=\"-155.674596\"/>\n   </g>\n  </g>\n  <g id=\"axes_44\">\n   <g clip-path=\"url(#p47f13a4330)\">\n    <image height=\"29\" id=\"imaged507938503\" transform=\"scale(1 -1)translate(0 -29)\" width=\"29\" x=\"109.342373\" xlink:href=\"data:image/png;base64,\niVBORw0KGgoAAAANSUhEUgAAAB0AAAAdCAYAAABWk2cPAAAABHNCSVQICAgIfAhkiAAAA4RJREFUSImtlr1O60oURpftSeKxnRASSIgSCaQDEaC00FCnpkai4Sl4CZ6FAipKJGooKBBCIvyTQAhxYgyOnfgU3Ouro1PgK3nK7xvt5T2zvfcQxlztdjtsNpvhzs5OuL+/H+lHR0fh1tZWuLm5GZ6fn8eKRVzowcFBOD8/HzYajVDX9Ujf3t4Ol5aWwmq1Gu7t7cWKpRJz3d7eYlkWhmHQbDYjfWFhAdM0yWazjMfjWLH+F3Q8HjMajcjlcpGeTqcBUBSF+/v7ZKGvr68IIXBdl0qlEummaaIoCplMhn6/nyz0/v4ewzCYTCZUq9VIl1IihEAIwWAwSBb6+vqKpmmoqkqhUIj0UqmE7/sAfH19JQd1HIfBYBBB5+bmIk9K+R1IVXl/f48FFXE2nZ6eomkaAKlUirW1tcjTdZ1UKkUqlcIwjFjQWJk+PT2xsbFBNpvFtm2mp6f/+2ohMAyDcrnM1dVVclBVVWk0GuTz+b+y8TwPwzCo1+ssLy8nB317e8NxHIC/fosgCIDvY1YUJVYxxYIKIbAsiyAIWF1d/cPzfZ8gCFBVlX6/T6vVSgZqmiaVSgXLsuh2u3Q6ncgbDAaEYYiiKEgpeX5+Tgaa9IoF1TSNTCZDPp9HVdU/7k3TNC4vLykWi0xNTTEcDpOB9no9DMOgUCgQBAG3t7eR5zgOUkrS6TS6ridXSK7r4nkeUkp83+fk5CTyrq+vMQyDwWCAaZp8fn4mA9U0Ddd16ff7SCk5PDyMvFarhRAC3/cRQsQab7Gg/87RIAjI5XKcnZ1F3uPjI6Zp4jgOk8mEl5eXH+PF6r3lchnP86K56Xkex8fHka8oCo7jYJomvV4vGaiUkvF4jK7rZLNZFhYW2N3dBb47ka7r5HI5RqNRcoVk2zadTgfbthkOh6TTaVqtFq1WC0VRyGazuK6L7/t8fHz8GC9WppZl8fDwgBACKSX1eh1FUQC4ublhPB7z69cvPM/D87xkoPl8nouLC2ZmZigWiwRBQLfbBaBWqxGGIbZtI4RA1/VkoOVymX/eyExPT/P5+RmNuE6ng2VZ6LpOv99HVX++sVjQlZUVpJTc3d0xMzPDaDSKjtG2bSaTCalUina7Ta1WSwaaTqcplUooioJhGLiuG/XYyWSCpmnouk4mk2F9fT0ZKMDi4iKmaTI7O0u322V+fh747kiapmGaJr7vx3o9/AbRGBnu7WM5qwAAAABJRU5ErkJggg==\" y=\"-155.674596\"/>\n   </g>\n  </g>\n  <g id=\"axes_45\">\n   <g clip-path=\"url(#p2f00708529)\">\n    <image height=\"29\" id=\"image7c96b815a9\" transform=\"scale(1 -1)translate(0 -29)\" width=\"29\" x=\"143.389831\" xlink:href=\"data:image/png;base64,\niVBORw0KGgoAAAANSUhEUgAAAB0AAAAdCAYAAABWk2cPAAAABHNCSVQICAgIfAhkiAAABJdJREFUSIm9lk1rFEsUhp+q6u6ZnonzERHFoAERwqAbt34sBBcBNy7UlVs3/gO3rgQXrvwD/gHXLgVxIbqIXwhxIijGmQgmJjPTn9V1F5Oq9IxJ7vXmcl9oaKrq1HvOqXPeKmGMMWzj6dOndLtdlpeX6ff79Ho9NjY2GAwGZFlGnufkeQ6AEIJpBEFAEAQcOnSIZrPJyZMn6XQ6dDod2u02ly5dGtta0vv373P37l3CMAQgiiKq1SphGFKr1SiKAqUUQgiklL+RGmNI0xStNVEUkWUZSZJQqVQAiOOYJ0+ecO3aNTxr9OzZM2ZmZmg2mwBUKhWKoiBJErTWAC7KadhkGWOQUtJoNFBKIaUkjmPCMKTX69HtdgF2SO1AmqZkWUaapgghMMZMRGWMQSk1QWrXGWPcEUgpARiNRm7u9evXAEhruLy8jOd5EyT2X0rpvmnCafKyg2maEoahG1tdXd2JtCiKCSPP89y/EAKllFuzV2qtczYqIQRBEDg73/fd+XoAKysrwPgcS8XsPNyLsLxmtzEhBFprqtUqSinevn0LbKf3/fv3v3n+bzBta4whCAKyLMPzPNbX13dIX7x4AYBS6kCku0EIQVEU+L5PHMdorcfpffXqlVuwG6SUEyn+E8eKokAIge/7tFotPnz4MCb98eMHrVYLrfWuxPud6X6wbWOMcWLx/fv3cXrX1tZc7stRlJu+/P0d7LqiKFy/+76PMYa1tbUxqdXVMAyd+hwUxhh838fzxvpjyY8cOTImPXPmDFEUkee58+igEEKQJAlSSrTWGGNoNBpcuXJlR5H+T0iAq1evEkXRxBn+F7BKFgQBo9GIer0+vggAbt++DewIt7269moh69heBVa2tZI4HA558ODBeN7ep51Oh69fvzI7O+sO/aAoXx6+7/PlyxegdMvcu3eP0WjkRPu/IlRKMRwOabVabs6R3rhxg9OnT7O5ubnv9fVPUc7UcDjk5s2bzhkJkCQJAAsLCwyHw301uByBfb5Mk1horSmKgkqlwp07dyZJbQNfv37dbbqX1tr0R1E0UfHldbawPM8jiiLm5+eZnZ2dJLUaubi4SLVadSJtYV8USinyPEdrTa1Wo1arucfXtG5b4iRJOHHihBtXSo0F30Z39OhR2u02cRw7R2AsYdVqlXq9zsePH3n06BGfPn0C4OHDhzSbTddm5WiVUmRZxoULF4Cx3Pq+/7sitVot0jR1hr7vo5RiY2ODfr8PQKPRcOkF+PXrF3EcuyMpt4pSinPnzrmMwXaflhedP3+ed+/eMTMzg9aaPM8pioL5+XmOHTvmnpf2YjDG0Ov12NraYnV1lSzLqNfrpGmKlJIsy3jz5g1zc3NorXfSW0YYhhhjqFQqDAYDms0m7XYbKSUrKytsbm5OKI5SCt/3CYKA48eP8/PnT+I4dm2Xpilzc3MThebBZLkHQcBgMHAbbW1t8fnzZ86ePcutW7e4ePEihw8fdpv2+31evnzJ0tISz58/59u3b65S19fXJ/Z2dbKdXqO1tr+m2+2axcVFs7CwYB4/fmz+BEtLS+by5cvm1KlTe9r+BXrs/YAf3l/7AAAAAElFTkSuQmCC\" y=\"-155.674596\"/>\n   </g>\n  </g>\n  <g id=\"axes_46\">\n   <g clip-path=\"url(#pb799722d72)\">\n    <image height=\"29\" id=\"imagee976411737\" transform=\"scale(1 -1)translate(0 -29)\" width=\"29\" x=\"177.437288\" xlink:href=\"data:image/png;base64,\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\" y=\"-155.674596\"/>\n   </g>\n  </g>\n  <g id=\"axes_47\">\n   <g clip-path=\"url(#p1126645f34)\">\n    <image height=\"29\" id=\"imageaecdbce530\" transform=\"scale(1 -1)translate(0 -29)\" width=\"29\" x=\"211.484746\" xlink:href=\"data:image/png;base64,\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\" y=\"-155.674596\"/>\n   </g>\n  </g>\n  <g id=\"axes_48\">\n   <g clip-path=\"url(#pbb45ac78ab)\">\n    <image height=\"29\" id=\"image085da8dbd1\" transform=\"scale(1 -1)translate(0 -29)\" width=\"29\" x=\"245.532203\" xlink:href=\"data:image/png;base64,\niVBORw0KGgoAAAANSUhEUgAAAB0AAAAdCAYAAABWk2cPAAAABHNCSVQICAgIfAhkiAAABAJJREFUSIntlr1v01oYxn/HPnYcO0FOAAkVoQJiQEpRqVAZ2BiQiljYQDCy8FewIDHwP7AwIjExMFUCqRVCqJQBqqpb+RJpSBU3cRzb5/jcIYrVAlf33l7BHS7PaPt5n/f7tTDGGH4xrF8t+Fv0p0MCaK0pioLRaEQURSilxh5ZFrZt4zgORVFgWWMf8zzHtm0AhBAlH8AYU/ImHCkltm2TpinNZhMRx7Hpdrs4jkMQBFiWheM42LZdGt6NoihQSjFpetu2yfO8FNJaI4RACLFHXAhBv99HSjkW9X0fAKUUaZoSRRHGGPr9PkoplFL0ej36/T5aa7TWZdRJkuC6LpZlURRF+c4Yw2g0wnVdqtUqBw4cwPd9Wq0W0nVdVldXKYqCWq1GnueMRiM+fvyIbdsopfA8D601eZ6jlEJKSRRFZQk8z+Pr16/Ytk2WZaVjruvy6dMnADzPI8syDh48iJRScuzYMTqdDoPBAK01vu9jjKFer5fpKYqCMAzxPI+trS3SNAXg8OHDZFlGGIZorQmCoCxBpVIhCAKklLiuSxRFVCoVxO6NVBQFvV6PnZ0dlFK8e/eOJEk4ffo0vV6P4XCI4zgopXAcp6xzlmXEcUy1WsUYgzGGLMswxqC1Jo5jfN9nOByysLAw7l5jTFn4ZrNJs9ksDd67d483b95w/vx5zpw5w/r6epm+CTfPczzPIwxD2u02RVEQBAFJkjAcDjHGEMcxQgimpqb2RrrbgQnevn3LkydPSJIEIQTVapWrV6+yuroKQLvdpl6vEwQBDx8+5OLFi8zMzJAkCY1GA8/z6Ha7fP78mVqtxo0bN74X/TM8ffqU9fV1Njc3ATh58iQAly9f5v3792xubvL69WtOnTrF7Owsnufx6tUrNjY2OHfuHMePH6dSqXDhwoX/ZiMJMwZCiO9SC9+n+8GDB0RRRLvdBqDVajE9PU2322U4HDI1NUWapty/f59nz55x4sQJgiAgDENu3rzJ7du390b6reDk2e4K3Lp1i+3tbTqdDp1OB9d1WVtb4/nz5xw9epSVlRWuX7/Oly9fmJ+fp9FoUKvV+PDhQzlmf7um3yKOYwCiKOLx48csLS1x9+5drly5gpQSz/MYDAZkWQZAmqZMT0/z8uXL8cjsB1KOqYPBgIWFBVZWVtje3mZmZobl5WXq9To7OzvMzc1x6dIlWq0Ws7OzY+5+BLXWVCoVAJrNJo7jkKYpGxsb3Llzh0ePHnHt2jXOnj37Q/6+0rv7zAG8ePGCI0eOlGtTa82hQ4f2ODk5CLZt/3PRSTdP7qdlWQwGAxYXF/F9Hyklc3NzhGH4w2nYV6STz781trW1heM4NBqNv+Tsu3v/Df4/P2a/RX8q/gA0ECRvuROOewAAAABJRU5ErkJggg==\" y=\"-155.674596\"/>\n   </g>\n  </g>\n  <g id=\"axes_49\">\n   <g clip-path=\"url(#pf79879d685)\">\n    <image height=\"29\" id=\"image400e525e80\" transform=\"scale(1 -1)translate(0 -29)\" width=\"29\" x=\"279.579661\" xlink:href=\"data:image/png;base64,\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\" y=\"-155.674596\"/>\n   </g>\n  </g>\n  <g id=\"axes_50\">\n   <g clip-path=\"url(#p2163a76687)\">\n    <image height=\"29\" id=\"imagec1fd0b46bb\" transform=\"scale(1 -1)translate(0 -29)\" width=\"29\" x=\"313.627119\" xlink:href=\"data:image/png;base64,\niVBORw0KGgoAAAANSUhEUgAAAB0AAAAdCAYAAABWk2cPAAAABHNCSVQICAgIfAhkiAAABSZJREFUSIm9lrtuE1sUhr89e64e27FNYpxYtlHSICGh0CABTToiGpB4lvAyoPAKVIBokChAokBWCBQoQsjmEiQTB+zY47nsOYU1W0kMPuEUZ3Uz+/Lvf61/XUSapinH7Pnz5zx58oRbt26xsbFBmqYIIfgby848e/aMly9fcvPmTa5du6bXzdMHtre3efHiBaPRiI2NDZIkwTRnts01pRRSSp4+fcrjx4/pdrsnQI3TB6rVKtVqlWKxCPDXLAGklAAMBgPK5TKlUunE+gyFhYUF4jim3+8DU1clSYIQglOR0HZ6LQP99esXwL+DmqaJaZp8//5df/9Xe/36Nc1mE8uy5oNKKZFScnBwAMCjR4+Ioog4jjEMAyklhmEQx7F+VBRFpGmKYRiEYcji4iKbm5sEQaDvmwsaRRFCCLrdLgBbW1usrq5iGAZKKX15FEX6jG3bmKZJmqYopRiPx2xubjIej7Esa0YXM6BhGOK6Ll+/fgXgxo0bDAYDHMdBKQWgwWEaT9M0tQvDMGR9fR2lFD9//kRKSZIkJzBm1BsEAUIIgiAAoNFo8OPHD0zTRAhBGIYkSUIcx8RxfMJ1WViUUrx//57V1VWAGQH+ViXZpg8fPlCtVvE8T7tPSolSSgtMCKFjGkURnudRr9f59u2bzvHjofgtaPbyZrPJ7u4uQgiEECiltJscx9GeEELgOA5xHGPbNoZhsLKyotWfCW6ue33f1xvfvXunRXP8cJIkuK6L67payVJKVlZW2Nvb4/r167x58wYhhA7FXNAskQ3DYGdnh3K5TBiGWJZFHMfa9Z7n4XkeUkomkwkAnU4Hx3FYXl7m8+fPWJaFlBLXdeeDLi0tIYTAsiw6nQ537tyh0+lo100mEwzDYDgcMhwOiaKIXC4HTMve+vo6AN1uF9u2SdOUarU6H/T/sBnQVquFaZr4vk+n08HzPBYXFxkMBpimqUVzvNJkcSuVStrV+/v72v31en0+aKPR4PDwEN/36ff7HB4esrS0pIv38WKQFYSsKeRyOV1A9vf3qVQq9Ho9Ll68eAJjJmXq9TpCCHK5HM1mk4cPH1IoFIiiiMlkogWVMcrSSUpJGIY4jkO73aZWq5HL5QiCgAsXLsxnClCpVDBNEyklOzs7+L6P67r6n5RS52/GVEpJEAQ0Gg0tPNM0Z0T0W6YAtVqNfr+P67q0220uXbqky57neURRhO/7ev9kMiGKIlzXZW9vj3a7reN4muUfmdZqNYQQFAoFbNumUqkgpcSyLJRS+L6PUgqlFEdHRyildHrkcjk+ffpEuVwmSRJardbZmLZaLXZ3dykWi/qyUqmk4yeEwLbt6auN6bszcRmGwdraGo7jMBqNzs708uXL+vVZZ0nTFNu2cRznxDThui7FYpF8Po+UkjRNKRQKwLSOX7ly5WxM19bW8DxPs8w6S9ZHXddlPB4D0/5pGIZu8kEQEAQBhmFQKBSo1WpnY1qv1ykWi5imiW3b+pI4jkmShDAMtXqzoSyOY93iPM/Tjzw9qvwRFKBYLBKGIb7vY1kWSZLonpm1uSRJdDHI2p5t2+TzeSaTCbdv3wZmm7g4PeFn9uXLF7a2tojjGNd1yefzOucODg50XDOQ0WhEv99nNBoxHA5ZWFhge3tbgx6fk/4ICtMh7cGDB7x69UpPAr1ej16vx9HRETCdk8vlMufOncM0Ta5evcrdu3e1gJRSWuFnAj1ub9++5f79+ywvL+N5nv6fpikfP37k/Pnz3Lt3T6fSPPsHbeuUExdO9CsAAAAASUVORK5CYII=\" y=\"-155.674596\"/>\n   </g>\n  </g>\n  <g id=\"axes_51\">\n   <g clip-path=\"url(#paa61b9b8a6)\">\n    <image height=\"29\" id=\"imagef2bedbf4bb\" transform=\"scale(1 -1)translate(0 -29)\" width=\"29\" x=\"7.2\" xlink:href=\"data:image/png;base64,\niVBORw0KGgoAAAANSUhEUgAAAB0AAAAdCAYAAABWk2cPAAAABHNCSVQICAgIfAhkiAAAAoZJREFUSIntlb9LI10Uhp/JqJMojmMREJEQAyoKkXRWWtmLYqGVxNK/xspCLAUrMSCCvYVgJTbKyOCvINgIIRNiMnPn3ULMtwuyuB/sLh9fXrhceOGe5557DvdYksQfVupPA7vQLrQL/WX1fGbW63WOjo44PT3l5eWFj/8jm83iui6ZTIZ0Ov0eoKcHx3FwHAfP87Btm97eXiQxNDTE2NgYnucxOTn5D0DfaXd3V+l0WoAA9fX1yfM8DQ8PK5fLdfx/s6anp1UqlRSGoXoAXl9fWV1d5fLykomJCWzb7lzq+fmZbDZLEARkMhmOj4+pVCrs7e0BkM/nabfbSMK2bVKpFJKQhGVZpFIpLMvCtm1qtRr7+/tYkrSyssLT0xPFYpEoimg0Gvi+TxiGGGOoVqsUCgWCIADg4eGBfD4PQKFQYGZmBmMMxhgk0Ww2McYQxzHGGJIkIY5jMpkMlUrlvaYfRrVaxfd9RkZGcF2XMAzp7+9nZ2eHs7Mz0uk0rVYLSQwODgLw+PhIoVCgVqvRarWIoqizS2JgYIBcLkexWGR2dpbR0dG/072dRrq/v1e9XpcxRpJ0dXWlUqmkxcVFXV9fq1wuq9VqaXNzU+VyWa7rynVd3d3dSVLn3Fdk/WyeWpbFwsICW1tbnJ+fMzc3x/r6OpZlsba2BsDBwcGXkkuShCiKcBwHjDEyxiiOYzWbTSVJojiOJUk3Nzean5/X+Pi4Tk5OtLy8rMPDQ01NTSkIAgVBIEl6e3tTHMf6iPV9TGOMkiT5IVP0Bd3e3mp7e1u+78vzPC0tLX35KT/Tp9B2uy1JiqLoB7/RaGhjY0MXFxcd71dq+aGf1vR36f8zZbrQLvS/C/0GMLqLzEXwGFoAAAAASUVORK5CYII=\" y=\"-192.950024\"/>\n   </g>\n  </g>\n  <g id=\"axes_52\">\n   <g clip-path=\"url(#p3174047d71)\">\n    <image height=\"29\" id=\"image28271b5dc4\" transform=\"scale(1 -1)translate(0 -29)\" width=\"29\" x=\"41.247458\" xlink:href=\"data:image/png;base64,\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\" y=\"-192.950024\"/>\n   </g>\n  </g>\n  <g id=\"axes_53\">\n   <g clip-path=\"url(#pfd9671a4ef)\">\n    <image height=\"29\" id=\"image1be387e027\" transform=\"scale(1 -1)translate(0 -29)\" width=\"29\" x=\"75.294915\" xlink:href=\"data:image/png;base64,\niVBORw0KGgoAAAANSUhEUgAAAB0AAAAdCAYAAABWk2cPAAAABHNCSVQICAgIfAhkiAAAAzNJREFUSIm1lc1K81oUhp/sNP+mFrGKA5EOBAVnHTh34MS5eBNegHfh3Sg4cOhYOhNxUn8qIqU1bZM0e+9vINl8cjwknPYsCCTsZD/7XWu9K5bWWlMR19fX3N7e8vDwwGAwIE1TJpMJAEIIgiCg0+lwdnbG6elp1XagK+Ly8lIDutls6mazqVut1q+X7/taCKEvLi6qttSNqkPd398TxzFxHJPnOVprpJQ/3lFKEQQBruvS6/UqhVZCR6MRURSxvr5OEAQ4joNlWQZcFAVZllEUBe/v76ysrCwOPTw8JM9z2u02SZLQaDRQSpFlGfBdUwDXdWm32+zu7i4OzfOc6XTKYDCg7DnLsiiKAgCtNXme43kew+GQZrNZCRVVL4zHY6SUSCnRWmNZFkoptNZorRFC4Pu+eU7TdHGlRVGglDKqyvuypvP5HCEEUkqEEIzH48WhUkqKojDptG37x7oQAsuyAGi1WrWglektUxkEgQForc1BynXLssjznNXV1UpopdIwDAmCACnljwYq1ZXNVaZ4e3t7cejGxoZRI4Qww+HfpufOzs7i0M3NTYQQxo/z+fz7w8Y/P200GnQ6ncWh+/v7OI6DEAKlFLZtmxoCJt0AcRxzcHBQCa1spP8jKqHdbpcoikxdS8uUw6D0a5qm+L6/HGgZZUrLtJZR1lYpxdHR0fKge3t7P2ZtaY+/u1gIQbfbXR50a2vLKFRKmVH4dziOg+M4y4NGUWSmj1Lqh12klCilmM/nxk5Lgdq2bTYvG6a8ynRnWcZwOKwFrfQpwOfnJ2ma4nkeURTx+vpqVMVxDHz79eXlpRa0ltLn52czAsMwZDAY0O/36ff7hGH4vZEQPD4+1oLWUpokCUEQ4Ps+tm1jWZapaxiGuK7LbDb7tcF+i9o1jaII3/fJsowsy4xlsiyj0WiYv9HSoFJKbNvG8zySJDFAKSXT6dSs/fYT+M/QMAxxHAfP8/j4+ODr64s8z8nznNlsRhiGCCFwXbcWtNbRRqMRUkru7u54enpCa02SJAD0ej1c12Vtba22T2tBj4+Pubm5odvtcn5+ztvbG+12G4DJZMLV1RWdToeTk5Na0D/MnglVwwoT4AAAAABJRU5ErkJggg==\" y=\"-192.950024\"/>\n   </g>\n  </g>\n  <g id=\"axes_54\">\n   <g clip-path=\"url(#pc9f2bd3c1a)\">\n    <image height=\"29\" id=\"imaged99b386e1b\" transform=\"scale(1 -1)translate(0 -29)\" width=\"29\" x=\"109.342373\" xlink:href=\"data:image/png;base64,\niVBORw0KGgoAAAANSUhEUgAAAB0AAAAdCAYAAABWk2cPAAAABHNCSVQICAgIfAhkiAAAA4lJREFUSIm1lj1LK00UgJ/dfO1uEpOQD78QIiEgiE1qtbCwS2NlJ/gvrC39AYqVIlYWgn9AEEErG4tgooKJiiZKTHY32U022VuEu5DmTS7ue8p5hnnmHGbODPY/xs7Ojr23tzc09vT0ZGuaNvYaXsaIXq+Hx+OhXq9zcXGBruu8vLwAMDk5yfHxMdlsltPTU2Kx2Mj1/km6v7+PaZpEIhHW19cBKJVKhMNhdF1HVdWxpOKoCbZt4/f7Abi9vSUajWKaJvl8nnw+j6qqaJpGt9sdZ//jSXu9HgCNRoNSqUS326Xdbjv88/MTv9+PYRhD4/8VI8srioN9HRwc0Ol0AFhZWXF4rVbDNE2AsbMdmelf6c3NDbIsYxgGS0tLDm80GsCgIn+r8mspQL1e5+HhgVAohNfrJZPJOMyyLDweD4IgOBtwRXp4eEir1UIQBGq1GhsbGw6zbZtAIIDH43GukSvSo6MjFEXBMAxyuRyCIDjM5/MhCAKiKLqbqc/nQ5ZlNE1jc3NziFUqFUzTRBRFqtWqO9Lr62sajYaT0fLy8hBvt9vYtg0MGoUr0sfHRxRFQZIkAoEAHx8fQzyVSgHQ7/eRZdkdaTwep9Vq4ff78fv9XF1dDfFWq4Usy06DcEX6f8RIqSzLdDodBEEgGAxyeXk5xLvdrnNX7+7u3JFKkgQMmoAsyzw/Pw/xarWKZVkAmKY5VolHSiORCJZlYds2Pp+PbrfL+fm5w39+fobmFwqF30vn5+cJBoMIgkCv12N6epqTkxOH+3w+vF6v0zDK5fLvpaFQiFgshm3bCIJAKpUaykaSJERRRBAEJElCVdWR0rF+DolEAl3XkWWZYDAIwNnZGQCzs7PA4MCZpommae5I0+k0hUIBURSp1+ssLCywu7sLDA7S3NwcmqYhyzK1Ws0d6draGsVi0cnWtm3u7++BQfkVRSEajQI4J/nX0nA4TCwWo9Vq8fb2hmmazlVKJpPE43Fg8JC/v7+7I319feX7+5tsNksikaBSqRAIBIBB6avVKslkkmg0OtbvYSxpPB53emsoFGJxcRFd1x02MzPjNIZkMumONJfLMTExgWVZWJaFJEnOKVUUBVVV8Xq9GIZBOp12R5rJZLBtm3K5TLPZxDAMEokEMPiYfX19EQgEUFWV7e1td6QAW1tbFItFotEo/X6fqakpYPCOttttPB4PzWaT1dXVkWv9AZnJ+jEmMqD/AAAAAElFTkSuQmCC\" y=\"-192.950024\"/>\n   </g>\n  </g>\n  <g id=\"axes_55\">\n   <g clip-path=\"url(#p4204aa9487)\">\n    <image height=\"29\" id=\"imagef0ace351e4\" transform=\"scale(1 -1)translate(0 -29)\" width=\"29\" x=\"143.389831\" xlink:href=\"data:image/png;base64,\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\" y=\"-192.950024\"/>\n   </g>\n  </g>\n  <g id=\"axes_56\">\n   <g clip-path=\"url(#pacfcd5faba)\">\n    <image height=\"29\" id=\"imagebef26dcd9f\" transform=\"scale(1 -1)translate(0 -29)\" width=\"29\" x=\"177.437288\" xlink:href=\"data:image/png;base64,\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\" y=\"-192.950024\"/>\n   </g>\n  </g>\n  <g id=\"axes_57\">\n   <g clip-path=\"url(#p64f1c74a2c)\">\n    <image height=\"29\" id=\"imagef96e28214b\" transform=\"scale(1 -1)translate(0 -29)\" width=\"29\" x=\"211.484746\" xlink:href=\"data:image/png;base64,\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\" y=\"-192.950024\"/>\n   </g>\n  </g>\n  <g id=\"axes_58\">\n   <g clip-path=\"url(#p7ced8acf40)\">\n    <image height=\"29\" id=\"image060e094b51\" transform=\"scale(1 -1)translate(0 -29)\" width=\"29\" x=\"245.532203\" xlink:href=\"data:image/png;base64,\niVBORw0KGgoAAAANSUhEUgAAAB0AAAAdCAYAAABWk2cPAAAABHNCSVQICAgIfAhkiAAAA4lJREFUSInllrtKc00Uhp+9Zx8SYxIwBJsoCpE0onZ6D3oJWtp6DVrZWXgJ3kLAMliohY1iLNIrJCgGcyJxH2a+YjPz7UStfvj+wgULMmvPrMM771oTSyml+Mdi/+uAvyuok14cHh7y9PREuVxGKUU+n6dQKJDJZHBdlyiK+Pz8JAxD4jgGwHVdhBCJMydxp/eEYUgQBLy9vbG+vs75+TkAVhiGynEcrq+v2dvbY25ujjiOGY/HZLNZfN/HsiyEECilsCwLz/OQUppkhRAmCcuykFISRRFhGOK6LlJKXl9feXh4oFar4ejsLi8vUUoZdV2XMAyJosg4lVJi2zae5xFF0RfYdMWWZRlbHMcm8N3dHbVaDUsppY6Pj9ne3mZ/fx/dQZZlmQTSawDbtqcqtW3bqLbbto1SythHoxFSSgaDAXav1+Pk5IRqtWqyl1Ia1YHS7azt2qb3pkV/j+MYpRRSSjY3N5OEbm5uKBQKrK2t0e/3pyBOO0gnMhsgHWT2jL5jgMfHx4Rw+XyenZ2dKQffOf1J9P2l7z19FZCw2rZtxuNxsg6CgHa7PeVEO/ouuHaYJkt67ywP9J06jkMYhknQ1dVVut3uFCxCCJMxJKTQ32YrTAefHeO6AMuycF3X2O0oisjn81NQ6Ep0ltqxruK7QOkAWoUQBhmd+PPz8/80BjudDq1Wi+FwCEAURV+gS5MF/qIBmJbQlaX3x3FsKnUcB9d1aTQaOL1ej0qlwvz8PACe5xEEwdRM1SSZJY+2zUKsf+tpB8k15HI5Wq0WotPpHL+/vzMajWg2m38hcByjQogf1XVdPM8zqteu606dBygWi9zf3+MsLS1xcHDAxcUFQRCQzWbNfBVCkMlkDCE0GXzf//KyaIiDIMDzPOI4JooiM5Xa7TaVSoXb29tk9moIt7a28H3/ywujM89msziOY+xpVDRD9SQKgoDRaIQQgslkQqfToVgscnV1lbyn3W6Xo6MjqtUqjuMwmUxMdYDpsTSh0m1kWRa5XM68QkIICoUCtm3T7/eZTCYsLi5SKpWSJAEajQbLy8vU63VzJ7NESZMk3buzPauUYjAYMBwOKZfLLCwsIITg4+OD3d3d5IyGt16vUy6X8X1/inV6YOsKNIRa9HMmpaRUKtFsNjk7O2NjY4OXlxcATk9PieOYlZWVxKeUUn3XCv9FdJI/ian0X8rv+Qv6e4L+AUQUG2cg0GZNAAAAAElFTkSuQmCC\" y=\"-192.950024\"/>\n   </g>\n  </g>\n  <g id=\"axes_59\">\n   <g clip-path=\"url(#p7f73a5b32e)\">\n    <image height=\"29\" id=\"image46735da176\" transform=\"scale(1 -1)translate(0 -29)\" width=\"29\" x=\"279.579661\" xlink:href=\"data:image/png;base64,\niVBORw0KGgoAAAANSUhEUgAAAB0AAAAdCAYAAABWk2cPAAAABHNCSVQICAgIfAhkiAAABMpJREFUSIm9lztv1M4axn/j8WXszQqzy5INirhIIEA0XHqghc9AhfIR+AgIChoqPgAFqakQDdBQIrEI0SQhikCBJKCNyWqzHnvsf/E/nuPdDZuc5rySNfLM2M88z7yXGVGWZcmEPXr0CN/3efDgAQB5nuM4zuS0A60oClzXBeDJkyckScLDhw/HJ5UTliRJeenSpfLWrVuTQ/+z3bx5s7xy5Ur558+fsX53cqW9Xg+lFMPhEIDV1VU+f/7M8ePHEUJQCVO1QgjbCiH49esX165d4+zZs+zt7RFFER8+fOD27dsWYwr01atXNJtNPn36xPb2NsvLy7x48YJOp0NRFHaeMWYM1HVdXNfl7du3PH78mPv377O+vs7Vq1d58+bNbNDd3V1c18UYw7t37zh37hzz8/O0Wi3LbpJpBSyl5Pr16ywuLvL+/XuKoiAIAnZ2dsYwpkCzLEMphVKKjx8/YowhTVOEEBRFYSWuy1qZEIIwDPny5QvGGHzfx/O8MYUAplzS8zwr3bdv3wAIwxBjDEVR2LbOuHrPsowgCJBS8vPnTzvf9/3ZoEEQoLVGCEGSJGRZRlEUh4ZNpUC1tzs7O7iuS5qmeJ43G9T3ffI8ByBJEsvGcZyxPa3bZH+j0aDf79tvDmXabDYtU601Sin7LqWkKAqklH8FzPOcVqvFaDQCQGvN3NzcbNAoitBaI6Vkb2+PZrPJYDCwQHXHGfvRf6T3fd9ujZSSPM+Jomg2qFIKY4x19TRNKcvS7m09QdStcialFD9+/KDf7+P7PqPR6HDQiqnv+yRJwvb2tu2rWE6C1hfSaDTY2NhgNBoRBAFpmh4OGscx+/v7BEGAEIK1tTVarRZpmto5VZxWT93JwjDk69evxHGMUoo0TWm1WrNB/x82BbqwsGDjLYoidnd3CcOQPM8xxlhmk1Z5tdaa379/o5SyCpw8eXI2aKvVIs9zXNel3W7j+76tkVX8/s2DYTyNSikxxhwub7fbxXEcHMchCAIGgwHGGBzHsW09Ddady3Ec8jxnOBwipURKieM4nDp1ajZos9m08tXjrcqpRVEcKK8QwlanJElwXdcu6FDvhX/zb13OKvdWjA6StyxL0jS1C6oWF4bh1NwDQZVSCCHIsow4jtFao7X+94MJlvW6aozB8zziOGYwGOB5Hp1O52ig7XYbrTVRFNHpdMiyjEajge/7OI5jK0l1AJNSEkURUkqyLOPy5cscO3aMRqNBu90+Gujp06fJ85w4jpFS4nkeUkrKsrRP3VGqcFlcXKQoCjzPo9vtkmXZ0ZlWR5Nq5VVhL8sSYwxZlmGMsX3w3zh1HAetNWEYorXmxIkTR5fXdV0b4NVJoirkjuMQRRFRFBEEgWW/sbFh9zaKIpRSLCwsHA307t27Y2ccz/MsmBCCfr9Pr9ej1+uxtbWFUsoW67rsZVly586do4HeuHGDM2fOsLa2xv7+vmXoui5lWTIajRgOhwyHQ9bX1/n+/TvGmLHx1dVV5ufnOX/+/NT/xeS1oh6Hz58/59mzZ2xubqK15uLFi6ysrOC6LhcuXABga2sLrTXtdpu5uTlWVlbodrssLS2xtLR0EKfpa8XfbHNzs3z69Gm5vLw8Nfb69evy3r175cuXL6euEAfZPxjZP/eoJrllAAAAAElFTkSuQmCC\" y=\"-192.950024\"/>\n   </g>\n  </g>\n  <g id=\"axes_60\">\n   <g clip-path=\"url(#p66c459bea6)\">\n    <image height=\"29\" id=\"imageca197bb37d\" transform=\"scale(1 -1)translate(0 -29)\" width=\"29\" x=\"313.627119\" xlink:href=\"data:image/png;base64,\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\" y=\"-192.950024\"/>\n   </g>\n  </g>\n </g>\n <defs>\n  <clipPath id=\"pe7989d1807\">\n   <rect height=\"28.372881\" width=\"28.372881\" x=\"7.2\" y=\"7.2\"/>\n  </clipPath>\n  <clipPath id=\"p8149be246e\">\n   <rect height=\"28.372881\" width=\"28.372881\" x=\"41.247458\" y=\"7.2\"/>\n  </clipPath>\n  <clipPath id=\"p8e6a26b155\">\n   <rect height=\"28.372881\" width=\"28.372881\" x=\"75.294915\" y=\"7.2\"/>\n  </clipPath>\n  <clipPath id=\"p85e3eaa6e4\">\n   <rect height=\"28.372881\" width=\"28.372881\" x=\"109.342373\" y=\"7.2\"/>\n  </clipPath>\n  <clipPath id=\"p73140ea0d9\">\n   <rect height=\"28.372881\" width=\"28.372881\" x=\"143.389831\" y=\"7.2\"/>\n  </clipPath>\n  <clipPath id=\"pafe4f69f67\">\n   <rect height=\"28.372881\" width=\"28.372881\" x=\"177.437288\" y=\"7.2\"/>\n  </clipPath>\n  <clipPath id=\"p2fb7afe522\">\n   <rect height=\"28.372881\" width=\"28.372881\" x=\"211.484746\" y=\"7.2\"/>\n  </clipPath>\n  <clipPath id=\"p6f8b7495ac\">\n   <rect height=\"28.372881\" width=\"28.372881\" x=\"245.532203\" y=\"7.2\"/>\n  </clipPath>\n  <clipPath id=\"p3b3d018c00\">\n   <rect height=\"28.372881\" width=\"28.372881\" x=\"279.579661\" y=\"7.2\"/>\n  </clipPath>\n  <clipPath id=\"pbcc05f4ac6\">\n   <rect height=\"28.372881\" width=\"28.372881\" x=\"313.627119\" y=\"7.2\"/>\n  </clipPath>\n  <clipPath id=\"pac433e6aa9\">\n   <rect height=\"28.372881\" width=\"28.372881\" x=\"7.2\" y=\"44.475429\"/>\n  </clipPath>\n  <clipPath id=\"p9223fa99cc\">\n   <rect height=\"28.372881\" width=\"28.372881\" x=\"41.247458\" y=\"44.475429\"/>\n  </clipPath>\n  <clipPath id=\"p38dfe8096c\">\n   <rect height=\"28.372881\" width=\"28.372881\" x=\"75.294915\" y=\"44.475429\"/>\n  </clipPath>\n  <clipPath id=\"pd376149971\">\n   <rect height=\"28.372881\" width=\"28.372881\" x=\"109.342373\" y=\"44.475429\"/>\n  </clipPath>\n  <clipPath id=\"p8aee5a787b\">\n   <rect height=\"28.372881\" width=\"28.372881\" x=\"143.389831\" y=\"44.475429\"/>\n  </clipPath>\n  <clipPath id=\"p761a6c977a\">\n   <rect height=\"28.372881\" width=\"28.372881\" x=\"177.437288\" y=\"44.475429\"/>\n  </clipPath>\n  <clipPath id=\"p7335298b6c\">\n   <rect height=\"28.372881\" width=\"28.372881\" x=\"211.484746\" y=\"44.475429\"/>\n  </clipPath>\n  <clipPath id=\"p98c0ca510e\">\n   <rect height=\"28.372881\" width=\"28.372881\" x=\"245.532203\" y=\"44.475429\"/>\n  </clipPath>\n  <clipPath id=\"p1230912c01\">\n   <rect height=\"28.372881\" width=\"28.372881\" x=\"279.579661\" y=\"44.475429\"/>\n  </clipPath>\n  <clipPath id=\"pafdb705dfe\">\n   <rect height=\"28.372881\" width=\"28.372881\" x=\"313.627119\" y=\"44.475429\"/>\n  </clipPath>\n  <clipPath id=\"p1a857e197c\">\n   <rect height=\"28.372881\" width=\"28.372881\" x=\"7.2\" y=\"81.750857\"/>\n  </clipPath>\n  <clipPath id=\"pd34f02345b\">\n   <rect height=\"28.372881\" width=\"28.372881\" x=\"41.247458\" y=\"81.750857\"/>\n  </clipPath>\n  <clipPath id=\"pd57664c39c\">\n   <rect height=\"28.372881\" width=\"28.372881\" x=\"75.294915\" y=\"81.750857\"/>\n  </clipPath>\n  <clipPath id=\"p3473305fac\">\n   <rect height=\"28.372881\" width=\"28.372881\" x=\"109.342373\" y=\"81.750857\"/>\n  </clipPath>\n  <clipPath id=\"p9cbc8ef8cc\">\n   <rect height=\"28.372881\" width=\"28.372881\" x=\"143.389831\" y=\"81.750857\"/>\n  </clipPath>\n  <clipPath id=\"p5f119fcb7d\">\n   <rect height=\"28.372881\" width=\"28.372881\" x=\"177.437288\" y=\"81.750857\"/>\n  </clipPath>\n  <clipPath id=\"p65a026d595\">\n   <rect height=\"28.372881\" width=\"28.372881\" x=\"211.484746\" y=\"81.750857\"/>\n  </clipPath>\n  <clipPath id=\"p2a68b26ce0\">\n   <rect height=\"28.372881\" width=\"28.372881\" x=\"245.532203\" y=\"81.750857\"/>\n  </clipPath>\n  <clipPath id=\"pe31d374c40\">\n   <rect height=\"28.372881\" width=\"28.372881\" x=\"279.579661\" y=\"81.750857\"/>\n  </clipPath>\n  <clipPath id=\"p58ae73f183\">\n   <rect height=\"28.372881\" width=\"28.372881\" x=\"313.627119\" y=\"81.750857\"/>\n  </clipPath>\n  <clipPath id=\"pc78a8e7bef\">\n   <rect height=\"28.372881\" width=\"28.372881\" x=\"7.2\" y=\"119.026286\"/>\n  </clipPath>\n  <clipPath id=\"p2abcab9b59\">\n   <rect height=\"28.372881\" width=\"28.372881\" x=\"41.247458\" y=\"119.026286\"/>\n  </clipPath>\n  <clipPath id=\"p692714314e\">\n   <rect height=\"28.372881\" width=\"28.372881\" x=\"75.294915\" y=\"119.026286\"/>\n  </clipPath>\n  <clipPath id=\"pc99a29985f\">\n   <rect height=\"28.372881\" width=\"28.372881\" x=\"109.342373\" y=\"119.026286\"/>\n  </clipPath>\n  <clipPath id=\"p16d6ec5a80\">\n   <rect height=\"28.372881\" width=\"28.372881\" x=\"143.389831\" y=\"119.026286\"/>\n  </clipPath>\n  <clipPath id=\"pdebdf4dd94\">\n   <rect height=\"28.372881\" width=\"28.372881\" x=\"177.437288\" y=\"119.026286\"/>\n  </clipPath>\n  <clipPath id=\"pd4afd12632\">\n   <rect height=\"28.372881\" width=\"28.372881\" x=\"211.484746\" y=\"119.026286\"/>\n  </clipPath>\n  <clipPath id=\"p6cd73a56fa\">\n   <rect height=\"28.372881\" width=\"28.372881\" x=\"245.532203\" y=\"119.026286\"/>\n  </clipPath>\n  <clipPath id=\"p8684e8ac97\">\n   <rect height=\"28.372881\" width=\"28.372881\" x=\"279.579661\" y=\"119.026286\"/>\n  </clipPath>\n  <clipPath id=\"pe5f0c6cdf9\">\n   <rect height=\"28.372881\" width=\"28.372881\" x=\"313.627119\" y=\"119.026286\"/>\n  </clipPath>\n  <clipPath id=\"p14869fdb22\">\n   <rect height=\"28.372881\" width=\"28.372881\" x=\"7.2\" y=\"156.301714\"/>\n  </clipPath>\n  <clipPath id=\"pc2304ffb98\">\n   <rect height=\"28.372881\" width=\"28.372881\" x=\"41.247458\" y=\"156.301714\"/>\n  </clipPath>\n  <clipPath id=\"pe8a0d7e416\">\n   <rect height=\"28.372881\" width=\"28.372881\" x=\"75.294915\" y=\"156.301714\"/>\n  </clipPath>\n  <clipPath id=\"p47f13a4330\">\n   <rect height=\"28.372881\" width=\"28.372881\" x=\"109.342373\" y=\"156.301714\"/>\n  </clipPath>\n  <clipPath id=\"p2f00708529\">\n   <rect height=\"28.372881\" width=\"28.372881\" x=\"143.389831\" y=\"156.301714\"/>\n  </clipPath>\n  <clipPath id=\"pb799722d72\">\n   <rect height=\"28.372881\" width=\"28.372881\" x=\"177.437288\" y=\"156.301714\"/>\n  </clipPath>\n  <clipPath id=\"p1126645f34\">\n   <rect height=\"28.372881\" width=\"28.372881\" x=\"211.484746\" y=\"156.301714\"/>\n  </clipPath>\n  <clipPath id=\"pbb45ac78ab\">\n   <rect height=\"28.372881\" width=\"28.372881\" x=\"245.532203\" y=\"156.301714\"/>\n  </clipPath>\n  <clipPath id=\"pf79879d685\">\n   <rect height=\"28.372881\" width=\"28.372881\" x=\"279.579661\" y=\"156.301714\"/>\n  </clipPath>\n  <clipPath id=\"p2163a76687\">\n   <rect height=\"28.372881\" width=\"28.372881\" x=\"313.627119\" y=\"156.301714\"/>\n  </clipPath>\n  <clipPath id=\"paa61b9b8a6\">\n   <rect height=\"28.372881\" width=\"28.372881\" x=\"7.2\" y=\"193.577143\"/>\n  </clipPath>\n  <clipPath id=\"p3174047d71\">\n   <rect height=\"28.372881\" width=\"28.372881\" x=\"41.247458\" y=\"193.577143\"/>\n  </clipPath>\n  <clipPath id=\"pfd9671a4ef\">\n   <rect height=\"28.372881\" width=\"28.372881\" x=\"75.294915\" y=\"193.577143\"/>\n  </clipPath>\n  <clipPath id=\"pc9f2bd3c1a\">\n   <rect height=\"28.372881\" width=\"28.372881\" x=\"109.342373\" y=\"193.577143\"/>\n  </clipPath>\n  <clipPath id=\"p4204aa9487\">\n   <rect height=\"28.372881\" width=\"28.372881\" x=\"143.389831\" y=\"193.577143\"/>\n  </clipPath>\n  <clipPath id=\"pacfcd5faba\">\n   <rect height=\"28.372881\" width=\"28.372881\" x=\"177.437288\" y=\"193.577143\"/>\n  </clipPath>\n  <clipPath id=\"p64f1c74a2c\">\n   <rect height=\"28.372881\" width=\"28.372881\" x=\"211.484746\" y=\"193.577143\"/>\n  </clipPath>\n  <clipPath id=\"p7ced8acf40\">\n   <rect height=\"28.372881\" width=\"28.372881\" x=\"245.532203\" y=\"193.577143\"/>\n  </clipPath>\n  <clipPath id=\"p7f73a5b32e\">\n   <rect height=\"28.372881\" width=\"28.372881\" x=\"279.579661\" y=\"193.577143\"/>\n  </clipPath>\n  <clipPath id=\"p66c459bea6\">\n   <rect height=\"28.372881\" width=\"28.372881\" x=\"313.627119\" y=\"193.577143\"/>\n  </clipPath>\n </defs>\n</svg>\n",
            "image/png": "[encoded data removed]"
          },
          "metadata": {
            "needs_background": "light"
          }
        }
      ]
    },
    {
      "cell_type": "markdown",
      "metadata": {
        "id": "zVdpSI64e6Zg",
        "colab_type": "text"
      },
      "source": [
        "# Neural Network "
      ]
    },
    {
      "cell_type": "markdown",
      "metadata": {
        "id": "0SRIuSRae6Zh",
        "colab_type": "text"
      },
      "source": [
        "### Model definition\n",
        "The model is defined, specifying the structure of the neural network."
      ]
    },
    {
      "cell_type": "markdown",
      "metadata": {
        "id": "pXTUBzLme6Zi",
        "colab_type": "text"
      },
      "source": [
        "### Model A: FCNN\n",
        "Fully connected neural network, with hidden layer structure through vector *hidden_sizes*."
      ]
    },
    {
      "cell_type": "code",
      "metadata": {
        "id": "7oQX4smye6Zj",
        "colab_type": "code",
        "outputId": "a01f3ec4-67c3-48a2-d70c-a24e23b75c1c",
        "colab": {
          "base_uri": "https://localhost:8080/",
          "height": 153
        }
      },
      "source": [
        "# Input and output sizes and network structure are defined.\n",
        "input_size = 784\n",
        "output_size = 10\n",
        "sizes = [input_size,128,64,output_size]\n",
        "\n",
        "# The model is built\n",
        "modelA=fully_connected_NN(sizes)\n",
        "print(modelA)\n",
        "\n",
        "# Loss of the model is defined.\n",
        "criterion = nn.NLLLoss()"
      ],
      "execution_count": 8,
      "outputs": [
        {
          "output_type": "stream",
          "name": "stdout",
          "text": "Sequential(\n  (0): Linear(in_features=784, out_features=128, bias=True)\n  (1): ReLU()\n  (2): Linear(in_features=128, out_features=64, bias=True)\n  (3): ReLU()\n  (4): Linear(in_features=64, out_features=10, bias=True)\n  (5): LogSoftmax()\n)\n"
        }
      ]
    },
    {
      "cell_type": "markdown",
      "metadata": {
        "id": "a8wrBfdqe6Zo",
        "colab_type": "text"
      },
      "source": [
        "### Model B: CNN\n",
        "Convolutional neural network composed of two convolutional layers and two fully connected layers."
      ]
    },
    {
      "cell_type": "code",
      "metadata": {
        "id": "pPMmKMO6e6Zp",
        "colab_type": "code",
        "outputId": "0a1e09ab-223e-4f03-e834-6528c4397cb3",
        "colab": {
          "base_uri": "https://localhost:8080/",
          "height": 334
        }
      },
      "source": [
        "# The size of the images is computed.\n",
        "images,_=dataiter.next()\n",
        "image_size=images[0].shape[1]\n",
        "# Using nn.CrossEntropyLoss allows to avoid specifying LogSoftmax as final layer.\n",
        "criterion = nn.CrossEntropyLoss()\n",
        "# Depending on the size of the image, a CNN model is built.\n",
        "modelB=ConvNet(image_size)\n",
        "print(modelB)"
      ],
      "execution_count": 14,
      "outputs": [
        {
          "output_type": "stream",
          "name": "stdout",
          "text": "ConvNet(\n  (layer1): Sequential(\n    (0): Conv2d(1, 32, kernel_size=(5, 5), stride=(1, 1), padding=(2, 2))\n    (1): ReLU()\n    (2): MaxPool2d(kernel_size=2, stride=2, padding=0, dilation=1, ceil_mode=False)\n  )\n  (layer2): Sequential(\n    (0): Conv2d(32, 64, kernel_size=(5, 5), stride=(1, 1), padding=(2, 2))\n    (1): ReLU()\n    (2): MaxPool2d(kernel_size=2, stride=2, padding=0, dilation=1, ceil_mode=False)\n  )\n  (drop_out): Dropout(p=0.5, inplace=False)\n  (fc1): Linear(in_features=3136, out_features=1000, bias=True)\n  (fc2): Linear(in_features=1000, out_features=10, bias=True)\n)\n"
        }
      ]
    },
    {
      "cell_type": "markdown",
      "metadata": {
        "id": "Vd4nQaHFe6Zr",
        "colab_type": "text"
      },
      "source": [
        "### Training\n"
      ]
    },
    {
      "cell_type": "markdown",
      "metadata": {
        "id": "NvEI35Ote6ab",
        "colab_type": "text"
      },
      "source": [
        "### Test\n",
        "The trained model is used to predict the labels of the test set, and the model performance is evaluated."
      ]
    },
    {
      "cell_type": "code",
      "metadata": {
        "id": "OmZ4NsNEe6ac",
        "colab_type": "code",
        "colab": {}
      },
      "source": [
        "# Accuracy obtained for FCNN\n",
        "accuracy = accuracy_test(valloader, model)"
      ],
      "execution_count": 0,
      "outputs": []
    },
    {
      "cell_type": "code",
      "metadata": {
        "id": "BwFhMxlHe6ae",
        "colab_type": "code",
        "colab": {}
      },
      "source": [
        "# Accuracy obtained for CNN\n",
        "accuracy=accuracy_test_CNN(valloader,modelB)"
      ],
      "execution_count": 0,
      "outputs": []
    },
    {
      "cell_type": "markdown",
      "metadata": {
        "id": "QlpNdUNme6bC",
        "colab_type": "text"
      },
      "source": [
        "## SdLBFGS"
      ]
    },
    {
      "cell_type": "markdown",
      "metadata": {
        "id": "yYgGbp2he6bC",
        "colab_type": "text"
      },
      "source": [
        "### Fully connected network"
      ]
    },
    {
      "cell_type": "code",
      "metadata": {
        "scrolled": true,
        "id": "PbimEzp6e6bD",
        "colab_type": "code",
        "outputId": "e34eb53d-0e89-4e84-da04-2cda1febfdee",
        "colab": {
          "base_uri": "https://localhost:8080/",
          "height": 1000
        }
      },
      "source": [
        "input_size = 784\n",
        "output_size = 10\n",
        "sizes = [input_size,128,64,output_size]\n",
        "\n",
        "# The model is built\n",
        "model=fully_connected_NN(sizes)\n",
        "# Loss of the model is defined.\n",
        "criterion = nn.NLLLoss()\n",
        "\n",
        "method = \"SdLBFGS\"\n",
        "optimizer = SdLBFGS(model.parameters())\n",
        "\n",
        "epochs = 30\n",
        "train_losses_fcnn, test_losses_fcnn, train_accuracy_fcnn, test_accuracy_fcnn, training_time_fcnn = optimize(optimizer, epochs, trainloader, valloader, model, criterion , method )\n"
      ],
      "execution_count": 15,
      "outputs": [
        {
          "output_type": "stream",
          "name": "stdout",
          "text": "Epoch 0\nTraining loss: 0.4729530437192175\nNumber Of Images Tested = 10000\nModel Accuracy = 0.84\nNumber Of Images Tested = 60000\nModel Accuracy = 0.8594833333333334\nTest loss: 0.4541479273206869 \n\nEpoch 1\nTraining loss: 0.3783400763374275\nNumber Of Images Tested = 10000\nModel Accuracy = 0.8526\nNumber Of Images Tested = 60000\nModel Accuracy = 0.8711833333333333\nTest loss: 0.42099339738013636 \n\nEpoch 2\nTraining loss: 0.357363991677634\nNumber Of Images Tested = 10000\nModel Accuracy = 0.8509\nNumber Of Images Tested = 60000\nModel Accuracy = 0.8728833333333333\nTest loss: 0.41191368023301383 \n\nEpoch 3\nTraining loss: 0.34692491993689334\nNumber Of Images Tested = 10000\nModel Accuracy = 0.8567\nNumber Of Images Tested = 60000\nModel Accuracy = 0.8787166666666667\nTest loss: 0.39440831542015076 \n\nEpoch 4\nTraining loss: 0.33766266924422433\nNumber Of Images Tested = 10000\nModel Accuracy = 0.8601\nNumber Of Images Tested = 60000\nModel Accuracy = 0.8826166666666667\nTest loss: 0.38440798868419257 \n\nEpoch 5\nTraining loss: 0.32868134177156855\nNumber Of Images Tested = 10000\nModel Accuracy = 0.8609\nNumber Of Images Tested = 60000\nModel Accuracy = 0.8814833333333333\nTest loss: 0.38903175370328746 \n\nEpoch 6\nTraining loss: 0.3240336648055485\nNumber Of Images Tested = 10000\nModel Accuracy = 0.8652\nNumber Of Images Tested = 60000\nModel Accuracy = 0.8852833333333333\nTest loss: 0.38034116196784246 \n\nEpoch 7\nTraining loss: 0.31810766055798734\nNumber Of Images Tested = 10000\nModel Accuracy = 0.8648\nNumber Of Images Tested = 60000\nModel Accuracy = 0.8875333333333333\nTest loss: 0.3799732276208841 \n\nEpoch 8\nTraining loss: 0.31316213249397684\nNumber Of Images Tested = 10000\nModel Accuracy = 0.867\nNumber Of Images Tested = 60000\nModel Accuracy = 0.8890166666666667\nTest loss: 0.3793682313174199 \n\nEpoch 9\nTraining loss: 0.30793520501618193\nNumber Of Images Tested = 10000\nModel Accuracy = 0.869\nNumber Of Images Tested = 60000\nModel Accuracy = 0.8894333333333333\nTest loss: 0.37115321360575926 \n\nEpoch 10\nTraining loss: 0.3033660911341339\nNumber Of Images Tested = 10000\nModel Accuracy = 0.8691\nNumber Of Images Tested = 60000\nModel Accuracy = 0.8924666666666666\nTest loss: 0.36986406622039286 \n\nEpoch 11\nTraining loss: 0.30102649084858296\nNumber Of Images Tested = 10000\nModel Accuracy = 0.8714\nNumber Of Images Tested = 60000\nModel Accuracy = 0.89345\nTest loss: 0.36255133664532074 \n\nEpoch 12\nTraining loss: 0.29591142101836865\nNumber Of Images Tested = 10000\nModel Accuracy = 0.8708\nNumber Of Images Tested = 60000\nModel Accuracy = 0.89375\nTest loss: 0.36723090164885397 \n\nEpoch 13\nTraining loss: 0.29408234859040294\nNumber Of Images Tested = 10000\nModel Accuracy = 0.8737\nNumber Of Images Tested = 60000\nModel Accuracy = 0.8960666666666667\nTest loss: 0.3557387893177142 \n\nEpoch 14\nTraining loss: 0.29270257257512894\nNumber Of Images Tested = 10000\nModel Accuracy = 0.8701\nNumber Of Images Tested = 60000\nModel Accuracy = 0.8949333333333334\nTest loss: 0.3667010723310671 \n\nEpoch 15\nTraining loss: 0.2926739446723512\nNumber Of Images Tested = 10000\nModel Accuracy = 0.8691\nNumber Of Images Tested = 60000\nModel Accuracy = 0.8965333333333333\nTest loss: 0.36133361012218107 \n\nEpoch 16\nTraining loss: 0.28668818580729366\nNumber Of Images Tested = 10000\nModel Accuracy = 0.8743\nNumber Of Images Tested = 60000\nModel Accuracy = 0.89765\nTest loss: 0.3557525730816422 \n\nEpoch 17\nTraining loss: 0.2849961801934471\nNumber Of Images Tested = 10000\nModel Accuracy = 0.8742\nNumber Of Images Tested = 60000\nModel Accuracy = 0.8984333333333333\nTest loss: 0.36175618980340896 \n\nEpoch 18\nTraining loss: 0.2836846365992512\nNumber Of Images Tested = 10000\nModel Accuracy = 0.8744\nNumber Of Images Tested = 60000\nModel Accuracy = 0.8985333333333333\nTest loss: 0.35904197366374313 \n\nEpoch 19\nTraining loss: 0.2829426400649395\nNumber Of Images Tested = 10000\nModel Accuracy = 0.8738\nNumber Of Images Tested = 60000\nModel Accuracy = 0.9007\nTest loss: 0.3596647130266117 \n\nEpoch 20\nTraining loss: 0.2804906989560961\nNumber Of Images Tested = 10000\nModel Accuracy = 0.8739\nNumber Of Images Tested = 60000\nModel Accuracy = 0.90145\nTest loss: 0.3589300983081198 \n\nEpoch 21\nTraining loss: 0.27753002183444336\nNumber Of Images Tested = 10000\nModel Accuracy = 0.8749\nNumber Of Images Tested = 60000\nModel Accuracy = 0.9020666666666667\nTest loss: 0.35727752773625077 \n\nEpoch 22\nTraining loss: 0.2746927765910941\nNumber Of Images Tested = 10000\nModel Accuracy = 0.8772\nNumber Of Images Tested = 60000\nModel Accuracy = 0.9035833333333333\nTest loss: 0.3550805140073132 \n\nEpoch 23\nTraining loss: 0.2728138393017529\nNumber Of Images Tested = 10000\nModel Accuracy = 0.8759\nNumber Of Images Tested = 60000\nModel Accuracy = 0.9041833333333333\nTest loss: 0.35634252248675957 \n\nEpoch 24\nTraining loss: 0.2715064638824478\nNumber Of Images Tested = 10000\nModel Accuracy = 0.875\nNumber Of Images Tested = 60000\nModel Accuracy = 0.90375\nTest loss: 0.355009222201481 \n\nEpoch 25\nTraining loss: 0.268040001154073\nNumber Of Images Tested = 10000\nModel Accuracy = 0.8764\nNumber Of Images Tested = 60000\nModel Accuracy = 0.9051\nTest loss: 0.355806052637328 \n\nEpoch 26\nTraining loss: 0.26830309241819483\nNumber Of Images Tested = 10000\nModel Accuracy = 0.8757\nNumber Of Images Tested = 60000\nModel Accuracy = 0.9058666666666667\nTest loss: 0.3531596418588784 \n\nEpoch 27\nTraining loss: 0.265256264332388\nNumber Of Images Tested = 10000\nModel Accuracy = 0.8775\nNumber Of Images Tested = 60000\nModel Accuracy = 0.9058166666666667\nTest loss: 0.3490616040434807 \n\nEpoch 28\nTraining loss: 0.26267646826597163\nNumber Of Images Tested = 10000\nModel Accuracy = 0.8759\nNumber Of Images Tested = 60000\nModel Accuracy = 0.90655\nTest loss: 0.351343375482377 \n\nEpoch 29\nTraining loss: 0.2620078804594939\nNumber Of Images Tested = 10000\nModel Accuracy = 0.8756\nNumber Of Images Tested = 60000\nModel Accuracy = 0.9064833333333333\nTest loss: 0.3548339449675979 \n\n\nTraining Time (in minutes) = 77.06288713614146\n\n\n"
        }
      ]
    },
    {
      "cell_type": "code",
      "metadata": {
        "id": "BlOzlDdRFFrW",
        "colab_type": "code",
        "colab": {
          "base_uri": "https://localhost:8080/",
          "height": 122
        },
        "outputId": "b77c682d-6ee5-4d47-d66c-f829b1733ed3"
      },
      "source": [
        "from google.colab import drive\n",
        "drive.mount('/content/drive')"
      ],
      "execution_count": 12,
      "outputs": [
        {
          "output_type": "stream",
          "text": [
            "Go to this URL in a browser: https://accounts.google.com/o/oauth2/auth?client_id=947318989803-6bn6qk8qdgf4n4g3pfee6491hc0brc4i.apps.googleusercontent.com&redirect_uri=urn%3aietf%3awg%3aoauth%3a2.0%3aoob&response_type=code&scope=email%20https%3a%2f%2fwww.googleapis.com%2fauth%2fdocs.test%20https%3a%2f%2fwww.googleapis.com%2fauth%2fdrive%20https%3a%2f%2fwww.googleapis.com%2fauth%2fdrive.photos.readonly%20https%3a%2f%2fwww.googleapis.com%2fauth%2fpeopleapi.readonly\n",
            "\n",
            "Enter your authorization code:\n",
            "··········\n",
            "Mounted at /content/drive\n"
          ],
          "name": "stdout"
        }
      ]
    },
    {
      "cell_type": "code",
      "metadata": {
        "id": "y9dg0PATAxDJ",
        "colab_type": "code",
        "colab": {}
      },
      "source": [
        ""
      ],
      "execution_count": 0,
      "outputs": []
    },
    {
      "cell_type": "code",
      "metadata": {
        "id": "_SOGw0uBA1JF",
        "colab_type": "code",
        "colab": {
          "base_uri": "https://localhost:8080/",
          "height": 405
        },
        "outputId": "0d5a2422-3f6a-46bf-ea43-b6210868e33b"
      },
      "source": [
        "np.savetxt('SdLBFGS_fcNN_trainloss.txt', train_losses_fcnn)\n",
        "np.savetxt('SdLBFGS_fcNN_testloss.txt', test_losses_fcnn)\n",
        "np.savetxt('SdLBFGS_fcNN_trainacc.txt', train_accuracy_fcnn)\n",
        "np.savetxt('SdLBFGS_fcNN_testacc.txt', test_accuracy_fcnn)\n"
      ],
      "execution_count": 23,
      "outputs": []
    },
    {
      "cell_type": "code",
      "metadata": {
        "id": "qjI9dr-LBaLL",
        "colab_type": "code",
        "colab": {
          "base_uri": "https://localhost:8080/",
          "height": 1000
        },
        "outputId": "08e28f2a-6ea3-46ec-db86-a0d8f19a9b76"
      },
      "source": [
        "plt.figure(1, figsize = (12,10))\n",
        "plt.plot(test_losses_fcnn)\n",
        "plt.xlabel('Epochs')\n",
        "plt.ylabel('Test Loss')\n",
        "plt.title('SdLBFGS Test loss in FCNN',fontsize = 20)\n",
        "plt.legend(loc='center left', bbox_to_anchor=(1, 0.5))\n",
        "plt.savefig(\"SdLBFGS_test_loss_fcnn.jpg\")\n",
        "\n",
        "plt.figure(2, figsize = (12,10))\n",
        "plt.plot(train_losses_fcnn)\n",
        "plt.xlabel('Epochs')\n",
        "plt.ylabel('Train Loss')\n",
        "plt.title('SdLBFGS Train loss in FCNN',fontsize = 20)\n",
        "plt.legend(loc='center left', bbox_to_anchor=(1, 0.5))\n",
        "plt.savefig(\"SdLBFGS_train_loss_fcnn.jpg\")\n",
        "\n",
        "plt.figure(3, figsize = (12,10))\n",
        "plt.plot(train_accuracy_fcnn)\n",
        "plt.xlabel('Epochs')\n",
        "plt.ylabel('Train Accuracy')\n",
        "plt.title('SdLBFGS Train accuracy in FCNN',fontsize = 20)\n",
        "plt.legend(loc='center left', bbox_to_anchor=(1, 0.5))\n",
        "plt.savefig(\"SdLBFGS_train_accuracy_fcnn.jpg\")\n",
        "\n",
        "plt.figure(4, figsize = (12,10))\n",
        "plt.plot(test_accuracy_fcnn)\n",
        "plt.xlabel('Epochs')\n",
        "plt.ylabel('Test Accuracy')\n",
        "plt.title('SdLBFGS Test accuracy in FCNN',fontsize = 20)\n",
        "plt.legend(loc='center left', bbox_to_anchor=(1, 0.5))\n",
        "plt.savefig(\"SdLBFGS_test_accuracy_fcnn.jpg\")\n"
      ],
      "execution_count": null,
      "outputs": []
    },
    {
      "cell_type": "code",
      "metadata": {
        "id": "ww-402irBaYE",
        "colab_type": "code",
        "colab": {
          "base_uri": "https://localhost:8080/",
          "height": 1000
        },
        "outputId": "fac5b7eb-6796-4041-b285-bb4cb46d04e8"
      },
      "source": [
        "\n",
        "plt.figure(3, figsize = (12,10))\n",
        "plt.plot(train_accuracy_fcnn)\n",
        "plt.xlabel('Epochs')\n",
        "plt.ylabel('Train Accuracy')\n",
        "plt.title('SdLBFGS Train accuracy in FCNN',fontsize = 20)\n",
        "plt.legend(loc='center left', bbox_to_anchor=(1, 0.5))\n",
        "plt.savefig(\"SdLBFGS_train_accuracy_fcnn.jpg\")\n",
        "\n",
        "plt.figure(4, figsize = (12,10))\n",
        "plt.plot(test_accuracy_fcnn)\n",
        "plt.xlabel('Epochs')\n",
        "plt.ylabel('Test Accuracy')\n",
        "plt.title('SdLBFGS Test accuracy in FCNN',fontsize = 20)\n",
        "plt.legend(loc='center left', bbox_to_anchor=(1, 0.5))\n",
        "plt.savefig(\"SdLBFGS_test_accuracy_fcnn.jpg\")"
      ],
      "execution_count": null,
      "outputs": []
    },
    {
      "cell_type": "markdown",
      "metadata": {
        "id": "1s_muFUte6be",
        "colab_type": "text"
      },
      "source": [
        "### CNN"
      ]
    },
    {
      "cell_type": "code",
      "metadata": {
        "id": "oAyIHiXNe6bf",
        "colab_type": "code",
        "outputId": "3c1459b0-253e-4e82-fdda-4df4fc118c6d",
        "colab": {
          "base_uri": "https://localhost:8080/",
          "height": 1000
        }
      },
      "source": [
        "input_size = 784\n",
        "output_size = 10\n",
        "sizes = [input_size,128,64,output_size]\n",
        "\n",
        "# Model building\n",
        "# The size of the images is computed.\n",
        "images,_=dataiter.next()\n",
        "image_size=images[0].shape[1]\n",
        "# Using nn.CrossEntropyLoss allows to avoid specifying LogSoftmax as final layer.\n",
        "criterion = nn.CrossEntropyLoss()\n",
        "modelB=ConvNet(image_size)\n",
        "\n",
        "\n",
        "method = \"SdLBFGS\"\n",
        "optimizer = SdLBFGS(modelB.parameters(), history_size = 50)\n",
        "\n",
        "epochs = 10\n",
        "\n",
        "train_losses_cnn, test_losses_cnn, train_accuracy_cnn, test_accuracy_cnn, training_time_cnn = optimize_CNN(optimizer, epochs, trainloader, valloader, modelB, criterion , method )\n",
        "\n"
      ],
      "execution_count": 9,
      "outputs": [
        {
          "output_type": "stream",
          "name": "stdout",
          "text": "Epoch 0\nTraining loss: 0.46834082532920307\nNumber Of Images Tested = 10000\nModel Accuracy = 0.871\nNumber Of Images Tested = 60000\nModel Accuracy = 0.8802833333333333\nTest loss: 0.36346791357181635 \n\nEpoch 1\nTraining loss: 0.29420166901910483\nNumber Of Images Tested = 10000\nModel Accuracy = 0.8876\nNumber Of Images Tested = 60000\nModel Accuracy = 0.9020333333333334\nTest loss: 0.3159310691485739 \n\nEpoch 2\nTraining loss: 0.26213787926603227\nNumber Of Images Tested = 10000\nModel Accuracy = 0.8941\nNumber Of Images Tested = 60000\nModel Accuracy = 0.91065\nTest loss: 0.2955911612244928 \n\nEpoch 3\nTraining loss: 0.24820838786010294\nNumber Of Images Tested = 10000\nModel Accuracy = 0.9005\nNumber Of Images Tested = 60000\nModel Accuracy = 0.91555\nTest loss: 0.2844968945926921 \n\nEpoch 4\nTraining loss: 0.23672803243927992\nNumber Of Images Tested = 10000\nModel Accuracy = 0.9026\nNumber Of Images Tested = 60000\nModel Accuracy = 0.9187333333333333\nTest loss: 0.2786180048136954 \n\nEpoch 5\nTraining loss: 0.22841234450369502\nNumber Of Images Tested = 10000\nModel Accuracy = 0.905\nNumber Of Images Tested = 60000\nModel Accuracy = 0.9223333333333333\nTest loss: 0.267381417381156 \n\nEpoch 6\nTraining loss: 0.21981294276808372\nNumber Of Images Tested = 10000\nModel Accuracy = 0.9053\nNumber Of Images Tested = 60000\nModel Accuracy = 0.9241333333333334\nTest loss: 0.2689696149841236 \n\nEpoch 7\nTraining loss: 0.21899313104948573\nNumber Of Images Tested = 10000\nModel Accuracy = 0.9095\nNumber Of Images Tested = 60000\nModel Accuracy = 0.9254166666666667\nTest loss: 0.27072318121316324 \n\nEpoch 8\nTraining loss: 0.2120518209154545\nNumber Of Images Tested = 10000\nModel Accuracy = 0.9074\nNumber Of Images Tested = 60000\nModel Accuracy = 0.9286333333333333\nTest loss: 0.2673607549280118 \n\nEpoch 9\nTraining loss: 0.20759842735030123\nNumber Of Images Tested = 10000\nModel Accuracy = 0.9079\nNumber Of Images Tested = 60000\nModel Accuracy = 0.92845\nTest loss: 0.2624303307502892 \n\nEpoch 10\n"
        },
        {
          "output_type": "error",
          "ename": "KeyboardInterrupt",
          "evalue": "",
          "traceback": [
            "\u001b[0;31m---------------------------------------------------------------------------\u001b[0m",
            "\u001b[0;31mKeyboardInterrupt\u001b[0m                         Traceback (most recent call last)",
            "\u001b[0;32m<ipython-input-9-0edf14dc64b4>\u001b[0m in \u001b[0;36m<module>\u001b[0;34m\u001b[0m\n\u001b[1;32m     17\u001b[0m \u001b[0mepochs\u001b[0m \u001b[0;34m=\u001b[0m \u001b[0;36m30\u001b[0m\u001b[0;34m\u001b[0m\u001b[0;34m\u001b[0m\u001b[0m\n\u001b[1;32m     18\u001b[0m \u001b[0;34m\u001b[0m\u001b[0m\n\u001b[0;32m---> 19\u001b[0;31m \u001b[0mtrain_losses_cnn\u001b[0m\u001b[0;34m,\u001b[0m \u001b[0mtest_losses_cnn\u001b[0m\u001b[0;34m,\u001b[0m \u001b[0mtrain_accuracy_cnn\u001b[0m\u001b[0;34m,\u001b[0m \u001b[0mtest_accuracy_cnn\u001b[0m\u001b[0;34m,\u001b[0m \u001b[0mtraining_time_cnn\u001b[0m \u001b[0;34m=\u001b[0m \u001b[0moptimize_CNN\u001b[0m\u001b[0;34m(\u001b[0m\u001b[0moptimizer\u001b[0m\u001b[0;34m,\u001b[0m \u001b[0mepochs\u001b[0m\u001b[0;34m,\u001b[0m \u001b[0mtrainloader\u001b[0m\u001b[0;34m,\u001b[0m \u001b[0mvalloader\u001b[0m\u001b[0;34m,\u001b[0m \u001b[0mmodelB\u001b[0m\u001b[0;34m,\u001b[0m \u001b[0mcriterion\u001b[0m \u001b[0;34m,\u001b[0m \u001b[0mmethod\u001b[0m \u001b[0;34m)\u001b[0m\u001b[0;34m\u001b[0m\u001b[0;34m\u001b[0m\u001b[0m\n\u001b[0m\u001b[1;32m     20\u001b[0m \u001b[0;34m\u001b[0m\u001b[0m\n",
            "\u001b[0;32m~/OptMLproject/parameters_optimization/SDLBFGS_optimization/helpers_opt_parameters.py\u001b[0m in \u001b[0;36moptimize_CNN\u001b[0;34m(optimizer, epochs, trainloader, valloader, model, criterion, method)\u001b[0m\n\u001b[1;32m    132\u001b[0m                 \u001b[0mloss\u001b[0m \u001b[0;34m=\u001b[0m \u001b[0mcriterion\u001b[0m\u001b[0;34m(\u001b[0m\u001b[0moutput\u001b[0m\u001b[0;34m,\u001b[0m \u001b[0mlabels\u001b[0m\u001b[0;34m)\u001b[0m\u001b[0;34m\u001b[0m\u001b[0;34m\u001b[0m\u001b[0m\n\u001b[1;32m    133\u001b[0m                 \u001b[0mloss\u001b[0m\u001b[0;34m.\u001b[0m\u001b[0mbackward\u001b[0m\u001b[0;34m(\u001b[0m\u001b[0;34m)\u001b[0m\u001b[0;34m\u001b[0m\u001b[0;34m\u001b[0m\u001b[0m\n\u001b[0;32m--> 134\u001b[0;31m                 \u001b[0moptimizer\u001b[0m\u001b[0;34m.\u001b[0m\u001b[0mstep\u001b[0m\u001b[0;34m(\u001b[0m\u001b[0mclosure_sd\u001b[0m\u001b[0;34m)\u001b[0m\u001b[0;34m\u001b[0m\u001b[0;34m\u001b[0m\u001b[0m\n\u001b[0m\u001b[1;32m    135\u001b[0m \u001b[0;34m\u001b[0m\u001b[0m\n\u001b[1;32m    136\u001b[0m             \u001b[0;32melif\u001b[0m \u001b[0mmethod\u001b[0m \u001b[0;34m==\u001b[0m \u001b[0;34m\"CurveBall\"\u001b[0m\u001b[0;34m:\u001b[0m\u001b[0;34m\u001b[0m\u001b[0;34m\u001b[0m\u001b[0m\n",
            "\u001b[0;32m~/OptMLproject/parameters_optimization/SDLBFGS_optimization/sdlbfgs.py\u001b[0m in \u001b[0;36mstep\u001b[0;34m(self, closure)\u001b[0m\n\u001b[1;32m    198\u001b[0m                 \u001b[0;32mfor\u001b[0m \u001b[0mi\u001b[0m \u001b[0;32min\u001b[0m \u001b[0mrange\u001b[0m\u001b[0;34m(\u001b[0m\u001b[0mnum_old\u001b[0m \u001b[0;34m-\u001b[0m \u001b[0;36m1\u001b[0m\u001b[0;34m,\u001b[0m \u001b[0;34m-\u001b[0m\u001b[0;36m1\u001b[0m\u001b[0;34m,\u001b[0m \u001b[0;34m-\u001b[0m\u001b[0;36m1\u001b[0m\u001b[0;34m)\u001b[0m\u001b[0;34m:\u001b[0m\u001b[0;34m\u001b[0m\u001b[0;34m\u001b[0m\u001b[0m\n\u001b[1;32m    199\u001b[0m                     \u001b[0mal\u001b[0m\u001b[0;34m[\u001b[0m\u001b[0mi\u001b[0m\u001b[0;34m]\u001b[0m \u001b[0;34m=\u001b[0m \u001b[0mold_dirs\u001b[0m\u001b[0;34m[\u001b[0m\u001b[0mi\u001b[0m\u001b[0;34m]\u001b[0m\u001b[0;34m.\u001b[0m\u001b[0mdot\u001b[0m\u001b[0;34m(\u001b[0m\u001b[0mq\u001b[0m\u001b[0;34m)\u001b[0m \u001b[0;34m*\u001b[0m \u001b[0mro\u001b[0m\u001b[0;34m[\u001b[0m\u001b[0mi\u001b[0m\u001b[0;34m]\u001b[0m\u001b[0;34m\u001b[0m\u001b[0;34m\u001b[0m\u001b[0m\n\u001b[0;32m--> 200\u001b[0;31m                     \u001b[0mq\u001b[0m\u001b[0;34m.\u001b[0m\u001b[0madd_\u001b[0m\u001b[0;34m(\u001b[0m\u001b[0;34m-\u001b[0m\u001b[0mal\u001b[0m\u001b[0;34m[\u001b[0m\u001b[0mi\u001b[0m\u001b[0;34m]\u001b[0m\u001b[0;34m,\u001b[0m \u001b[0mold_stps\u001b[0m\u001b[0;34m[\u001b[0m\u001b[0mi\u001b[0m\u001b[0;34m]\u001b[0m\u001b[0;34m)\u001b[0m\u001b[0;34m\u001b[0m\u001b[0;34m\u001b[0m\u001b[0m\n\u001b[0m\u001b[1;32m    201\u001b[0m \u001b[0;34m\u001b[0m\u001b[0m\n\u001b[1;32m    202\u001b[0m                 \u001b[0;31m# multiply by initial Hessian\u001b[0m\u001b[0;34m\u001b[0m\u001b[0;34m\u001b[0m\u001b[0;34m\u001b[0m\u001b[0m\n",
            "\u001b[0;31mKeyboardInterrupt\u001b[0m: "
          ]
        }
      ]
    },
    {
      "cell_type": "code",
      "metadata": {
        "id": "7-g1x5G4C8-H",
        "colab_type": "code",
        "colab": {}
      },
      "source": [
        "np.savetxt('SdLBFGS_CNN_trainloss.txt', train_losses_cnn)\n",
        "np.savetxt('SdLBFGS_CNN_testloss.txt', test_losses_cnn)\n",
        "np.savetxt('SdLBFGS_CNN_trainacc.txt', train_accuracy_cnn)\n",
        "np.savetxt('SdLBFGS_CNN_testacc.txt', test_accuracy_cnn)\n"
      ],
      "execution_count": null,
      "outputs": []
    },
    {
      "cell_type": "code",
      "metadata": {
        "id": "oEIjHBudUm_6",
        "colab_type": "code",
        "colab": {
          "base_uri": "https://localhost:8080/",
          "height": 34
        },
        "outputId": "b09a5e2c-7f92-4aec-ae32-81f05785a08a"
      },
      "source": [
        "training_time_cnn\n"
      ],
      "execution_count": null,
      "outputs": []
    },
    {
      "cell_type": "code",
      "metadata": {
        "id": "cq06nMxBe6bg",
        "colab_type": "code",
        "colab": {
          "base_uri": "https://localhost:8080/",
          "height": 1000
        },
        "outputId": "e005340a-b4a4-49de-9a6c-813949b2ebed"
      },
      "source": [
        "plt.figure(1, figsize = (12,10))\n",
        "plt.plot(test_losses_cnn)\n",
        "plt.xlabel('Epochs')\n",
        "plt.ylabel('Test Loss')\n",
        "plt.title('SdLBFGS Test loss in CNN',fontsize = 20)\n",
        "plt.legend(loc='center left', bbox_to_anchor=(1, 0.5))\n",
        "plt.savefig(\"SdLBFGS_test_loss_cnn.jpg\")\n",
        "\n",
        "plt.figure(2, figsize = (12,10))\n",
        "plt.plot(train_losses_cnn)\n",
        "plt.xlabel('Epochs')\n",
        "plt.ylabel('Train Loss')\n",
        "plt.title('SdLBFGS Train loss in CNN',fontsize = 20)\n",
        "plt.legend(loc='center left', bbox_to_anchor=(1, 0.5))\n",
        "plt.savefig(\"SdLBFGS_train_loss_cnn.jpg\")\n",
        "\n",
        "plt.figure(3, figsize = (12,10))\n",
        "plt.plot(train_accuracy_cnn)\n",
        "plt.xlabel('Epochs')\n",
        "plt.ylabel('Train Accuracy')\n",
        "plt.title('SdLBFGS Train accuracy in CNN',fontsize = 20)\n",
        "plt.legend(loc='center left', bbox_to_anchor=(1, 0.5))\n",
        "plt.savefig(\"SdLBFGS_train_accuracy_cnn.jpg\")\n",
        "\n",
        "plt.figure(4, figsize = (12,10))\n",
        "plt.plot(test_accuracy_cnn)\n",
        "plt.xlabel('Epochs')\n",
        "plt.ylabel('Test Accuracy')\n",
        "plt.title('SdLBFGS Test accuracy in CNN',fontsize = 20)\n",
        "plt.legend(loc='center left', bbox_to_anchor=(1, 0.5))\n",
        "plt.savefig(\"SdLBFGS_test_accuracy_cnn.jpg\")"
      ],
      "execution_count": null,
      "outputs": []
    },
    {
      "cell_type": "code",
      "metadata": {
        "id": "OlZKm2mFe6bi",
        "colab_type": "code",
        "colab": {}
      },
      "source": [
        ""
      ],
      "execution_count": 0,
      "outputs": []
    },
    {
      "cell_type": "code",
      "execution_count": null,
      "metadata": {},
      "outputs": [],
      "source": []
    }
  ],
  "metadata": {
    "kernelspec": {
      "display_name": "Python 3",
      "language": "python",
      "name": "python3"
    },
    "language_info": {
      "codemirror_mode": {
        "name": "ipython",
        "version": 3
      },
      "file_extension": ".py",
      "mimetype": "text/x-python",
      "name": "python",
      "nbconvert_exporter": "python",
      "pygments_lexer": "ipython3",
      "version": "3.7.7-final"
    },
    "colab": {
      "name": "MNIST_sdlbfgs.ipynb",
      "provenance": [],
      "collapsed_sections": []
    },
    "accelerator": "GPU",
    "widgets": {
      "application/vnd.jupyter.widget-state+json": {
        "d786d1185a3e474184f81cdad45a7bbe": {
          "model_module": "@jupyter-widgets/controls",
          "model_name": "HBoxModel",
          "state": {
            "_view_name": "HBoxView",
            "_dom_classes": [],
            "_model_name": "HBoxModel",
            "_view_module": "@jupyter-widgets/controls",
            "_model_module_version": "1.5.0",
            "_view_count": null,
            "_view_module_version": "1.5.0",
            "box_style": "",
            "layout": "IPY_MODEL_39c526b117334fc0bc4c9e5a2af3c124",
            "_model_module": "@jupyter-widgets/controls",
            "children": [
              "IPY_MODEL_285f29331cbf453ba0bb1b4b306cecab",
              "IPY_MODEL_ed682b45ca444ced95ab9261d62bee3a"
            ]
          }
        },
        "39c526b117334fc0bc4c9e5a2af3c124": {
          "model_module": "@jupyter-widgets/base",
          "model_name": "LayoutModel",
          "state": {
            "_view_name": "LayoutView",
            "grid_template_rows": null,
            "right": null,
            "justify_content": null,
            "_view_module": "@jupyter-widgets/base",
            "overflow": null,
            "_model_module_version": "1.2.0",
            "_view_count": null,
            "flex_flow": null,
            "width": null,
            "min_width": null,
            "border": null,
            "align_items": null,
            "bottom": null,
            "_model_module": "@jupyter-widgets/base",
            "top": null,
            "grid_column": null,
            "overflow_y": null,
            "overflow_x": null,
            "grid_auto_flow": null,
            "grid_area": null,
            "grid_template_columns": null,
            "flex": null,
            "_model_name": "LayoutModel",
            "justify_items": null,
            "grid_row": null,
            "max_height": null,
            "align_content": null,
            "visibility": null,
            "align_self": null,
            "height": null,
            "min_height": null,
            "padding": null,
            "grid_auto_rows": null,
            "grid_gap": null,
            "max_width": null,
            "order": null,
            "_view_module_version": "1.2.0",
            "grid_template_areas": null,
            "object_position": null,
            "object_fit": null,
            "grid_auto_columns": null,
            "margin": null,
            "display": null,
            "left": null
          }
        },
        "285f29331cbf453ba0bb1b4b306cecab": {
          "model_module": "@jupyter-widgets/controls",
          "model_name": "FloatProgressModel",
          "state": {
            "_view_name": "ProgressView",
            "style": "IPY_MODEL_1c001913037548e1b4e54adcd4c5976a",
            "_dom_classes": [],
            "description": "",
            "_model_name": "FloatProgressModel",
            "bar_style": "info",
            "max": 1,
            "_view_module": "@jupyter-widgets/controls",
            "_model_module_version": "1.5.0",
            "value": 1,
            "_view_count": null,
            "_view_module_version": "1.5.0",
            "orientation": "horizontal",
            "min": 0,
            "description_tooltip": null,
            "_model_module": "@jupyter-widgets/controls",
            "layout": "IPY_MODEL_1e3beaf27b8d4d3995aad4938e72c5be"
          }
        },
        "ed682b45ca444ced95ab9261d62bee3a": {
          "model_module": "@jupyter-widgets/controls",
          "model_name": "HTMLModel",
          "state": {
            "_view_name": "HTMLView",
            "style": "IPY_MODEL_4fbdb5c186704dbf8005fcd2a5ca05b8",
            "_dom_classes": [],
            "description": "",
            "_model_name": "HTMLModel",
            "placeholder": "​",
            "_view_module": "@jupyter-widgets/controls",
            "_model_module_version": "1.5.0",
            "value": " 9920512/? [00:20&lt;00:00, 1656239.22it/s]",
            "_view_count": null,
            "_view_module_version": "1.5.0",
            "description_tooltip": null,
            "_model_module": "@jupyter-widgets/controls",
            "layout": "IPY_MODEL_12f84509a65742a48d66856b38cd1c98"
          }
        },
        "1c001913037548e1b4e54adcd4c5976a": {
          "model_module": "@jupyter-widgets/controls",
          "model_name": "ProgressStyleModel",
          "state": {
            "_view_name": "StyleView",
            "_model_name": "ProgressStyleModel",
            "description_width": "initial",
            "_view_module": "@jupyter-widgets/base",
            "_model_module_version": "1.5.0",
            "_view_count": null,
            "_view_module_version": "1.2.0",
            "bar_color": null,
            "_model_module": "@jupyter-widgets/controls"
          }
        },
        "1e3beaf27b8d4d3995aad4938e72c5be": {
          "model_module": "@jupyter-widgets/base",
          "model_name": "LayoutModel",
          "state": {
            "_view_name": "LayoutView",
            "grid_template_rows": null,
            "right": null,
            "justify_content": null,
            "_view_module": "@jupyter-widgets/base",
            "overflow": null,
            "_model_module_version": "1.2.0",
            "_view_count": null,
            "flex_flow": null,
            "width": null,
            "min_width": null,
            "border": null,
            "align_items": null,
            "bottom": null,
            "_model_module": "@jupyter-widgets/base",
            "top": null,
            "grid_column": null,
            "overflow_y": null,
            "overflow_x": null,
            "grid_auto_flow": null,
            "grid_area": null,
            "grid_template_columns": null,
            "flex": null,
            "_model_name": "LayoutModel",
            "justify_items": null,
            "grid_row": null,
            "max_height": null,
            "align_content": null,
            "visibility": null,
            "align_self": null,
            "height": null,
            "min_height": null,
            "padding": null,
            "grid_auto_rows": null,
            "grid_gap": null,
            "max_width": null,
            "order": null,
            "_view_module_version": "1.2.0",
            "grid_template_areas": null,
            "object_position": null,
            "object_fit": null,
            "grid_auto_columns": null,
            "margin": null,
            "display": null,
            "left": null
          }
        },
        "4fbdb5c186704dbf8005fcd2a5ca05b8": {
          "model_module": "@jupyter-widgets/controls",
          "model_name": "DescriptionStyleModel",
          "state": {
            "_view_name": "StyleView",
            "_model_name": "DescriptionStyleModel",
            "description_width": "",
            "_view_module": "@jupyter-widgets/base",
            "_model_module_version": "1.5.0",
            "_view_count": null,
            "_view_module_version": "1.2.0",
            "_model_module": "@jupyter-widgets/controls"
          }
        },
        "12f84509a65742a48d66856b38cd1c98": {
          "model_module": "@jupyter-widgets/base",
          "model_name": "LayoutModel",
          "state": {
            "_view_name": "LayoutView",
            "grid_template_rows": null,
            "right": null,
            "justify_content": null,
            "_view_module": "@jupyter-widgets/base",
            "overflow": null,
            "_model_module_version": "1.2.0",
            "_view_count": null,
            "flex_flow": null,
            "width": null,
            "min_width": null,
            "border": null,
            "align_items": null,
            "bottom": null,
            "_model_module": "@jupyter-widgets/base",
            "top": null,
            "grid_column": null,
            "overflow_y": null,
            "overflow_x": null,
            "grid_auto_flow": null,
            "grid_area": null,
            "grid_template_columns": null,
            "flex": null,
            "_model_name": "LayoutModel",
            "justify_items": null,
            "grid_row": null,
            "max_height": null,
            "align_content": null,
            "visibility": null,
            "align_self": null,
            "height": null,
            "min_height": null,
            "padding": null,
            "grid_auto_rows": null,
            "grid_gap": null,
            "max_width": null,
            "order": null,
            "_view_module_version": "1.2.0",
            "grid_template_areas": null,
            "object_position": null,
            "object_fit": null,
            "grid_auto_columns": null,
            "margin": null,
            "display": null,
            "left": null
          }
        },
        "05836975b6ba4ac78b4d706149438729": {
          "model_module": "@jupyter-widgets/controls",
          "model_name": "HBoxModel",
          "state": {
            "_view_name": "HBoxView",
            "_dom_classes": [],
            "_model_name": "HBoxModel",
            "_view_module": "@jupyter-widgets/controls",
            "_model_module_version": "1.5.0",
            "_view_count": null,
            "_view_module_version": "1.5.0",
            "box_style": "",
            "layout": "IPY_MODEL_ed580791373148c79c670df05a83340e",
            "_model_module": "@jupyter-widgets/controls",
            "children": [
              "IPY_MODEL_43361cc83e804e428eb0a729bae39bfd",
              "IPY_MODEL_d3f55f8aa92b4840b024ddfa914ab4e8"
            ]
          }
        },
        "ed580791373148c79c670df05a83340e": {
          "model_module": "@jupyter-widgets/base",
          "model_name": "LayoutModel",
          "state": {
            "_view_name": "LayoutView",
            "grid_template_rows": null,
            "right": null,
            "justify_content": null,
            "_view_module": "@jupyter-widgets/base",
            "overflow": null,
            "_model_module_version": "1.2.0",
            "_view_count": null,
            "flex_flow": null,
            "width": null,
            "min_width": null,
            "border": null,
            "align_items": null,
            "bottom": null,
            "_model_module": "@jupyter-widgets/base",
            "top": null,
            "grid_column": null,
            "overflow_y": null,
            "overflow_x": null,
            "grid_auto_flow": null,
            "grid_area": null,
            "grid_template_columns": null,
            "flex": null,
            "_model_name": "LayoutModel",
            "justify_items": null,
            "grid_row": null,
            "max_height": null,
            "align_content": null,
            "visibility": null,
            "align_self": null,
            "height": null,
            "min_height": null,
            "padding": null,
            "grid_auto_rows": null,
            "grid_gap": null,
            "max_width": null,
            "order": null,
            "_view_module_version": "1.2.0",
            "grid_template_areas": null,
            "object_position": null,
            "object_fit": null,
            "grid_auto_columns": null,
            "margin": null,
            "display": null,
            "left": null
          }
        },
        "43361cc83e804e428eb0a729bae39bfd": {
          "model_module": "@jupyter-widgets/controls",
          "model_name": "FloatProgressModel",
          "state": {
            "_view_name": "ProgressView",
            "style": "IPY_MODEL_0f63620a482c4249812467fdf28651a5",
            "_dom_classes": [],
            "description": "",
            "_model_name": "FloatProgressModel",
            "bar_style": "success",
            "max": 1,
            "_view_module": "@jupyter-widgets/controls",
            "_model_module_version": "1.5.0",
            "value": 1,
            "_view_count": null,
            "_view_module_version": "1.5.0",
            "orientation": "horizontal",
            "min": 0,
            "description_tooltip": null,
            "_model_module": "@jupyter-widgets/controls",
            "layout": "IPY_MODEL_cbee96d3071445cfbfc7fc62d948daf7"
          }
        },
        "d3f55f8aa92b4840b024ddfa914ab4e8": {
          "model_module": "@jupyter-widgets/controls",
          "model_name": "HTMLModel",
          "state": {
            "_view_name": "HTMLView",
            "style": "IPY_MODEL_17e84b43e32c4c8aa8a333270fb0fc71",
            "_dom_classes": [],
            "description": "",
            "_model_name": "HTMLModel",
            "placeholder": "​",
            "_view_module": "@jupyter-widgets/controls",
            "_model_module_version": "1.5.0",
            "value": " 32768/? [00:00&lt;00:00, 43257.65it/s]",
            "_view_count": null,
            "_view_module_version": "1.5.0",
            "description_tooltip": null,
            "_model_module": "@jupyter-widgets/controls",
            "layout": "IPY_MODEL_d2c197b971af43d2921f9fa10612baf7"
          }
        },
        "0f63620a482c4249812467fdf28651a5": {
          "model_module": "@jupyter-widgets/controls",
          "model_name": "ProgressStyleModel",
          "state": {
            "_view_name": "StyleView",
            "_model_name": "ProgressStyleModel",
            "description_width": "initial",
            "_view_module": "@jupyter-widgets/base",
            "_model_module_version": "1.5.0",
            "_view_count": null,
            "_view_module_version": "1.2.0",
            "bar_color": null,
            "_model_module": "@jupyter-widgets/controls"
          }
        },
        "cbee96d3071445cfbfc7fc62d948daf7": {
          "model_module": "@jupyter-widgets/base",
          "model_name": "LayoutModel",
          "state": {
            "_view_name": "LayoutView",
            "grid_template_rows": null,
            "right": null,
            "justify_content": null,
            "_view_module": "@jupyter-widgets/base",
            "overflow": null,
            "_model_module_version": "1.2.0",
            "_view_count": null,
            "flex_flow": null,
            "width": null,
            "min_width": null,
            "border": null,
            "align_items": null,
            "bottom": null,
            "_model_module": "@jupyter-widgets/base",
            "top": null,
            "grid_column": null,
            "overflow_y": null,
            "overflow_x": null,
            "grid_auto_flow": null,
            "grid_area": null,
            "grid_template_columns": null,
            "flex": null,
            "_model_name": "LayoutModel",
            "justify_items": null,
            "grid_row": null,
            "max_height": null,
            "align_content": null,
            "visibility": null,
            "align_self": null,
            "height": null,
            "min_height": null,
            "padding": null,
            "grid_auto_rows": null,
            "grid_gap": null,
            "max_width": null,
            "order": null,
            "_view_module_version": "1.2.0",
            "grid_template_areas": null,
            "object_position": null,
            "object_fit": null,
            "grid_auto_columns": null,
            "margin": null,
            "display": null,
            "left": null
          }
        },
        "17e84b43e32c4c8aa8a333270fb0fc71": {
          "model_module": "@jupyter-widgets/controls",
          "model_name": "DescriptionStyleModel",
          "state": {
            "_view_name": "StyleView",
            "_model_name": "DescriptionStyleModel",
            "description_width": "",
            "_view_module": "@jupyter-widgets/base",
            "_model_module_version": "1.5.0",
            "_view_count": null,
            "_view_module_version": "1.2.0",
            "_model_module": "@jupyter-widgets/controls"
          }
        },
        "d2c197b971af43d2921f9fa10612baf7": {
          "model_module": "@jupyter-widgets/base",
          "model_name": "LayoutModel",
          "state": {
            "_view_name": "LayoutView",
            "grid_template_rows": null,
            "right": null,
            "justify_content": null,
            "_view_module": "@jupyter-widgets/base",
            "overflow": null,
            "_model_module_version": "1.2.0",
            "_view_count": null,
            "flex_flow": null,
            "width": null,
            "min_width": null,
            "border": null,
            "align_items": null,
            "bottom": null,
            "_model_module": "@jupyter-widgets/base",
            "top": null,
            "grid_column": null,
            "overflow_y": null,
            "overflow_x": null,
            "grid_auto_flow": null,
            "grid_area": null,
            "grid_template_columns": null,
            "flex": null,
            "_model_name": "LayoutModel",
            "justify_items": null,
            "grid_row": null,
            "max_height": null,
            "align_content": null,
            "visibility": null,
            "align_self": null,
            "height": null,
            "min_height": null,
            "padding": null,
            "grid_auto_rows": null,
            "grid_gap": null,
            "max_width": null,
            "order": null,
            "_view_module_version": "1.2.0",
            "grid_template_areas": null,
            "object_position": null,
            "object_fit": null,
            "grid_auto_columns": null,
            "margin": null,
            "display": null,
            "left": null
          }
        },
        "a29d833ef26b440da7860fed8ba34c3a": {
          "model_module": "@jupyter-widgets/controls",
          "model_name": "HBoxModel",
          "state": {
            "_view_name": "HBoxView",
            "_dom_classes": [],
            "_model_name": "HBoxModel",
            "_view_module": "@jupyter-widgets/controls",
            "_model_module_version": "1.5.0",
            "_view_count": null,
            "_view_module_version": "1.5.0",
            "box_style": "",
            "layout": "IPY_MODEL_00fa5249bad24cf28706c8908a5109c8",
            "_model_module": "@jupyter-widgets/controls",
            "children": [
              "IPY_MODEL_65fabb07c57c4483a80ecdbc4a0f4416",
              "IPY_MODEL_2eac02d62522430bb2bbea1cd68b6006"
            ]
          }
        },
        "00fa5249bad24cf28706c8908a5109c8": {
          "model_module": "@jupyter-widgets/base",
          "model_name": "LayoutModel",
          "state": {
            "_view_name": "LayoutView",
            "grid_template_rows": null,
            "right": null,
            "justify_content": null,
            "_view_module": "@jupyter-widgets/base",
            "overflow": null,
            "_model_module_version": "1.2.0",
            "_view_count": null,
            "flex_flow": null,
            "width": null,
            "min_width": null,
            "border": null,
            "align_items": null,
            "bottom": null,
            "_model_module": "@jupyter-widgets/base",
            "top": null,
            "grid_column": null,
            "overflow_y": null,
            "overflow_x": null,
            "grid_auto_flow": null,
            "grid_area": null,
            "grid_template_columns": null,
            "flex": null,
            "_model_name": "LayoutModel",
            "justify_items": null,
            "grid_row": null,
            "max_height": null,
            "align_content": null,
            "visibility": null,
            "align_self": null,
            "height": null,
            "min_height": null,
            "padding": null,
            "grid_auto_rows": null,
            "grid_gap": null,
            "max_width": null,
            "order": null,
            "_view_module_version": "1.2.0",
            "grid_template_areas": null,
            "object_position": null,
            "object_fit": null,
            "grid_auto_columns": null,
            "margin": null,
            "display": null,
            "left": null
          }
        },
        "65fabb07c57c4483a80ecdbc4a0f4416": {
          "model_module": "@jupyter-widgets/controls",
          "model_name": "FloatProgressModel",
          "state": {
            "_view_name": "ProgressView",
            "style": "IPY_MODEL_51de027408604b749372f763a1258b30",
            "_dom_classes": [],
            "description": "",
            "_model_name": "FloatProgressModel",
            "bar_style": "info",
            "max": 1,
            "_view_module": "@jupyter-widgets/controls",
            "_model_module_version": "1.5.0",
            "value": 1,
            "_view_count": null,
            "_view_module_version": "1.5.0",
            "orientation": "horizontal",
            "min": 0,
            "description_tooltip": null,
            "_model_module": "@jupyter-widgets/controls",
            "layout": "IPY_MODEL_e04d4bef00c74a9a9f6af4c3bc9eebdf"
          }
        },
        "2eac02d62522430bb2bbea1cd68b6006": {
          "model_module": "@jupyter-widgets/controls",
          "model_name": "HTMLModel",
          "state": {
            "_view_name": "HTMLView",
            "style": "IPY_MODEL_01789712cb904cc88c4e10305485f3bc",
            "_dom_classes": [],
            "description": "",
            "_model_name": "HTMLModel",
            "placeholder": "​",
            "_view_module": "@jupyter-widgets/controls",
            "_model_module_version": "1.5.0",
            "value": " 1654784/? [00:15&lt;00:00, 234294.89it/s]",
            "_view_count": null,
            "_view_module_version": "1.5.0",
            "description_tooltip": null,
            "_model_module": "@jupyter-widgets/controls",
            "layout": "IPY_MODEL_a07902338b0b46f8862b58d991312749"
          }
        },
        "51de027408604b749372f763a1258b30": {
          "model_module": "@jupyter-widgets/controls",
          "model_name": "ProgressStyleModel",
          "state": {
            "_view_name": "StyleView",
            "_model_name": "ProgressStyleModel",
            "description_width": "initial",
            "_view_module": "@jupyter-widgets/base",
            "_model_module_version": "1.5.0",
            "_view_count": null,
            "_view_module_version": "1.2.0",
            "bar_color": null,
            "_model_module": "@jupyter-widgets/controls"
          }
        },
        "e04d4bef00c74a9a9f6af4c3bc9eebdf": {
          "model_module": "@jupyter-widgets/base",
          "model_name": "LayoutModel",
          "state": {
            "_view_name": "LayoutView",
            "grid_template_rows": null,
            "right": null,
            "justify_content": null,
            "_view_module": "@jupyter-widgets/base",
            "overflow": null,
            "_model_module_version": "1.2.0",
            "_view_count": null,
            "flex_flow": null,
            "width": null,
            "min_width": null,
            "border": null,
            "align_items": null,
            "bottom": null,
            "_model_module": "@jupyter-widgets/base",
            "top": null,
            "grid_column": null,
            "overflow_y": null,
            "overflow_x": null,
            "grid_auto_flow": null,
            "grid_area": null,
            "grid_template_columns": null,
            "flex": null,
            "_model_name": "LayoutModel",
            "justify_items": null,
            "grid_row": null,
            "max_height": null,
            "align_content": null,
            "visibility": null,
            "align_self": null,
            "height": null,
            "min_height": null,
            "padding": null,
            "grid_auto_rows": null,
            "grid_gap": null,
            "max_width": null,
            "order": null,
            "_view_module_version": "1.2.0",
            "grid_template_areas": null,
            "object_position": null,
            "object_fit": null,
            "grid_auto_columns": null,
            "margin": null,
            "display": null,
            "left": null
          }
        },
        "01789712cb904cc88c4e10305485f3bc": {
          "model_module": "@jupyter-widgets/controls",
          "model_name": "DescriptionStyleModel",
          "state": {
            "_view_name": "StyleView",
            "_model_name": "DescriptionStyleModel",
            "description_width": "",
            "_view_module": "@jupyter-widgets/base",
            "_model_module_version": "1.5.0",
            "_view_count": null,
            "_view_module_version": "1.2.0",
            "_model_module": "@jupyter-widgets/controls"
          }
        },
        "a07902338b0b46f8862b58d991312749": {
          "model_module": "@jupyter-widgets/base",
          "model_name": "LayoutModel",
          "state": {
            "_view_name": "LayoutView",
            "grid_template_rows": null,
            "right": null,
            "justify_content": null,
            "_view_module": "@jupyter-widgets/base",
            "overflow": null,
            "_model_module_version": "1.2.0",
            "_view_count": null,
            "flex_flow": null,
            "width": null,
            "min_width": null,
            "border": null,
            "align_items": null,
            "bottom": null,
            "_model_module": "@jupyter-widgets/base",
            "top": null,
            "grid_column": null,
            "overflow_y": null,
            "overflow_x": null,
            "grid_auto_flow": null,
            "grid_area": null,
            "grid_template_columns": null,
            "flex": null,
            "_model_name": "LayoutModel",
            "justify_items": null,
            "grid_row": null,
            "max_height": null,
            "align_content": null,
            "visibility": null,
            "align_self": null,
            "height": null,
            "min_height": null,
            "padding": null,
            "grid_auto_rows": null,
            "grid_gap": null,
            "max_width": null,
            "order": null,
            "_view_module_version": "1.2.0",
            "grid_template_areas": null,
            "object_position": null,
            "object_fit": null,
            "grid_auto_columns": null,
            "margin": null,
            "display": null,
            "left": null
          }
        },
        "c92154e8a6f84179a316b216fa051b6d": {
          "model_module": "@jupyter-widgets/controls",
          "model_name": "HBoxModel",
          "state": {
            "_view_name": "HBoxView",
            "_dom_classes": [],
            "_model_name": "HBoxModel",
            "_view_module": "@jupyter-widgets/controls",
            "_model_module_version": "1.5.0",
            "_view_count": null,
            "_view_module_version": "1.5.0",
            "box_style": "",
            "layout": "IPY_MODEL_481691318dde471b86266fa1dbef09c0",
            "_model_module": "@jupyter-widgets/controls",
            "children": [
              "IPY_MODEL_bae285a23c1b4482ac041a55becc5586",
              "IPY_MODEL_aed31ef77c56420689f15c0d919b59c7"
            ]
          }
        },
        "481691318dde471b86266fa1dbef09c0": {
          "model_module": "@jupyter-widgets/base",
          "model_name": "LayoutModel",
          "state": {
            "_view_name": "LayoutView",
            "grid_template_rows": null,
            "right": null,
            "justify_content": null,
            "_view_module": "@jupyter-widgets/base",
            "overflow": null,
            "_model_module_version": "1.2.0",
            "_view_count": null,
            "flex_flow": null,
            "width": null,
            "min_width": null,
            "border": null,
            "align_items": null,
            "bottom": null,
            "_model_module": "@jupyter-widgets/base",
            "top": null,
            "grid_column": null,
            "overflow_y": null,
            "overflow_x": null,
            "grid_auto_flow": null,
            "grid_area": null,
            "grid_template_columns": null,
            "flex": null,
            "_model_name": "LayoutModel",
            "justify_items": null,
            "grid_row": null,
            "max_height": null,
            "align_content": null,
            "visibility": null,
            "align_self": null,
            "height": null,
            "min_height": null,
            "padding": null,
            "grid_auto_rows": null,
            "grid_gap": null,
            "max_width": null,
            "order": null,
            "_view_module_version": "1.2.0",
            "grid_template_areas": null,
            "object_position": null,
            "object_fit": null,
            "grid_auto_columns": null,
            "margin": null,
            "display": null,
            "left": null
          }
        },
        "bae285a23c1b4482ac041a55becc5586": {
          "model_module": "@jupyter-widgets/controls",
          "model_name": "FloatProgressModel",
          "state": {
            "_view_name": "ProgressView",
            "style": "IPY_MODEL_df503a8d05b348d0a025698efdda9e39",
            "_dom_classes": [],
            "description": "  0%",
            "_model_name": "FloatProgressModel",
            "bar_style": "info",
            "max": 1,
            "_view_module": "@jupyter-widgets/controls",
            "_model_module_version": "1.5.0",
            "value": 0,
            "_view_count": null,
            "_view_module_version": "1.5.0",
            "orientation": "horizontal",
            "min": 0,
            "description_tooltip": null,
            "_model_module": "@jupyter-widgets/controls",
            "layout": "IPY_MODEL_bf199a69b64d4f5cad86f707f3ae1e5a"
          }
        },
        "aed31ef77c56420689f15c0d919b59c7": {
          "model_module": "@jupyter-widgets/controls",
          "model_name": "HTMLModel",
          "state": {
            "_view_name": "HTMLView",
            "style": "IPY_MODEL_5e43274757c449b39e0c5a922d8bf508",
            "_dom_classes": [],
            "description": "",
            "_model_name": "HTMLModel",
            "placeholder": "​",
            "_view_module": "@jupyter-widgets/controls",
            "_model_module_version": "1.5.0",
            "value": " 0/4542 [00:00&lt;?, ?it/s]",
            "_view_count": null,
            "_view_module_version": "1.5.0",
            "description_tooltip": null,
            "_model_module": "@jupyter-widgets/controls",
            "layout": "IPY_MODEL_e6e25c3b248a4bdaa5b048c36c21408f"
          }
        },
        "df503a8d05b348d0a025698efdda9e39": {
          "model_module": "@jupyter-widgets/controls",
          "model_name": "ProgressStyleModel",
          "state": {
            "_view_name": "StyleView",
            "_model_name": "ProgressStyleModel",
            "description_width": "initial",
            "_view_module": "@jupyter-widgets/base",
            "_model_module_version": "1.5.0",
            "_view_count": null,
            "_view_module_version": "1.2.0",
            "bar_color": null,
            "_model_module": "@jupyter-widgets/controls"
          }
        },
        "bf199a69b64d4f5cad86f707f3ae1e5a": {
          "model_module": "@jupyter-widgets/base",
          "model_name": "LayoutModel",
          "state": {
            "_view_name": "LayoutView",
            "grid_template_rows": null,
            "right": null,
            "justify_content": null,
            "_view_module": "@jupyter-widgets/base",
            "overflow": null,
            "_model_module_version": "1.2.0",
            "_view_count": null,
            "flex_flow": null,
            "width": null,
            "min_width": null,
            "border": null,
            "align_items": null,
            "bottom": null,
            "_model_module": "@jupyter-widgets/base",
            "top": null,
            "grid_column": null,
            "overflow_y": null,
            "overflow_x": null,
            "grid_auto_flow": null,
            "grid_area": null,
            "grid_template_columns": null,
            "flex": null,
            "_model_name": "LayoutModel",
            "justify_items": null,
            "grid_row": null,
            "max_height": null,
            "align_content": null,
            "visibility": null,
            "align_self": null,
            "height": null,
            "min_height": null,
            "padding": null,
            "grid_auto_rows": null,
            "grid_gap": null,
            "max_width": null,
            "order": null,
            "_view_module_version": "1.2.0",
            "grid_template_areas": null,
            "object_position": null,
            "object_fit": null,
            "grid_auto_columns": null,
            "margin": null,
            "display": null,
            "left": null
          }
        },
        "5e43274757c449b39e0c5a922d8bf508": {
          "model_module": "@jupyter-widgets/controls",
          "model_name": "DescriptionStyleModel",
          "state": {
            "_view_name": "StyleView",
            "_model_name": "DescriptionStyleModel",
            "description_width": "",
            "_view_module": "@jupyter-widgets/base",
            "_model_module_version": "1.5.0",
            "_view_count": null,
            "_view_module_version": "1.2.0",
            "_model_module": "@jupyter-widgets/controls"
          }
        },
        "e6e25c3b248a4bdaa5b048c36c21408f": {
          "model_module": "@jupyter-widgets/base",
          "model_name": "LayoutModel",
          "state": {
            "_view_name": "LayoutView",
            "grid_template_rows": null,
            "right": null,
            "justify_content": null,
            "_view_module": "@jupyter-widgets/base",
            "overflow": null,
            "_model_module_version": "1.2.0",
            "_view_count": null,
            "flex_flow": null,
            "width": null,
            "min_width": null,
            "border": null,
            "align_items": null,
            "bottom": null,
            "_model_module": "@jupyter-widgets/base",
            "top": null,
            "grid_column": null,
            "overflow_y": null,
            "overflow_x": null,
            "grid_auto_flow": null,
            "grid_area": null,
            "grid_template_columns": null,
            "flex": null,
            "_model_name": "LayoutModel",
            "justify_items": null,
            "grid_row": null,
            "max_height": null,
            "align_content": null,
            "visibility": null,
            "align_self": null,
            "height": null,
            "min_height": null,
            "padding": null,
            "grid_auto_rows": null,
            "grid_gap": null,
            "max_width": null,
            "order": null,
            "_view_module_version": "1.2.0",
            "grid_template_areas": null,
            "object_position": null,
            "object_fit": null,
            "grid_auto_columns": null,
            "margin": null,
            "display": null,
            "left": null
          }
        },
        "548b2916629645499bc720ba97dd90e2": {
          "model_module": "@jupyter-widgets/controls",
          "model_name": "HBoxModel",
          "state": {
            "_view_name": "HBoxView",
            "_dom_classes": [],
            "_model_name": "HBoxModel",
            "_view_module": "@jupyter-widgets/controls",
            "_model_module_version": "1.5.0",
            "_view_count": null,
            "_view_module_version": "1.5.0",
            "box_style": "",
            "layout": "IPY_MODEL_8f95ba060ccc4d8b9424667b0217ae08",
            "_model_module": "@jupyter-widgets/controls",
            "children": [
              "IPY_MODEL_ae1cd3e0757442c895e921a3400d2429",
              "IPY_MODEL_8a4c2cad7e884524acfd1f64f489cbbf"
            ]
          }
        },
        "8f95ba060ccc4d8b9424667b0217ae08": {
          "model_module": "@jupyter-widgets/base",
          "model_name": "LayoutModel",
          "state": {
            "_view_name": "LayoutView",
            "grid_template_rows": null,
            "right": null,
            "justify_content": null,
            "_view_module": "@jupyter-widgets/base",
            "overflow": null,
            "_model_module_version": "1.2.0",
            "_view_count": null,
            "flex_flow": null,
            "width": null,
            "min_width": null,
            "border": null,
            "align_items": null,
            "bottom": null,
            "_model_module": "@jupyter-widgets/base",
            "top": null,
            "grid_column": null,
            "overflow_y": null,
            "overflow_x": null,
            "grid_auto_flow": null,
            "grid_area": null,
            "grid_template_columns": null,
            "flex": null,
            "_model_name": "LayoutModel",
            "justify_items": null,
            "grid_row": null,
            "max_height": null,
            "align_content": null,
            "visibility": null,
            "align_self": null,
            "height": null,
            "min_height": null,
            "padding": null,
            "grid_auto_rows": null,
            "grid_gap": null,
            "max_width": null,
            "order": null,
            "_view_module_version": "1.2.0",
            "grid_template_areas": null,
            "object_position": null,
            "object_fit": null,
            "grid_auto_columns": null,
            "margin": null,
            "display": null,
            "left": null
          }
        },
        "ae1cd3e0757442c895e921a3400d2429": {
          "model_module": "@jupyter-widgets/controls",
          "model_name": "FloatProgressModel",
          "state": {
            "_view_name": "ProgressView",
            "style": "IPY_MODEL_8c32faf062254780a172f2e35f7f7922",
            "_dom_classes": [],
            "description": "",
            "_model_name": "FloatProgressModel",
            "bar_style": "info",
            "max": 1,
            "_view_module": "@jupyter-widgets/controls",
            "_model_module_version": "1.5.0",
            "value": 1,
            "_view_count": null,
            "_view_module_version": "1.5.0",
            "orientation": "horizontal",
            "min": 0,
            "description_tooltip": null,
            "_model_module": "@jupyter-widgets/controls",
            "layout": "IPY_MODEL_e9057bddba6f492a8c696250f9c3f9c6"
          }
        },
        "8a4c2cad7e884524acfd1f64f489cbbf": {
          "model_module": "@jupyter-widgets/controls",
          "model_name": "HTMLModel",
          "state": {
            "_view_name": "HTMLView",
            "style": "IPY_MODEL_df91da5477dc44f4b6bebe9618454a24",
            "_dom_classes": [],
            "description": "",
            "_model_name": "HTMLModel",
            "placeholder": "​",
            "_view_module": "@jupyter-widgets/controls",
            "_model_module_version": "1.5.0",
            "value": " 9920512/? [00:13&lt;00:00, 1221399.47it/s]",
            "_view_count": null,
            "_view_module_version": "1.5.0",
            "description_tooltip": null,
            "_model_module": "@jupyter-widgets/controls",
            "layout": "IPY_MODEL_f66ebfcbbb3a4665b5ffe181cd9ead19"
          }
        },
        "8c32faf062254780a172f2e35f7f7922": {
          "model_module": "@jupyter-widgets/controls",
          "model_name": "ProgressStyleModel",
          "state": {
            "_view_name": "StyleView",
            "_model_name": "ProgressStyleModel",
            "description_width": "initial",
            "_view_module": "@jupyter-widgets/base",
            "_model_module_version": "1.5.0",
            "_view_count": null,
            "_view_module_version": "1.2.0",
            "bar_color": null,
            "_model_module": "@jupyter-widgets/controls"
          }
        },
        "e9057bddba6f492a8c696250f9c3f9c6": {
          "model_module": "@jupyter-widgets/base",
          "model_name": "LayoutModel",
          "state": {
            "_view_name": "LayoutView",
            "grid_template_rows": null,
            "right": null,
            "justify_content": null,
            "_view_module": "@jupyter-widgets/base",
            "overflow": null,
            "_model_module_version": "1.2.0",
            "_view_count": null,
            "flex_flow": null,
            "width": null,
            "min_width": null,
            "border": null,
            "align_items": null,
            "bottom": null,
            "_model_module": "@jupyter-widgets/base",
            "top": null,
            "grid_column": null,
            "overflow_y": null,
            "overflow_x": null,
            "grid_auto_flow": null,
            "grid_area": null,
            "grid_template_columns": null,
            "flex": null,
            "_model_name": "LayoutModel",
            "justify_items": null,
            "grid_row": null,
            "max_height": null,
            "align_content": null,
            "visibility": null,
            "align_self": null,
            "height": null,
            "min_height": null,
            "padding": null,
            "grid_auto_rows": null,
            "grid_gap": null,
            "max_width": null,
            "order": null,
            "_view_module_version": "1.2.0",
            "grid_template_areas": null,
            "object_position": null,
            "object_fit": null,
            "grid_auto_columns": null,
            "margin": null,
            "display": null,
            "left": null
          }
        },
        "df91da5477dc44f4b6bebe9618454a24": {
          "model_module": "@jupyter-widgets/controls",
          "model_name": "DescriptionStyleModel",
          "state": {
            "_view_name": "StyleView",
            "_model_name": "DescriptionStyleModel",
            "description_width": "",
            "_view_module": "@jupyter-widgets/base",
            "_model_module_version": "1.5.0",
            "_view_count": null,
            "_view_module_version": "1.2.0",
            "_model_module": "@jupyter-widgets/controls"
          }
        },
        "f66ebfcbbb3a4665b5ffe181cd9ead19": {
          "model_module": "@jupyter-widgets/base",
          "model_name": "LayoutModel",
          "state": {
            "_view_name": "LayoutView",
            "grid_template_rows": null,
            "right": null,
            "justify_content": null,
            "_view_module": "@jupyter-widgets/base",
            "overflow": null,
            "_model_module_version": "1.2.0",
            "_view_count": null,
            "flex_flow": null,
            "width": null,
            "min_width": null,
            "border": null,
            "align_items": null,
            "bottom": null,
            "_model_module": "@jupyter-widgets/base",
            "top": null,
            "grid_column": null,
            "overflow_y": null,
            "overflow_x": null,
            "grid_auto_flow": null,
            "grid_area": null,
            "grid_template_columns": null,
            "flex": null,
            "_model_name": "LayoutModel",
            "justify_items": null,
            "grid_row": null,
            "max_height": null,
            "align_content": null,
            "visibility": null,
            "align_self": null,
            "height": null,
            "min_height": null,
            "padding": null,
            "grid_auto_rows": null,
            "grid_gap": null,
            "max_width": null,
            "order": null,
            "_view_module_version": "1.2.0",
            "grid_template_areas": null,
            "object_position": null,
            "object_fit": null,
            "grid_auto_columns": null,
            "margin": null,
            "display": null,
            "left": null
          }
        },
        "7a3e48660a504d0c899a897c4d8d9c7e": {
          "model_module": "@jupyter-widgets/controls",
          "model_name": "HBoxModel",
          "state": {
            "_view_name": "HBoxView",
            "_dom_classes": [],
            "_model_name": "HBoxModel",
            "_view_module": "@jupyter-widgets/controls",
            "_model_module_version": "1.5.0",
            "_view_count": null,
            "_view_module_version": "1.5.0",
            "box_style": "",
            "layout": "IPY_MODEL_69813ff02630493bab308626121876fd",
            "_model_module": "@jupyter-widgets/controls",
            "children": [
              "IPY_MODEL_0b9c64fe5baa45f0a181304c46349c11",
              "IPY_MODEL_97a905649b6b470191b5a74954d4cdbc"
            ]
          }
        },
        "69813ff02630493bab308626121876fd": {
          "model_module": "@jupyter-widgets/base",
          "model_name": "LayoutModel",
          "state": {
            "_view_name": "LayoutView",
            "grid_template_rows": null,
            "right": null,
            "justify_content": null,
            "_view_module": "@jupyter-widgets/base",
            "overflow": null,
            "_model_module_version": "1.2.0",
            "_view_count": null,
            "flex_flow": null,
            "width": null,
            "min_width": null,
            "border": null,
            "align_items": null,
            "bottom": null,
            "_model_module": "@jupyter-widgets/base",
            "top": null,
            "grid_column": null,
            "overflow_y": null,
            "overflow_x": null,
            "grid_auto_flow": null,
            "grid_area": null,
            "grid_template_columns": null,
            "flex": null,
            "_model_name": "LayoutModel",
            "justify_items": null,
            "grid_row": null,
            "max_height": null,
            "align_content": null,
            "visibility": null,
            "align_self": null,
            "height": null,
            "min_height": null,
            "padding": null,
            "grid_auto_rows": null,
            "grid_gap": null,
            "max_width": null,
            "order": null,
            "_view_module_version": "1.2.0",
            "grid_template_areas": null,
            "object_position": null,
            "object_fit": null,
            "grid_auto_columns": null,
            "margin": null,
            "display": null,
            "left": null
          }
        },
        "0b9c64fe5baa45f0a181304c46349c11": {
          "model_module": "@jupyter-widgets/controls",
          "model_name": "FloatProgressModel",
          "state": {
            "_view_name": "ProgressView",
            "style": "IPY_MODEL_bcbc45f7c10a48eaa0408c98c23942a6",
            "_dom_classes": [],
            "description": "",
            "_model_name": "FloatProgressModel",
            "bar_style": "success",
            "max": 1,
            "_view_module": "@jupyter-widgets/controls",
            "_model_module_version": "1.5.0",
            "value": 1,
            "_view_count": null,
            "_view_module_version": "1.5.0",
            "orientation": "horizontal",
            "min": 0,
            "description_tooltip": null,
            "_model_module": "@jupyter-widgets/controls",
            "layout": "IPY_MODEL_3da1fb38c29f4c8babd3f7a9e83adacb"
          }
        },
        "97a905649b6b470191b5a74954d4cdbc": {
          "model_module": "@jupyter-widgets/controls",
          "model_name": "HTMLModel",
          "state": {
            "_view_name": "HTMLView",
            "style": "IPY_MODEL_52731a4b217e4800a9898b492fd8376e",
            "_dom_classes": [],
            "description": "",
            "_model_name": "HTMLModel",
            "placeholder": "​",
            "_view_module": "@jupyter-widgets/controls",
            "_model_module_version": "1.5.0",
            "value": " 32768/? [00:07&lt;00:00, 4182.01it/s]",
            "_view_count": null,
            "_view_module_version": "1.5.0",
            "description_tooltip": null,
            "_model_module": "@jupyter-widgets/controls",
            "layout": "IPY_MODEL_29190c992632493987f07d39715e1a29"
          }
        },
        "bcbc45f7c10a48eaa0408c98c23942a6": {
          "model_module": "@jupyter-widgets/controls",
          "model_name": "ProgressStyleModel",
          "state": {
            "_view_name": "StyleView",
            "_model_name": "ProgressStyleModel",
            "description_width": "initial",
            "_view_module": "@jupyter-widgets/base",
            "_model_module_version": "1.5.0",
            "_view_count": null,
            "_view_module_version": "1.2.0",
            "bar_color": null,
            "_model_module": "@jupyter-widgets/controls"
          }
        },
        "3da1fb38c29f4c8babd3f7a9e83adacb": {
          "model_module": "@jupyter-widgets/base",
          "model_name": "LayoutModel",
          "state": {
            "_view_name": "LayoutView",
            "grid_template_rows": null,
            "right": null,
            "justify_content": null,
            "_view_module": "@jupyter-widgets/base",
            "overflow": null,
            "_model_module_version": "1.2.0",
            "_view_count": null,
            "flex_flow": null,
            "width": null,
            "min_width": null,
            "border": null,
            "align_items": null,
            "bottom": null,
            "_model_module": "@jupyter-widgets/base",
            "top": null,
            "grid_column": null,
            "overflow_y": null,
            "overflow_x": null,
            "grid_auto_flow": null,
            "grid_area": null,
            "grid_template_columns": null,
            "flex": null,
            "_model_name": "LayoutModel",
            "justify_items": null,
            "grid_row": null,
            "max_height": null,
            "align_content": null,
            "visibility": null,
            "align_self": null,
            "height": null,
            "min_height": null,
            "padding": null,
            "grid_auto_rows": null,
            "grid_gap": null,
            "max_width": null,
            "order": null,
            "_view_module_version": "1.2.0",
            "grid_template_areas": null,
            "object_position": null,
            "object_fit": null,
            "grid_auto_columns": null,
            "margin": null,
            "display": null,
            "left": null
          }
        },
        "52731a4b217e4800a9898b492fd8376e": {
          "model_module": "@jupyter-widgets/controls",
          "model_name": "DescriptionStyleModel",
          "state": {
            "_view_name": "StyleView",
            "_model_name": "DescriptionStyleModel",
            "description_width": "",
            "_view_module": "@jupyter-widgets/base",
            "_model_module_version": "1.5.0",
            "_view_count": null,
            "_view_module_version": "1.2.0",
            "_model_module": "@jupyter-widgets/controls"
          }
        },
        "29190c992632493987f07d39715e1a29": {
          "model_module": "@jupyter-widgets/base",
          "model_name": "LayoutModel",
          "state": {
            "_view_name": "LayoutView",
            "grid_template_rows": null,
            "right": null,
            "justify_content": null,
            "_view_module": "@jupyter-widgets/base",
            "overflow": null,
            "_model_module_version": "1.2.0",
            "_view_count": null,
            "flex_flow": null,
            "width": null,
            "min_width": null,
            "border": null,
            "align_items": null,
            "bottom": null,
            "_model_module": "@jupyter-widgets/base",
            "top": null,
            "grid_column": null,
            "overflow_y": null,
            "overflow_x": null,
            "grid_auto_flow": null,
            "grid_area": null,
            "grid_template_columns": null,
            "flex": null,
            "_model_name": "LayoutModel",
            "justify_items": null,
            "grid_row": null,
            "max_height": null,
            "align_content": null,
            "visibility": null,
            "align_self": null,
            "height": null,
            "min_height": null,
            "padding": null,
            "grid_auto_rows": null,
            "grid_gap": null,
            "max_width": null,
            "order": null,
            "_view_module_version": "1.2.0",
            "grid_template_areas": null,
            "object_position": null,
            "object_fit": null,
            "grid_auto_columns": null,
            "margin": null,
            "display": null,
            "left": null
          }
        },
        "5c9fd6afe6ce4bebaec1e8a7531d9e54": {
          "model_module": "@jupyter-widgets/controls",
          "model_name": "HBoxModel",
          "state": {
            "_view_name": "HBoxView",
            "_dom_classes": [],
            "_model_name": "HBoxModel",
            "_view_module": "@jupyter-widgets/controls",
            "_model_module_version": "1.5.0",
            "_view_count": null,
            "_view_module_version": "1.5.0",
            "box_style": "",
            "layout": "IPY_MODEL_b7c213f903d04c2fa5aa9978255574f5",
            "_model_module": "@jupyter-widgets/controls",
            "children": [
              "IPY_MODEL_751d8c2c05e44dfe931f50f313bc6367",
              "IPY_MODEL_30445be09f654ba0a72bf2c8ab4a15ad"
            ]
          }
        },
        "b7c213f903d04c2fa5aa9978255574f5": {
          "model_module": "@jupyter-widgets/base",
          "model_name": "LayoutModel",
          "state": {
            "_view_name": "LayoutView",
            "grid_template_rows": null,
            "right": null,
            "justify_content": null,
            "_view_module": "@jupyter-widgets/base",
            "overflow": null,
            "_model_module_version": "1.2.0",
            "_view_count": null,
            "flex_flow": null,
            "width": null,
            "min_width": null,
            "border": null,
            "align_items": null,
            "bottom": null,
            "_model_module": "@jupyter-widgets/base",
            "top": null,
            "grid_column": null,
            "overflow_y": null,
            "overflow_x": null,
            "grid_auto_flow": null,
            "grid_area": null,
            "grid_template_columns": null,
            "flex": null,
            "_model_name": "LayoutModel",
            "justify_items": null,
            "grid_row": null,
            "max_height": null,
            "align_content": null,
            "visibility": null,
            "align_self": null,
            "height": null,
            "min_height": null,
            "padding": null,
            "grid_auto_rows": null,
            "grid_gap": null,
            "max_width": null,
            "order": null,
            "_view_module_version": "1.2.0",
            "grid_template_areas": null,
            "object_position": null,
            "object_fit": null,
            "grid_auto_columns": null,
            "margin": null,
            "display": null,
            "left": null
          }
        },
        "751d8c2c05e44dfe931f50f313bc6367": {
          "model_module": "@jupyter-widgets/controls",
          "model_name": "FloatProgressModel",
          "state": {
            "_view_name": "ProgressView",
            "style": "IPY_MODEL_39def9bfd62e489bbc33ac1420bb9ec1",
            "_dom_classes": [],
            "description": "",
            "_model_name": "FloatProgressModel",
            "bar_style": "success",
            "max": 1,
            "_view_module": "@jupyter-widgets/controls",
            "_model_module_version": "1.5.0",
            "value": 1,
            "_view_count": null,
            "_view_module_version": "1.5.0",
            "orientation": "horizontal",
            "min": 0,
            "description_tooltip": null,
            "_model_module": "@jupyter-widgets/controls",
            "layout": "IPY_MODEL_f94f1fcfbb4c492cb7f3e145fd680518"
          }
        },
        "30445be09f654ba0a72bf2c8ab4a15ad": {
          "model_module": "@jupyter-widgets/controls",
          "model_name": "HTMLModel",
          "state": {
            "_view_name": "HTMLView",
            "style": "IPY_MODEL_9e7cfbe1ef43460f8a5787bc907d383e",
            "_dom_classes": [],
            "description": "",
            "_model_name": "HTMLModel",
            "placeholder": "​",
            "_view_module": "@jupyter-widgets/controls",
            "_model_module_version": "1.5.0",
            "value": " 1654784/? [00:07&lt;00:00, 235575.23it/s]",
            "_view_count": null,
            "_view_module_version": "1.5.0",
            "description_tooltip": null,
            "_model_module": "@jupyter-widgets/controls",
            "layout": "IPY_MODEL_5cd13179b30f46fe8658de947ee7106d"
          }
        },
        "39def9bfd62e489bbc33ac1420bb9ec1": {
          "model_module": "@jupyter-widgets/controls",
          "model_name": "ProgressStyleModel",
          "state": {
            "_view_name": "StyleView",
            "_model_name": "ProgressStyleModel",
            "description_width": "initial",
            "_view_module": "@jupyter-widgets/base",
            "_model_module_version": "1.5.0",
            "_view_count": null,
            "_view_module_version": "1.2.0",
            "bar_color": null,
            "_model_module": "@jupyter-widgets/controls"
          }
        },
        "f94f1fcfbb4c492cb7f3e145fd680518": {
          "model_module": "@jupyter-widgets/base",
          "model_name": "LayoutModel",
          "state": {
            "_view_name": "LayoutView",
            "grid_template_rows": null,
            "right": null,
            "justify_content": null,
            "_view_module": "@jupyter-widgets/base",
            "overflow": null,
            "_model_module_version": "1.2.0",
            "_view_count": null,
            "flex_flow": null,
            "width": null,
            "min_width": null,
            "border": null,
            "align_items": null,
            "bottom": null,
            "_model_module": "@jupyter-widgets/base",
            "top": null,
            "grid_column": null,
            "overflow_y": null,
            "overflow_x": null,
            "grid_auto_flow": null,
            "grid_area": null,
            "grid_template_columns": null,
            "flex": null,
            "_model_name": "LayoutModel",
            "justify_items": null,
            "grid_row": null,
            "max_height": null,
            "align_content": null,
            "visibility": null,
            "align_self": null,
            "height": null,
            "min_height": null,
            "padding": null,
            "grid_auto_rows": null,
            "grid_gap": null,
            "max_width": null,
            "order": null,
            "_view_module_version": "1.2.0",
            "grid_template_areas": null,
            "object_position": null,
            "object_fit": null,
            "grid_auto_columns": null,
            "margin": null,
            "display": null,
            "left": null
          }
        },
        "9e7cfbe1ef43460f8a5787bc907d383e": {
          "model_module": "@jupyter-widgets/controls",
          "model_name": "DescriptionStyleModel",
          "state": {
            "_view_name": "StyleView",
            "_model_name": "DescriptionStyleModel",
            "description_width": "",
            "_view_module": "@jupyter-widgets/base",
            "_model_module_version": "1.5.0",
            "_view_count": null,
            "_view_module_version": "1.2.0",
            "_model_module": "@jupyter-widgets/controls"
          }
        },
        "5cd13179b30f46fe8658de947ee7106d": {
          "model_module": "@jupyter-widgets/base",
          "model_name": "LayoutModel",
          "state": {
            "_view_name": "LayoutView",
            "grid_template_rows": null,
            "right": null,
            "justify_content": null,
            "_view_module": "@jupyter-widgets/base",
            "overflow": null,
            "_model_module_version": "1.2.0",
            "_view_count": null,
            "flex_flow": null,
            "width": null,
            "min_width": null,
            "border": null,
            "align_items": null,
            "bottom": null,
            "_model_module": "@jupyter-widgets/base",
            "top": null,
            "grid_column": null,
            "overflow_y": null,
            "overflow_x": null,
            "grid_auto_flow": null,
            "grid_area": null,
            "grid_template_columns": null,
            "flex": null,
            "_model_name": "LayoutModel",
            "justify_items": null,
            "grid_row": null,
            "max_height": null,
            "align_content": null,
            "visibility": null,
            "align_self": null,
            "height": null,
            "min_height": null,
            "padding": null,
            "grid_auto_rows": null,
            "grid_gap": null,
            "max_width": null,
            "order": null,
            "_view_module_version": "1.2.0",
            "grid_template_areas": null,
            "object_position": null,
            "object_fit": null,
            "grid_auto_columns": null,
            "margin": null,
            "display": null,
            "left": null
          }
        },
        "67f08aad860a45878ad2a68ef3dd858b": {
          "model_module": "@jupyter-widgets/controls",
          "model_name": "HBoxModel",
          "state": {
            "_view_name": "HBoxView",
            "_dom_classes": [],
            "_model_name": "HBoxModel",
            "_view_module": "@jupyter-widgets/controls",
            "_model_module_version": "1.5.0",
            "_view_count": null,
            "_view_module_version": "1.5.0",
            "box_style": "",
            "layout": "IPY_MODEL_b99c5ce0e1a440e08fdb16f743ab3574",
            "_model_module": "@jupyter-widgets/controls",
            "children": [
              "IPY_MODEL_73bca369b2be4cfe88a9d4c794cf2422",
              "IPY_MODEL_e81e6211464246d188ed58a7f443e810"
            ]
          }
        },
        "b99c5ce0e1a440e08fdb16f743ab3574": {
          "model_module": "@jupyter-widgets/base",
          "model_name": "LayoutModel",
          "state": {
            "_view_name": "LayoutView",
            "grid_template_rows": null,
            "right": null,
            "justify_content": null,
            "_view_module": "@jupyter-widgets/base",
            "overflow": null,
            "_model_module_version": "1.2.0",
            "_view_count": null,
            "flex_flow": null,
            "width": null,
            "min_width": null,
            "border": null,
            "align_items": null,
            "bottom": null,
            "_model_module": "@jupyter-widgets/base",
            "top": null,
            "grid_column": null,
            "overflow_y": null,
            "overflow_x": null,
            "grid_auto_flow": null,
            "grid_area": null,
            "grid_template_columns": null,
            "flex": null,
            "_model_name": "LayoutModel",
            "justify_items": null,
            "grid_row": null,
            "max_height": null,
            "align_content": null,
            "visibility": null,
            "align_self": null,
            "height": null,
            "min_height": null,
            "padding": null,
            "grid_auto_rows": null,
            "grid_gap": null,
            "max_width": null,
            "order": null,
            "_view_module_version": "1.2.0",
            "grid_template_areas": null,
            "object_position": null,
            "object_fit": null,
            "grid_auto_columns": null,
            "margin": null,
            "display": null,
            "left": null
          }
        },
        "73bca369b2be4cfe88a9d4c794cf2422": {
          "model_module": "@jupyter-widgets/controls",
          "model_name": "FloatProgressModel",
          "state": {
            "_view_name": "ProgressView",
            "style": "IPY_MODEL_eae3b7bd0dfb4373a5dd06dd29537dcc",
            "_dom_classes": [],
            "description": "",
            "_model_name": "FloatProgressModel",
            "bar_style": "success",
            "max": 1,
            "_view_module": "@jupyter-widgets/controls",
            "_model_module_version": "1.5.0",
            "value": 1,
            "_view_count": null,
            "_view_module_version": "1.5.0",
            "orientation": "horizontal",
            "min": 0,
            "description_tooltip": null,
            "_model_module": "@jupyter-widgets/controls",
            "layout": "IPY_MODEL_ae1d3af36a124ba2a1d345a4d4be3758"
          }
        },
        "e81e6211464246d188ed58a7f443e810": {
          "model_module": "@jupyter-widgets/controls",
          "model_name": "HTMLModel",
          "state": {
            "_view_name": "HTMLView",
            "style": "IPY_MODEL_4184c1b708d64871a03b581b8f935d15",
            "_dom_classes": [],
            "description": "",
            "_model_name": "HTMLModel",
            "placeholder": "​",
            "_view_module": "@jupyter-widgets/controls",
            "_model_module_version": "1.5.0",
            "value": " 8192/? [00:03&lt;00:00, 2278.19it/s]",
            "_view_count": null,
            "_view_module_version": "1.5.0",
            "description_tooltip": null,
            "_model_module": "@jupyter-widgets/controls",
            "layout": "IPY_MODEL_422edbf56c704b3e976e3563be300d16"
          }
        },
        "eae3b7bd0dfb4373a5dd06dd29537dcc": {
          "model_module": "@jupyter-widgets/controls",
          "model_name": "ProgressStyleModel",
          "state": {
            "_view_name": "StyleView",
            "_model_name": "ProgressStyleModel",
            "description_width": "initial",
            "_view_module": "@jupyter-widgets/base",
            "_model_module_version": "1.5.0",
            "_view_count": null,
            "_view_module_version": "1.2.0",
            "bar_color": null,
            "_model_module": "@jupyter-widgets/controls"
          }
        },
        "ae1d3af36a124ba2a1d345a4d4be3758": {
          "model_module": "@jupyter-widgets/base",
          "model_name": "LayoutModel",
          "state": {
            "_view_name": "LayoutView",
            "grid_template_rows": null,
            "right": null,
            "justify_content": null,
            "_view_module": "@jupyter-widgets/base",
            "overflow": null,
            "_model_module_version": "1.2.0",
            "_view_count": null,
            "flex_flow": null,
            "width": null,
            "min_width": null,
            "border": null,
            "align_items": null,
            "bottom": null,
            "_model_module": "@jupyter-widgets/base",
            "top": null,
            "grid_column": null,
            "overflow_y": null,
            "overflow_x": null,
            "grid_auto_flow": null,
            "grid_area": null,
            "grid_template_columns": null,
            "flex": null,
            "_model_name": "LayoutModel",
            "justify_items": null,
            "grid_row": null,
            "max_height": null,
            "align_content": null,
            "visibility": null,
            "align_self": null,
            "height": null,
            "min_height": null,
            "padding": null,
            "grid_auto_rows": null,
            "grid_gap": null,
            "max_width": null,
            "order": null,
            "_view_module_version": "1.2.0",
            "grid_template_areas": null,
            "object_position": null,
            "object_fit": null,
            "grid_auto_columns": null,
            "margin": null,
            "display": null,
            "left": null
          }
        },
        "4184c1b708d64871a03b581b8f935d15": {
          "model_module": "@jupyter-widgets/controls",
          "model_name": "DescriptionStyleModel",
          "state": {
            "_view_name": "StyleView",
            "_model_name": "DescriptionStyleModel",
            "description_width": "",
            "_view_module": "@jupyter-widgets/base",
            "_model_module_version": "1.5.0",
            "_view_count": null,
            "_view_module_version": "1.2.0",
            "_model_module": "@jupyter-widgets/controls"
          }
        },
        "422edbf56c704b3e976e3563be300d16": {
          "model_module": "@jupyter-widgets/base",
          "model_name": "LayoutModel",
          "state": {
            "_view_name": "LayoutView",
            "grid_template_rows": null,
            "right": null,
            "justify_content": null,
            "_view_module": "@jupyter-widgets/base",
            "overflow": null,
            "_model_module_version": "1.2.0",
            "_view_count": null,
            "flex_flow": null,
            "width": null,
            "min_width": null,
            "border": null,
            "align_items": null,
            "bottom": null,
            "_model_module": "@jupyter-widgets/base",
            "top": null,
            "grid_column": null,
            "overflow_y": null,
            "overflow_x": null,
            "grid_auto_flow": null,
            "grid_area": null,
            "grid_template_columns": null,
            "flex": null,
            "_model_name": "LayoutModel",
            "justify_items": null,
            "grid_row": null,
            "max_height": null,
            "align_content": null,
            "visibility": null,
            "align_self": null,
            "height": null,
            "min_height": null,
            "padding": null,
            "grid_auto_rows": null,
            "grid_gap": null,
            "max_width": null,
            "order": null,
            "_view_module_version": "1.2.0",
            "grid_template_areas": null,
            "object_position": null,
            "object_fit": null,
            "grid_auto_columns": null,
            "margin": null,
            "display": null,
            "left": null
          }
        }
      }
    }
  },
  "nbformat": 4,
  "nbformat_minor": 0
}