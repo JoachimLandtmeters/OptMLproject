{
 "cells": [
  {
   "cell_type": "code",
   "execution_count": 8,
   "metadata": {},
   "outputs": [],
   "source": [
    "import numpy as np\n",
    "import matplotlib.pyplot as plt\n",
    "\n"
   ]
  },
  {
   "cell_type": "code",
   "execution_count": 9,
   "metadata": {},
   "outputs": [],
   "source": [
    "testacc = np.loadtxt(\"LBFGS_minibatch_fcNN_testacc.txt\")\n",
    "train = np.loadtxt(\"LBFGS_minibatch_fcNN_trainacc.txt\")"
   ]
  },
  {
   "cell_type": "code",
   "execution_count": 16,
   "metadata": {},
   "outputs": [
    {
     "data": {
      "image/png": "[encoded data removed]",
      "text/plain": [
       "<Figure size 432x288 with 1 Axes>"
      ]
     },
     "metadata": {
      "needs_background": "light"
     },
     "output_type": "display_data"
    }
   ],
   "source": [
    "for i in range(np.shape(testacc)[0]):\n",
    "    plt.plot(testacc[i])"
   ]
  },
  {
   "cell_type": "code",
   "execution_count": 15,
   "metadata": {},
   "outputs": [
    {
     "data": {
      "text/plain": [
       "3"
      ]
     },
     "execution_count": 15,
     "metadata": {},
     "output_type": "execute_result"
    }
   ],
   "source": [
    "np.shape(testacc)[0]"
   ]
  },
  {
   "cell_type": "code",
   "execution_count": null,
   "metadata": {},
   "outputs": [],
   "source": [
    "i = 0\n",
    "for bs_index,bs in enumerate(minibatch_size_grid):\n",
    "    for hs_index,hs in enumerate(history_size_grid):\n",
    "        plt.figure(1, figsize = (12,10))\n",
    "        plt.plot(test_loss_fcnn[i],label='bs = {}, hs = {}'.format(bs,hs))\n",
    "        plt.figure(2, figsize = (12,10))\n",
    "        plt.plot(training_loss_fcnn[i],label='bs = {}, hs = {}'.format(bs,hs))\n",
    "        plt.figure(3, figsize = (12,10))\n",
    "        plt.plot(test_accuracy_fcnn[i],label='bs = {}, hs = {}'.format(bs,hs))\n",
    "        plt.figure(4, figsize = (12,10))\n",
    "        plt.plot(training_accuracy_fcnn[i],label='bs = {}, hs = {}'.format(bs,hs))\n",
    "        i+=1\n",
    "\n",
    "plt.figure(1)\n",
    "plt.xlabel('Epochs')\n",
    "plt.ylabel('Test Loss')\n",
    "plt.title('Minibatch LBFGS Test loss in FCNN for different batch sizes and history sizes',fontsize = 20)\n",
    "plt.legend(loc='center left', bbox_to_anchor=(1, 0.5))\n",
    "plt.savefig(\"mini_LBFGS_test_loss_fcnn.jpg\")\n",
    "plt.figure (2)\n",
    "plt.xlabel('Epochs')\n",
    "plt.ylabel('Train Loss')\n",
    "plt.title('Minibatch LBFGS Train loss in FCNN for different batch sizes and history sizes',fontsize = 20)\n",
    "plt.legend(loc='center left', bbox_to_anchor=(1, 0.5))\n",
    "plt.savefig(\"mini_LBFGS_train_loss_fcnn.jpg\")\n",
    "plt.figure (3)\n",
    "plt.xlabel('Epochs')\n",
    "plt.ylabel('Test Accuracy')\n",
    "plt.title('Minibatch LBFGS Test accuracy in FCNN for different batch sizes and history sizes',fontsize = 20)\n",
    "plt.legend(loc='center left', bbox_to_anchor=(1, 0.5))\n",
    "plt.savefig(\"mini_LBFGS_test_acc_fcnn.jpg\")\n",
    "plt.figure (4)\n",
    "plt.xlabel('Epochs')\n",
    "plt.ylabel('Train Accuracy')\n",
    "plt.title('Minibatch LBFGS Train accuracy in FCNN for different batch sizes and history sizes',fontsize = 20)\n",
    "plt.legend(loc='center left', bbox_to_anchor=(1, 0.5))\n",
    "plt.savefig(\"mini_LBFGS_train_acc_fcnn.jpg\")"
   ]
  }
 ],
 "metadata": {
  "kernelspec": {
   "display_name": "Python 3",
   "language": "python",
   "name": "python3"
  },
  "language_info": {
   "codemirror_mode": {
    "name": "ipython",
    "version": 3
   },
   "file_extension": ".py",
   "mimetype": "text/x-python",
   "name": "python",
   "nbconvert_exporter": "python",
   "pygments_lexer": "ipython3",
   "version": "3.7.3"
  }
 },
 "nbformat": 4,
 "nbformat_minor": 2
}
